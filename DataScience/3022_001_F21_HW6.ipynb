{
 "cells": [
  {
   "cell_type": "markdown",
   "metadata": {},
   "source": [
    "<a id='top'></a>\n",
    "\n",
    "# CSCI3022 F21\n",
    "# Homework 6: Confidence Intervals and Multiple Testing\n",
    "***\n",
    "\n",
    "**Name**: Aidan Reese\n",
    "\n",
    "***\n",
    "\n",
    "This assignment is due on Canvas (as .ipynb) and Gradescope (as a .pdf) by **MIDNIGHT on Mon 1 Nov**. Your solutions to theoretical questions should be done in Markdown directly below the associated question.  Your solutions to computational questions should include any specified Python code and results as well as written commentary on your conclusions.  Remember that you are encouraged to discuss the problems with your classmates, but **you must write all code and solutions on your own**.\n",
    "\n",
    "**NOTES**: \n",
    "\n",
    "- Any relevant data sets should be available on Canvas. To make life easier on the graders if they need to run your code, do not change the relative path names here. Instead, move the files around on your computer.\n",
    "- If you're not familiar with typesetting math directly into Markdown then by all means, do your work on paper first and then typeset it later.  Here is a [reference guide](https://math.meta.stackexchange.com/questions/5020/mathjax-basic-tutorial-and-quick-reference) linked on Canvas on writing math in Markdown. **All** of your written commentary, justifications and mathematical work should be in Markdown.  I also recommend the [wikibook](https://en.wikibooks.org/wiki/LaTeX) for LaTex.\n",
    "- Because you can technically evaluate notebook cells is a non-linear order, it's a good idea to do **Kernel $\\rightarrow$ Restart & Run All** as a check before submitting your solutions.  That way if we need to run your code you will know that it will work as expected. \n",
    "- It is **bad form** to make your reader interpret numerical output from your code.  If a question asks you to compute some value from the data you should show your code output **AND** write a summary of the results in Markdown directly below your code. \n",
    "- 45 points of this assignment are in problems.  The remaining 5 are for neatness, style, and overall exposition of both code and text.\n",
    "- This probably goes without saying, but... For any question that asks you to calculate something, you **must show all work and justify your answers to receive credit**. Sparse or nonexistent work will receive sparse or nonexistent credit. \n",
    "\n",
    "---\n",
    "**Shortcuts:**  [Problem 1](#p1) | [Problem 2](#p2) | [Problem 3](#p3) |\n",
    "---"
   ]
  },
  {
   "cell_type": "code",
   "execution_count": 1,
   "metadata": {},
   "outputs": [],
   "source": [
    "import numpy as np\n",
    "import pandas as pd\n",
    "import matplotlib.pylab as plt\n",
    "import scipy.stats as stats\n",
    "import itertools #for looping, if desired\n",
    "%matplotlib inline"
   ]
  },
  {
   "cell_type": "markdown",
   "metadata": {},
   "source": [
    "[Back to top](#top)\n",
    "<a/ id='p1'></a>\n",
    "\n",
    "## (10 pts) Problem 1: Confidence Interval Theory\n",
    "\n",
    "**Part A** (3 pts):\n",
    "In general, which is wider: a 95% confidence interval or a 99% confidence interval? How would you explain this to your younger sibling, who is not a statistician?   Use **plain English**."
   ]
  },
  {
   "cell_type": "markdown",
   "metadata": {},
   "source": [
    "The confidence interval is a window of which you believe the mean to fall into.  In order to be more confident that the mean is within that window, the window needs to be bigger.  Think of throwing a dart at a board, its easier to hit the board if the board is bigger."
   ]
  },
  {
   "cell_type": "markdown",
   "metadata": {},
   "source": [
    "**Part B** (3 pts):\n",
    "\n",
    "Let $X_1, X_2, \\dots X_n$ be independent and identically distributed sample from a normal random variable $N(\\mu,1)$.\n",
    "\n",
    "\n",
    "As you've seen, A 95% confidence interval for $\\mu$ is $\\bar{x} \\pm 1.96 \\cdot \\frac{1}{\\sqrt{n}}$.\n",
    "\n",
    "Let $p$ denote the probability that an *additional* (or new) independent observation falls within this confidence interval. Is $p$ greater than, less than, or equal to 0.95? Justify your answer with both intuition and a formal mathematical statement."
   ]
  },
  {
   "cell_type": "markdown",
   "metadata": {},
   "source": [
    "Definetly less than 95%.  95% confidence interval refers to the mean and not the data as a whole, meaning the average value of the data will have a 95% chance of being there but not the next peice of data. "
   ]
  },
  {
   "cell_type": "markdown",
   "metadata": {},
   "source": [
    "**Part C** (4 pts):\n",
    "Suppose that 14 people in a sample of 91 are found to be smokers. Calculate the 90% confidence interval for the true proportion of smokers in the population from which this sample originated. Interpret this interval in a plain English sentence."
   ]
  },
  {
   "cell_type": "markdown",
   "metadata": {},
   "source": [
    "$\\frac{14}{91} \\pm Z_.05 * \\frac{.154(1-.154)}{91}$\n",
    "\n",
    "$\\frac{14}{91} \\pm 1.64 * \\frac{.154(1-.154)}{91}$\n",
    "\n",
    "$.154 \\pm 1.64 * .13$\n",
    "\n",
    "$.154 \\pm .213$\n",
    "\n",
    "$\\mu \\in (.367 , .063)$"
   ]
  },
  {
   "cell_type": "markdown",
   "metadata": {},
   "source": [
    "[Back to top](#top)\n",
    "<a/ id='p2'></a>\n",
    "\n",
    "## (20 pts) Problem 2: Using Confidence Intervals (Data)\n"
   ]
  },
  {
   "cell_type": "markdown",
   "metadata": {},
   "source": [
    "Below is one of the most famous datasets in machine learning, the Iris Flower data set gathered by Edgar Anderson to measure physical characterstics of 3 variants of Iris.  It was initially popularized by statistician Ronald Fisher and is regularly used in validating and testing different forms of data science algorithms.  In each case, we're usually interested in determining: can we use the properties in the data set\n",
    "\n",
    "1) sepal length (cm)\n",
    "\n",
    "2) sepal width (cm)\n",
    "\n",
    "3) petal length (cm)\n",
    "\n",
    "4) petal width (cm)\n",
    "\n",
    "to predict or describe **which** flower (in the `target` column) belongs to which group.\n",
    "\n",
    "...we aren't going to do prediction yet.\n",
    "\n",
    "We will instead use confidence intervals for the means of each of the 4 measurements for each of the 3 flower types and see if we can *detect* that the flowers have different mean values for each measurement. "
   ]
  },
  {
   "cell_type": "code",
   "execution_count": 15,
   "metadata": {},
   "outputs": [
    {
     "data": {
      "text/html": [
       "<div>\n",
       "<style scoped>\n",
       "    .dataframe tbody tr th:only-of-type {\n",
       "        vertical-align: middle;\n",
       "    }\n",
       "\n",
       "    .dataframe tbody tr th {\n",
       "        vertical-align: top;\n",
       "    }\n",
       "\n",
       "    .dataframe thead th {\n",
       "        text-align: right;\n",
       "    }\n",
       "</style>\n",
       "<table border=\"1\" class=\"dataframe\">\n",
       "  <thead>\n",
       "    <tr style=\"text-align: right;\">\n",
       "      <th></th>\n",
       "      <th>sepal length (cm)</th>\n",
       "      <th>sepal width (cm)</th>\n",
       "      <th>petal length (cm)</th>\n",
       "      <th>petal width (cm)</th>\n",
       "      <th>target</th>\n",
       "    </tr>\n",
       "  </thead>\n",
       "  <tbody>\n",
       "    <tr>\n",
       "      <th>0</th>\n",
       "      <td>5.1</td>\n",
       "      <td>3.5</td>\n",
       "      <td>1.4</td>\n",
       "      <td>0.2</td>\n",
       "      <td>0</td>\n",
       "    </tr>\n",
       "    <tr>\n",
       "      <th>1</th>\n",
       "      <td>4.9</td>\n",
       "      <td>3.0</td>\n",
       "      <td>1.4</td>\n",
       "      <td>0.2</td>\n",
       "      <td>0</td>\n",
       "    </tr>\n",
       "    <tr>\n",
       "      <th>2</th>\n",
       "      <td>4.7</td>\n",
       "      <td>3.2</td>\n",
       "      <td>1.3</td>\n",
       "      <td>0.2</td>\n",
       "      <td>0</td>\n",
       "    </tr>\n",
       "    <tr>\n",
       "      <th>3</th>\n",
       "      <td>4.6</td>\n",
       "      <td>3.1</td>\n",
       "      <td>1.5</td>\n",
       "      <td>0.2</td>\n",
       "      <td>0</td>\n",
       "    </tr>\n",
       "    <tr>\n",
       "      <th>4</th>\n",
       "      <td>5.0</td>\n",
       "      <td>3.6</td>\n",
       "      <td>1.4</td>\n",
       "      <td>0.2</td>\n",
       "      <td>0</td>\n",
       "    </tr>\n",
       "  </tbody>\n",
       "</table>\n",
       "</div>"
      ],
      "text/plain": [
       "   sepal length (cm)  sepal width (cm)  petal length (cm)  petal width (cm)  \\\n",
       "0                5.1               3.5                1.4               0.2   \n",
       "1                4.9               3.0                1.4               0.2   \n",
       "2                4.7               3.2                1.3               0.2   \n",
       "3                4.6               3.1                1.5               0.2   \n",
       "4                5.0               3.6                1.4               0.2   \n",
       "\n",
       "   target  \n",
       "0       0  \n",
       "1       0  \n",
       "2       0  \n",
       "3       0  \n",
       "4       0  "
      ]
     },
     "execution_count": 15,
     "metadata": {},
     "output_type": "execute_result"
    }
   ],
   "source": [
    "from sklearn.datasets import load_iris\n",
    "#With a recent install of sklearn and pandas, this line will make your data frame\n",
    "df = load_iris(as_frame=True)['frame']\n",
    "\n",
    "#NOTE: if using an older version of python/SKL, you may need to run these instead:\n",
    "# dat = load_iris()\n",
    "# df = pd.DataFrame(data=dat.data, columns=dat.feature_names)\n",
    "# df['target']=dat.target\n",
    "df.head()\n"
   ]
  },
  {
   "cell_type": "markdown",
   "metadata": {},
   "source": [
    "**Part A:**\n",
    "Create a table of comparisons that hold the confidence intervals for the difference in means $\\mu_A-\\mu_B$ across each measurement for each pair of flowers.  In other words, fill in the following table:\n",
    "\n",
    "|CI: | $\\mu_0$ vs. $\\mu_1$ | $\\mu_0$ vs. $\\mu_2$ | $\\mu_1$ vs. $\\mu_2$ |\n",
    "| --- | --- | --- | --- |\n",
    "|sepal length | (CI,CI) | (CI,CI)  | (CI,CI)  |\n",
    "|sepal width | (CI,CI) | (CI,CI)  | (CI,CI)  |\n",
    "|petal length | (CI,CI) | (CI,CI)  | (CI,CI)  |\n",
    "|petal width | (CI,CI) | (CI,CI)  | (CI,CI)  |\n",
    "\n"
   ]
  },
  {
   "cell_type": "code",
   "execution_count": 23,
   "metadata": {},
   "outputs": [
    {
     "data": {
      "text/html": [
       "<div>\n",
       "<style scoped>\n",
       "    .dataframe tbody tr th:only-of-type {\n",
       "        vertical-align: middle;\n",
       "    }\n",
       "\n",
       "    .dataframe tbody tr th {\n",
       "        vertical-align: top;\n",
       "    }\n",
       "\n",
       "    .dataframe thead th {\n",
       "        text-align: right;\n",
       "    }\n",
       "</style>\n",
       "<table border=\"1\" class=\"dataframe\">\n",
       "  <thead>\n",
       "    <tr style=\"text-align: right;\">\n",
       "      <th></th>\n",
       "      <th>Mu0 vs Mu1</th>\n",
       "      <th>Mu0 vs Mu2</th>\n",
       "      <th>Mu1 vs Mu2</th>\n",
       "    </tr>\n",
       "  </thead>\n",
       "  <tbody>\n",
       "    <tr>\n",
       "      <th>sepal length</th>\n",
       "      <td>0.930</td>\n",
       "      <td>1.582</td>\n",
       "      <td>0.652</td>\n",
       "    </tr>\n",
       "    <tr>\n",
       "      <th>sepal width</th>\n",
       "      <td>0.658</td>\n",
       "      <td>0.454</td>\n",
       "      <td>0.204</td>\n",
       "    </tr>\n",
       "    <tr>\n",
       "      <th>petal length</th>\n",
       "      <td>0.136</td>\n",
       "      <td>0.564</td>\n",
       "      <td>1.292</td>\n",
       "    </tr>\n",
       "    <tr>\n",
       "      <th>petal width</th>\n",
       "      <td>1.080</td>\n",
       "      <td>1.780</td>\n",
       "      <td>0.700</td>\n",
       "    </tr>\n",
       "  </tbody>\n",
       "</table>\n",
       "</div>"
      ],
      "text/plain": [
       "              Mu0 vs Mu1  Mu0 vs Mu2  Mu1 vs Mu2\n",
       "sepal length       0.930       1.582       0.652\n",
       "sepal width        0.658       0.454       0.204\n",
       "petal length       0.136       0.564       1.292\n",
       "petal width        1.080       1.780       0.700"
      ]
     },
     "execution_count": 23,
     "metadata": {},
     "output_type": "execute_result"
    }
   ],
   "source": [
    "\n",
    "\n",
    "df0 = df.loc[df['target'] == 0]\n",
    "df1 = df.loc[df['target'] == 1]\n",
    "df2 = df.loc[df['target'] == 2]\n",
    "\n",
    "sepLen0 = df0[\"sepal length (cm)\"].sum()/50\n",
    "sepLen1 = df1[\"sepal length (cm)\"].sum()/50\n",
    "sepLen2 = df2[\"sepal length (cm)\"].sum()/50\n",
    "\n",
    "sepWid0 = df0[\"sepal width (cm)\"].sum()/50\n",
    "sepWid1 = df1[\"sepal width (cm)\"].sum()/50\n",
    "sepWid2 = df2[\"sepal width (cm)\"].sum()/50\n",
    "\n",
    "petLen0 = df0[\"petal length (cm)\"].sum()/50\n",
    "petLen1 = df1[\"petal length (cm)\"].sum()/50\n",
    "petLen2 = df2[\"petal length (cm)\"].sum()/50\n",
    "\n",
    "petWid0 = df0[\"petal width (cm)\"].sum()/50\n",
    "petWid1 = df1[\"petal width (cm)\"].sum()/50\n",
    "petWid2 = df2[\"petal width (cm)\"].sum()/50\n",
    "\n",
    "\n",
    "CI = {'Mu0 vs Mu1': [abs(sepLen0-sepLen1), abs(sepWid0-sepWid1), abs(petLen0-petWid1), abs(petWid0-petWid1)],\n",
    "      'Mu0 vs Mu2': [abs(sepLen0-sepLen2), abs(sepWid0-sepWid2), abs(petLen0-petWid2), abs(petWid0-petWid2)],\n",
    "      'Mu1 vs Mu2': [abs(sepLen1-sepLen2), abs(sepWid1-sepWid2), abs(petLen1-petLen2), abs(petWid1-petWid2)]}\n",
    "CIdf = pd.DataFrame(data=CI)\n",
    "CIdf.index = ['sepal length', 'sepal width', 'petal length', 'petal width']\n",
    "CIdf.head()"
   ]
  },
  {
   "cell_type": "markdown",
   "metadata": {},
   "source": [
    "**Part B:** \n",
    "For each **pair** of iris types, how many of their characteristics differed versus were the same?  You should find that we are typically able to differentiate the **means** of the flowers.\n",
    "\n",
    "Make two side-by-side plots of the data, where the left-hand plot is of sepal width vs. sepal length and the right-hand plot is of petal width vs. petal length.  Color each plot by the `target` column of flower type.  *Classfication* problems are often interested in more than just the means, but how well we could differentiate between the individual flowers, which may overlap on an individual-by-individual basis!"
   ]
  },
  {
   "cell_type": "code",
   "execution_count": 44,
   "metadata": {},
   "outputs": [
    {
     "data": {
      "text/plain": [
       "<matplotlib.axes._subplots.AxesSubplot at 0x24130fe8190>"
      ]
     },
     "execution_count": 44,
     "metadata": {},
     "output_type": "execute_result"
    },
    {
     "data": {
      "image/png": "[encoded data removed]",
      "text/plain": [
       "<Figure size 576x288 with 2 Axes>"
      ]
     },
     "metadata": {
      "needs_background": "light"
     },
     "output_type": "display_data"
    }
   ],
   "source": [
    "fig, axis = plt.subplots(nrows=1, ncols=2, figsize=(8,4))\n",
    "\n",
    "df0.plot(kind='scatter',y='sepal length (cm)',x='sepal width (cm)', ax=axis[0])\n",
    "df1.plot(kind='scatter',y='sepal length (cm)',x='sepal width (cm)',color = 'red', ax=axis[0])\n",
    "df2.plot(kind='scatter',y='sepal length (cm)',x='sepal width (cm)',color = 'green', ax=axis[0])\n",
    "\n",
    "df0.plot(kind='scatter',y='petal length (cm)',x='petal width (cm)', ax=axis[1])\n",
    "df1.plot(kind='scatter',y='petal length (cm)',x='petal width (cm)',color = 'red', ax=axis[1])\n",
    "df2.plot(kind='scatter',y='petal length (cm)',x='petal width (cm)',color = 'green', ax=axis[1])"
   ]
  },
  {
   "cell_type": "markdown",
   "metadata": {},
   "source": [
    "**Part C:** \n",
    "The above table had 12 different confidence intervals to draw, and we allowed each to have a confidence of 95%.  What is the probability that each and every interval contained the true $\\mu$?\n",
    "\n",
    "*Hint: this is **not** the same question as follows in Part D*"
   ]
  },
  {
   "cell_type": "markdown",
   "metadata": {},
   "source": [
    "$(.95)^{12}$ = .54"
   ]
  },
  {
   "cell_type": "markdown",
   "metadata": {},
   "source": [
    "**Part D:** \n",
    "Suppose we are planning to gather a large data set, where we will construct 12 confidence intervals for the respective means $\\mu_i$ of 12 independent random samples, each of which is constructed at a 95% confidence.\n",
    "\n",
    "What is the probability that **at least one** interval does not end up covering the true mean $\\mu$ for that feature?"
   ]
  },
  {
   "cell_type": "markdown",
   "metadata": {},
   "source": [
    "$1-(.95)^{12}$ = .46"
   ]
  },
  {
   "cell_type": "markdown",
   "metadata": {
    "collapsed": true
   },
   "source": [
    "[Back to top](#top)\n",
    "<a/ id='p3'></a>\n",
    "\n",
    "## (15 pts) Problem 3: Simulation of Random Variables (Simulation)\n",
    "\n",
    "The CDF is a function $F(x)$ where we input *outcomes* $x$ and we get probabilities regarding those outcomes (specifically, the probability of all possible outcomes up to $x$).  But this is a question we also often want to ask **backwards**: given a probability, can we specify the $x$ value that holds \"that much\" of the probability of $X$?  The CDF is a function with a domain of \"possible values of $X$\" and a range of [0,1] since it returns probabilities.  Its inverse function, then, has domain [0,1] and range over all the $X$ values.  This inverse function is the function that we could input probabilities to and it would tell us about corresponding $X$-values.\n",
    "\n",
    "This is how random variables are often created by your computer, which is itself (generally) only good at creating random continuous uniforms $Y\\sim[0,1]$.  But if we consider $Y$ as a random *probability*, we can convert it into an *outcome* of a random variable by plugging it into the inverse of the cdf.\n",
    "\n",
    "**Part A:**\n",
    "\n",
    "You've seen the inverse of the cdf before when the random variables were normally distributed!  This is exactly what lives in `stats.norm.ppf(x)`.\n",
    "\n",
    "Simulate 10,000 random uniforms on [0,1] using numpy's `np.random.rand`.  Then plug them into `stats.norm.ppf(x)` and create a histogram of the results, overlaying the pdf of the standard normal.  Does it look like this converted your uniforms into random normals?"
   ]
  },
  {
   "cell_type": "code",
   "execution_count": 102,
   "metadata": {},
   "outputs": [
    {
     "data": {
      "text/plain": [
       "(array([1.000e+00, 1.000e+00, 4.000e+00, 1.300e+01, 3.500e+01, 1.490e+02,\n",
       "        3.140e+02, 6.090e+02, 1.052e+03, 1.359e+03, 1.675e+03, 1.587e+03,\n",
       "        1.325e+03, 8.880e+02, 5.590e+02, 2.610e+02, 1.240e+02, 2.800e+01,\n",
       "        1.100e+01, 5.000e+00]),\n",
       " array([-4.5538053 , -4.13592154, -3.71803777, -3.300154  , -2.88227023,\n",
       "        -2.46438646, -2.04650269, -1.62861892, -1.21073515, -0.79285139,\n",
       "        -0.37496762,  0.04291615,  0.46079992,  0.87868369,  1.29656746,\n",
       "         1.71445123,  2.13233499,  2.55021876,  2.96810253,  3.3859863 ,\n",
       "         3.80387007]),\n",
       " <a list of 20 Patch objects>)"
      ]
     },
     "execution_count": 102,
     "metadata": {},
     "output_type": "execute_result"
    },
    {
     "data": {
      "image/png": "[encoded data removed]",
      "text/plain": [
       "<Figure size 432x288 with 1 Axes>"
      ]
     },
     "metadata": {
      "needs_background": "light"
     },
     "output_type": "display_data"
    }
   ],
   "source": [
    "data = []\n",
    "data2 = []\n",
    "for i in range(0,10000):\n",
    "    x = np.random.rand()\n",
    "    data.append(x)\n",
    "for i in range(0,10000):\n",
    "    x = stats.norm.ppf(data[i])\n",
    "    data2.append(x)\n",
    "plt.hist(data2, alpha = .5, bins = 20)"
   ]
  },
  {
   "cell_type": "markdown",
   "metadata": {},
   "source": [
    "**Part B:**\n",
    "\n",
    "To turn random uniforms into *any* random variable, we just need to actually compute by hand the .ppf function.  Take, for example, the exponential distribution, given by:\n",
    "\n",
    "$$f(x)= \\lambda e^{-\\lambda x} \\quad \\text{ for } x \\geq 0$$\n",
    "\n",
    "Compute **by hand** the cdf of the exponential distribution, and find that functions' *inverse*.  \n",
    "\n",
    "(Recall: the inverse of a function $y=f(x)$ can be found in practice by \"swapping\" $y$ and $x$ and then solving for $y$ in its new location.)"
   ]
  },
  {
   "cell_type": "markdown",
   "metadata": {},
   "source": [
    "$ 1-e^{- \\lambda x}$\n",
    "\n",
    "$x = 1-e^{- \\lambda y}$\n",
    "\n",
    "$y = - \\frac{ln(-x+1)}{\\lambda}$"
   ]
  },
  {
   "cell_type": "markdown",
   "metadata": {},
   "source": [
    "**Part C:**\n",
    "\n",
    "1) Simulate 10,000 random uniforms on [0,1] using numpy's `np.random.rand`.  Then plug them into `stats.expon.ppf` for $\\lambda=3$ and create a (density) histogram of the results\n",
    "\n",
    "2) Simulate another 10,000 random uniforms on [0,1] using numpy's `np.random.rand`.  Then plug them into the inverse cdf with $\\lambda=3$ you found by hand in part **B**, and overlay a (density) histogram of the results on your already created plot.\n",
    "\n",
    "3) Overlay the pdf of the $\\lambda=3$ exponential random variable"
   ]
  },
  {
   "cell_type": "code",
   "execution_count": 113,
   "metadata": {},
   "outputs": [
    {
     "data": {
      "text/plain": [
       "(array([4.235e+03, 2.493e+03, 1.363e+03, 7.900e+02, 4.910e+02, 2.580e+02,\n",
       "        1.590e+02, 9.700e+01, 3.900e+01, 3.200e+01, 2.200e+01, 7.000e+00,\n",
       "        7.000e+00, 1.000e+00, 1.000e+00, 2.000e+00, 2.000e+00, 0.000e+00,\n",
       "        0.000e+00, 1.000e+00]),\n",
       " array([ 3.00011786,  3.54324956,  4.08638126,  4.62951296,  5.17264466,\n",
       "         5.71577636,  6.25890807,  6.80203977,  7.34517147,  7.88830317,\n",
       "         8.43143487,  8.97456657,  9.51769827, 10.06082998, 10.60396168,\n",
       "        11.14709338, 11.69022508, 12.23335678, 12.77648848, 13.31962018,\n",
       "        13.86275189]),\n",
       " <a list of 20 Patch objects>)"
      ]
     },
     "execution_count": 113,
     "metadata": {},
     "output_type": "execute_result"
    },
    {
     "data": {
      "image/png": "[encoded data removed]",
      "text/plain": [
       "<Figure size 432x288 with 1 Axes>"
      ]
     },
     "metadata": {
      "needs_background": "light"
     },
     "output_type": "display_data"
    }
   ],
   "source": [
    "data = []\n",
    "data2 = []\n",
    "data3 = []\n",
    "for i in range(0,10000):\n",
    "    x = np.random.rand()\n",
    "    data.append(x)\n",
    "for i in range(0,10000):\n",
    "    x = stats.expon.ppf(data[i],3)\n",
    "    data2.append(x)\n",
    "for i in range(0,10000):\n",
    "    x = ((np.log((-data[i])+1)/3))\n",
    "    data3.append(x)\n",
    "\n",
    "plt.hist(data3, alpha = .5, bins = 20)\n",
    "plt.hist(data2, alpha = .5, bins = 20)\n",
    "\n"
   ]
  },
  {
   "cell_type": "markdown",
   "metadata": {},
   "source": [
    "**Part D:**\n",
    "\n",
    "Suppose we have a *Bernoulli* random variable $X$ with probability $p=.7$.  Plot the cdf of this random variable.  What would be the inverse of this function?\n",
    "\n",
    "Could we still use the logic of the earlier parts of the problem to convert a $Y\\sim[0,1]$ random variable into a Bernoulli?  Explain, and explain how such a process might generalize to other discrete random variables such as the Geometric."
   ]
  },
  {
   "cell_type": "markdown",
   "metadata": {},
   "source": [
    "The inverse of the function would just be p, as the CDF is 1-p.  Therefore we can't really use the same logic as weve been using on on the bernoulli.   However to generalize for other functions we can still do the inverse algebra with respect to P instead of Y."
   ]
  },
  {
   "cell_type": "markdown",
   "metadata": {},
   "source": [
    "**Solution Markdown**:"
   ]
  }
 ],
 "metadata": {
  "kernelspec": {
   "display_name": "Python 3",
   "language": "python",
   "name": "python3"
  },
  "language_info": {
   "codemirror_mode": {
    "name": "ipython",
    "version": 3
   },
   "file_extension": ".py",
   "mimetype": "text/x-python",
   "name": "python",
   "nbconvert_exporter": "python",
   "pygments_lexer": "ipython3",
   "version": "3.8.3"
  }
 },
 "nbformat": 4,
 "nbformat_minor": 2
}
