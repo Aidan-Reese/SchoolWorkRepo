{
 "cells": [
  {
   "cell_type": "markdown",
   "metadata": {},
   "source": [
    "<a id='top'></a>\n",
    "\n",
    "# CSCI 3022: Intro to Data Science - Fall 2021 Final Exam Coding\n",
    "***\n",
    "\n",
    "This exam coding segment is due on Canvas by **11:59 PM on Tuesday December 14*. Your solutions to theoretical questions should be done in Markdown/MathJax directly below the associated question.  Your solutions to computational questions should include any specified Python code and results as well as written commentary on your conclusions.  \n",
    "\n",
    "\n",
    "Note: There are a number of images in this problem.  If you can't get them to display properly, they are hosted [here](https://drive.google.com/drive/folders/1M4kBMd23roiDVnfbYQmPmzsR1bPZAxzX?usp=sharing).  \n",
    "\n",
    "**Here are the rules:** \n",
    "\n",
    "1. All work, code and analysis, must be your own. \n",
    "2. You may use your course notes, posted lecture slides, textbooks, in-class notebooks, and homework solutions as resources.  You may also search online for answers to general knowledge questions like the form of a probability distribution function or how to perform a particular operation in Python/Pandas. \n",
    "3. This is meant to be like a coding portion of your midterm exam. So, the instructional team will be a bit less helpful than we typically are with homework. For example, we will not check answers, significantly debug your code, and so on.  But please don't feel like you're totally alone on this: feel free to ask questions or ask for help, and we will decide how best to provide that assistance.\n",
    "4. If something is left open-ended, it is because we want to see how you approach the kinds of problems you will encounter in the wild, where it will not always be clear what sort of tests/methods should be applied. Feel free to ask clarifying questions though.\n",
    "5. You may **NOT** post to message boards or other online resources asking for help.\n",
    "6. You may **NOT** copy-paste solutions *from anywhere*.\n",
    "7. You may **NOT** collaborate with classmates or anyone else.\n",
    "8. In short, **your work must be your own**. It really is that simple.\n",
    "\n",
    "Violation of the above rules will result in an immediate academic sanction (*at the very least*, you will receive a 0 on this exam coding assignment or an F in the course, depending on severity), and a trip to the Honor Code Council.\n",
    "\n",
    "**By submitting this assignment, you agree to abide by the rules given above.**\n",
    "\n",
    "***\n",
    "\n",
    "**NOTES**: \n",
    "\n",
    "- You may not use late days on the exam coding nor can you drop your exam coding grades. \n",
    "- If you have a question for us, post it as a **PRIVATE** message on Piazza.  If we decide that the question is appropriate for the entire class, then we will add it to a exam coding clarifications thread. (NB: you should use public posts for the epidemiology \"warmup\" prompts).\n",
    "- Do **NOT** load or use any Python packages that are not available in Anaconda 3.6. The exam coding assignmnet is designed to be completed using only the packages in the first given code cell.\n",
    "- Some problems with code may be autograded.  If we provide a function API **do not** change it.  If we do not provide a function API then you're free to structure your code however you like. \n",
    "- Submit only this Jupyter notebook to Canvas.  Do not compress it using tar, rar, zip, etc. \n",
    "- This should go without saying, but... For any question that asks you to calculate something, you **must show all work to receive credit**. Sparse or nonexistent work will receive sparse or nonexistent credit.\n",
    "\n",
    "---\n",
    "**Shortcuts:**  [Problem 1](#p1) | [Problem 2](#p2) | [Problem 3](#p2) | [Bottom](#bot)\n",
    "\n",
    "---"
   ]
  },
  {
   "cell_type": "code",
   "execution_count": null,
   "metadata": {},
   "outputs": [],
   "source": [
    "import numpy as np \n",
    "import pandas as pd \n",
    "from scipy import stats\n",
    "import statsmodels.api as sm\n",
    "from statsmodels.stats.outliers_influence import variance_inflation_factor\n",
    "import matplotlib.pylab as plt \n",
    "from patsy import dmatrices\n",
    "import seaborn as sns\n",
    "import itertools\n",
    "%matplotlib inline\n",
    "\n",
    "#imported variance_inflation_factor"
   ]
  },
  {
   "cell_type": "markdown",
   "metadata": {},
   "source": [
    "<br>\n",
    "\n",
    "---\n",
    "[Back to top](#top)\n",
    "<a id='p1'></a>\n",
    "\n",
    "## [30 points] Problem 1: Automating a fit\n",
    "\n",
    "** 1 A: Here's some data!**\n",
    "\n",
    "Load the data in `not_so_linear.csv` and create an (x,y) scatter plot of it.  \n",
    "\n",
    "The data come from a  NIST study, where the variable `y` is ultrasonic response when subjected to `x` of metal distance.\n",
    "\n",
    "It's pretty clear that $y$ is **a** function of $x$, but it's not a straight line!  So we may want to ask: what is the **best** polynomial of the form $$y=\\beta_0+\\beta_1\\cdot x +\\beta_2\\cdot x ^2 +\\beta_3\\cdot x ^3 +\\dots +\\beta_n\\cdot x^n$$\n",
    "to capture the data.\n",
    "\n"
   ]
  },
  {
   "cell_type": "code",
   "execution_count": 21,
   "metadata": {},
   "outputs": [
    {
     "data": {
      "text/html": [
       "<div>\n",
       "<style scoped>\n",
       "    .dataframe tbody tr th:only-of-type {\n",
       "        vertical-align: middle;\n",
       "    }\n",
       "\n",
       "    .dataframe tbody tr th {\n",
       "        vertical-align: top;\n",
       "    }\n",
       "\n",
       "    .dataframe thead th {\n",
       "        text-align: right;\n",
       "    }\n",
       "</style>\n",
       "<table border=\"1\" class=\"dataframe\">\n",
       "  <thead>\n",
       "    <tr style=\"text-align: right;\">\n",
       "      <th></th>\n",
       "      <th>y</th>\n",
       "      <th>x</th>\n",
       "    </tr>\n",
       "  </thead>\n",
       "  <tbody>\n",
       "    <tr>\n",
       "      <th>0</th>\n",
       "      <td>92.9</td>\n",
       "      <td>0.500</td>\n",
       "    </tr>\n",
       "    <tr>\n",
       "      <th>1</th>\n",
       "      <td>78.7</td>\n",
       "      <td>0.625</td>\n",
       "    </tr>\n",
       "    <tr>\n",
       "      <th>2</th>\n",
       "      <td>64.2</td>\n",
       "      <td>0.750</td>\n",
       "    </tr>\n",
       "    <tr>\n",
       "      <th>3</th>\n",
       "      <td>64.9</td>\n",
       "      <td>0.875</td>\n",
       "    </tr>\n",
       "    <tr>\n",
       "      <th>4</th>\n",
       "      <td>57.1</td>\n",
       "      <td>1.000</td>\n",
       "    </tr>\n",
       "  </tbody>\n",
       "</table>\n",
       "</div>"
      ],
      "text/plain": [
       "      y      x\n",
       "0  92.9  0.500\n",
       "1  78.7  0.625\n",
       "2  64.2  0.750\n",
       "3  64.9  0.875\n",
       "4  57.1  1.000"
      ]
     },
     "execution_count": 21,
     "metadata": {},
     "output_type": "execute_result"
    }
   ],
   "source": [
    "#plot data here.\n",
    "df=pd.read_csv('../data/not_so_linear.csv')\n",
    "df.head()"
   ]
  },
  {
   "cell_type": "code",
   "execution_count": 24,
   "metadata": {},
   "outputs": [
    {
     "data": {
      "text/plain": [
       "<matplotlib.collections.PathCollection at 0x1f24c764d00>"
      ]
     },
     "execution_count": 24,
     "metadata": {},
     "output_type": "execute_result"
    },
    {
     "data": {
      "image/png": "[encoded data removed]",
      "text/plain": [
       "<Figure size 432x288 with 1 Axes>"
      ]
     },
     "metadata": {
      "needs_background": "light"
     },
     "output_type": "display_data"
    }
   ],
   "source": [
    "y, xTv = dmatrices('y ~ x', data = df)\n",
    "lml = sm.OLS(y,xTv).fit()\n",
    "plt.scatter(x=\"x\",y=\"y\", data = df)\n",
    "\n"
   ]
  },
  {
   "cell_type": "markdown",
   "metadata": {},
   "source": [
    "** 1 B: find the best polynomial fit **\n",
    "\n",
    "Our goal is to find how many powers of $x$ we need to capture the curve well.  Recall that if we add extra *predictors* or powers of $x$ to a model the SSE and $R^2$ of that model will always appear better.  But at some point, they don't improve by enough to be \"worth\" the extra terms in the model.\n",
    "\n",
    "Write a function `best_poly(df)` with the following usage:\n",
    "- Argument: the original data frame `df` with columns `y` and `x`\n",
    "- Your function should return a stats.OLS.fit() argument that corresponds to the **best** fit $y=X\\beta$ according adjusted $R^2$ where you consider including up to 10 powers of X.  \n",
    "\n",
    "In other words, your function should fit **all 11** of the linear models \n",
    "\n",
    "Model 0: $y=\\beta_0$, \n",
    "\n",
    "Model 1: $y=\\beta_0+\\beta_1x^1$, \n",
    "\n",
    "Model 2: $y=\\beta_0+\\beta_1x^1+\\beta_2x^2$, \n",
    "\n",
    "$\\vdots $\n",
    "\n",
    "Model 10: $y=\\beta_0+\\beta_1x^1+\\beta_2x^2+\\dots+\\beta_{10}x^{10}$\n",
    "\n",
    "\n",
    "and then `return` the one with the best adjusted R-squared."
   ]
  },
  {
   "cell_type": "code",
   "execution_count": 25,
   "metadata": {},
   "outputs": [
    {
     "name": "stdout",
     "output_type": "stream",
     "text": [
      "4 th Is is a good fit with the difference in adjusted R^2 being less than .05\n"
     ]
    }
   ],
   "source": [
    "def best_poly(dfi):\n",
    "    x = dfi['x']\n",
    "    y = df['y']\n",
    "    R = []\n",
    "    for i in range(1,11):\n",
    "        Col = [x]\n",
    "        for j in range(2,i):\n",
    "            Col.append(x**j)\n",
    "            \n",
    "        X = np.column_stack(Col)\n",
    "        X = sm.add_constant(X)\n",
    "        polyModel = sm.OLS(y,X).fit()\n",
    "        R.append(polyModel.rsquared_adj)\n",
    "        if(i>3):\n",
    "            if((R[i-1]-R[i-2])<.05): #if the difference in R^2 is less than .05\n",
    "                print(i, \"th Is is a good fit with the difference in adjusted R^2 being less than .05\")\n",
    "                return(polyModel)\n",
    "    \n",
    "winninglm=best_poly(df)\n"
   ]
  },
  {
   "cell_type": "markdown",
   "metadata": {},
   "source": [
    "**1 C: Visualize your results**\n",
    "\n",
    "For the best model by adjusted R-squared, print the `summary()` table and make a plot with the overlay the resulting fitted line over the data.  Does it appear as though we appropriately captured the structure of the data?\n",
    "\n",
    "**Note:** Even if you can't get the function to \"automate\" the best polynomial in 1B, you should be able to do this part by hand if you need it!"
   ]
  },
  {
   "cell_type": "code",
   "execution_count": 26,
   "metadata": {},
   "outputs": [
    {
     "data": {
      "text/html": [
       "<table class=\"simpletable\">\n",
       "<caption>OLS Regression Results</caption>\n",
       "<tr>\n",
       "  <th>Dep. Variable:</th>            <td>y</td>        <th>  R-squared:         </th> <td>   0.974</td> \n",
       "</tr>\n",
       "<tr>\n",
       "  <th>Model:</th>                   <td>OLS</td>       <th>  Adj. R-squared:    </th> <td>   0.974</td> \n",
       "</tr>\n",
       "<tr>\n",
       "  <th>Method:</th>             <td>Least Squares</td>  <th>  F-statistic:       </th> <td>   2646.</td> \n",
       "</tr>\n",
       "<tr>\n",
       "  <th>Date:</th>             <td>Tue, 14 Dec 2021</td> <th>  Prob (F-statistic):</th> <td>1.67e-166</td>\n",
       "</tr>\n",
       "<tr>\n",
       "  <th>Time:</th>                 <td>20:55:33</td>     <th>  Log-Likelihood:    </th> <td> -588.91</td> \n",
       "</tr>\n",
       "<tr>\n",
       "  <th>No. Observations:</th>      <td>   214</td>      <th>  AIC:               </th> <td>   1186.</td> \n",
       "</tr>\n",
       "<tr>\n",
       "  <th>Df Residuals:</th>          <td>   210</td>      <th>  BIC:               </th> <td>   1199.</td> \n",
       "</tr>\n",
       "<tr>\n",
       "  <th>Df Model:</th>              <td>     3</td>      <th>                     </th>     <td> </td>    \n",
       "</tr>\n",
       "<tr>\n",
       "  <th>Covariance Type:</th>      <td>nonrobust</td>    <th>                     </th>     <td> </td>    \n",
       "</tr>\n",
       "</table>\n",
       "<table class=\"simpletable\">\n",
       "<tr>\n",
       "    <td></td>       <th>coef</th>     <th>std err</th>      <th>t</th>      <th>P>|t|</th>  <th>[0.025</th>    <th>0.975]</th>  \n",
       "</tr>\n",
       "<tr>\n",
       "  <th>const</th> <td>  105.6131</td> <td>    1.313</td> <td>   80.464</td> <td> 0.000</td> <td>  103.026</td> <td>  108.201</td>\n",
       "</tr>\n",
       "<tr>\n",
       "  <th>x1</th>    <td>  -67.0762</td> <td>    1.866</td> <td>  -35.955</td> <td> 0.000</td> <td>  -70.754</td> <td>  -63.399</td>\n",
       "</tr>\n",
       "<tr>\n",
       "  <th>x2</th>    <td>   15.7433</td> <td>    0.704</td> <td>   22.369</td> <td> 0.000</td> <td>   14.356</td> <td>   17.131</td>\n",
       "</tr>\n",
       "<tr>\n",
       "  <th>x3</th>    <td>   -1.2288</td> <td>    0.074</td> <td>  -16.574</td> <td> 0.000</td> <td>   -1.375</td> <td>   -1.083</td>\n",
       "</tr>\n",
       "</table>\n",
       "<table class=\"simpletable\">\n",
       "<tr>\n",
       "  <th>Omnibus:</th>       <td>43.571</td> <th>  Durbin-Watson:     </th> <td>   1.012</td>\n",
       "</tr>\n",
       "<tr>\n",
       "  <th>Prob(Omnibus):</th> <td> 0.000</td> <th>  Jarque-Bera (JB):  </th> <td> 113.496</td>\n",
       "</tr>\n",
       "<tr>\n",
       "  <th>Skew:</th>          <td> 0.882</td> <th>  Prob(JB):          </th> <td>2.26e-25</td>\n",
       "</tr>\n",
       "<tr>\n",
       "  <th>Kurtosis:</th>      <td> 6.101</td> <th>  Cond. No.          </th> <td>    670.</td>\n",
       "</tr>\n",
       "</table><br/><br/>Warnings:<br/>[1] Standard Errors assume that the covariance matrix of the errors is correctly specified."
      ],
      "text/plain": [
       "<class 'statsmodels.iolib.summary.Summary'>\n",
       "\"\"\"\n",
       "                            OLS Regression Results                            \n",
       "==============================================================================\n",
       "Dep. Variable:                      y   R-squared:                       0.974\n",
       "Model:                            OLS   Adj. R-squared:                  0.974\n",
       "Method:                 Least Squares   F-statistic:                     2646.\n",
       "Date:                Tue, 14 Dec 2021   Prob (F-statistic):          1.67e-166\n",
       "Time:                        20:55:33   Log-Likelihood:                -588.91\n",
       "No. Observations:                 214   AIC:                             1186.\n",
       "Df Residuals:                     210   BIC:                             1199.\n",
       "Df Model:                           3                                         \n",
       "Covariance Type:            nonrobust                                         \n",
       "==============================================================================\n",
       "                 coef    std err          t      P>|t|      [0.025      0.975]\n",
       "------------------------------------------------------------------------------\n",
       "const        105.6131      1.313     80.464      0.000     103.026     108.201\n",
       "x1           -67.0762      1.866    -35.955      0.000     -70.754     -63.399\n",
       "x2            15.7433      0.704     22.369      0.000      14.356      17.131\n",
       "x3            -1.2288      0.074    -16.574      0.000      -1.375      -1.083\n",
       "==============================================================================\n",
       "Omnibus:                       43.571   Durbin-Watson:                   1.012\n",
       "Prob(Omnibus):                  0.000   Jarque-Bera (JB):              113.496\n",
       "Skew:                           0.882   Prob(JB):                     2.26e-25\n",
       "Kurtosis:                       6.101   Cond. No.                         670.\n",
       "==============================================================================\n",
       "\n",
       "Warnings:\n",
       "[1] Standard Errors assume that the covariance matrix of the errors is correctly specified.\n",
       "\"\"\""
      ]
     },
     "execution_count": 26,
     "metadata": {},
     "output_type": "execute_result"
    }
   ],
   "source": [
    "winninglm.summary()\n"
   ]
  },
  {
   "cell_type": "code",
   "execution_count": 27,
   "metadata": {},
   "outputs": [
    {
     "data": {
      "text/plain": [
       "[<matplotlib.lines.Line2D at 0x1f24c7e2760>]"
      ]
     },
     "execution_count": 27,
     "metadata": {},
     "output_type": "execute_result"
    },
    {
     "data": {
      "image/png": "[encoded data removed]",
      "text/plain": [
       "<Figure size 720x216 with 1 Axes>"
      ]
     },
     "metadata": {
      "needs_background": "light"
     },
     "output_type": "display_data"
    }
   ],
   "source": [
    "\n",
    "fig, axes = plt.subplots(nrows=1, ncols=1, figsize=(10, 3))\n",
    "\n",
    "xPlot = np.linspace(np.min(df['x']), np.max(df['x']))\n",
    "yPlot = np.zeros(len(xPlot))\n",
    "\n",
    "for k, B in enumerate(winninglm.params):\n",
    "    yPlot += B*xPlot**k\n",
    "\n",
    "plt.scatter(x=\"x\",y=\"y\", data = df)\n",
    "plt.plot(xPlot,yPlot)"
   ]
  },
  {
   "cell_type": "markdown",
   "metadata": {},
   "source": [
    "<br>\n",
    "\n",
    "---\n",
    "[Back to top](#top)\n",
    "<a id='p2'></a>\n",
    "\n",
    "## [30 points] Problem 2: Testing for Streaks\n",
    "\n",
    "One measure we're often interested in for modeling is whether or not our data is exhibiting patterns, where nearby observations behave similarly to one another.  We explored one case of this briefly in the last problem of HW9, and to date have used simple plots of residuals to determine whether not the exhibit clumping, where positive and negatively signed residuals tend to appear in grouping of the same type.  In practice, this is quite common whenever one of your $X$ *predictor* variables is either **location** or **time**, since nearby data points in either of those tend to have similar errors.\n",
    "\n",
    "In this problem we'll explore a simplified variant of a common diagnostic for whether or a not a list of number is exhibiting streakiness in the clumping of positive and negative values, the [Wald-Wolfowitz Runs Test](https://en.wikipedia.org/wiki/Wald%E2%80%93Wolfowitz_runs_test).  I recommend skimming the link before you start.\n",
    "\n",
    "Instead of the exact statistic of the Wald test, we're going to come up with two other measures to create a hypothesis test of whether or not a list of signed numbers are exhibiting regular amounts of clumping or not.  Before we can create any kind of hypothesis test, we should write a function to count the runs in a list of numbers.\n",
    "\n"
   ]
  },
  {
   "cell_type": "markdown",
   "metadata": {},
   "source": [
    "** 2 A: Implementing some statistics**\n",
    "\n",
    "    \n",
    "Implement a function `count_runs` that takes a list (with length at least 2) of `float` values.  It should return `count, longest`, where\n",
    "\n",
    "- `count`: The number of distinct + or - runs in that list\n",
    "- `longest`:The length of the single longest streak of same-signed values in the list\n",
    "\n",
    "For general implementation:\n",
    "- You should count `0` as positive\n",
    "- You may find it easier to convert your list of floats into 0 and 1 or True and False to denote positive/negative.  This is optional.\n",
    "- There are a number of ways to do this.  Given below is some example syntax via `itertools` (groupby).  You may also extract information from e.g. numpy's argsort, but don't import any packages not already in the header.  If your implementation is inefficient, you may find the later parts of this problem take a long time to run.\n"
   ]
  },
  {
   "cell_type": "code",
   "execution_count": 28,
   "metadata": {},
   "outputs": [
    {
     "name": "stdout",
     "output_type": "stream",
     "text": [
      "Simulated signs: ['+' '+' '-' '+' '-' '-' '-' '-' '-' '+' '-' '+' '+' '+']\n"
     ]
    },
    {
     "data": {
      "text/plain": [
       "array([['+', '2'],\n",
       "       ['-', '1'],\n",
       "       ['+', '1'],\n",
       "       ['-', '5'],\n",
       "       ['+', '1'],\n",
       "       ['-', '1'],\n",
       "       ['+', '3']], dtype='<U1')"
      ]
     },
     "execution_count": 28,
     "metadata": {},
     "output_type": "execute_result"
    }
   ],
   "source": [
    "#example usage for itertools.groupby on \"signs\" (NOT FLOATS)\n",
    "np.random.seed(2020)\n",
    "binarylist=np.random.choice(['+', '-'], size=14)\n",
    "print('Simulated signs:', binarylist)\n",
    "counts = np.array([(item, len(list(objects))) for item, objects in itertools.groupby(binarylist)])\n",
    "counts\n",
    "\n",
    "#your goal is to extract:\n",
    "#the number of distinct runs (looks like 7!)\n",
    "#the length of the longest run (looks like 5!)"
   ]
  },
  {
   "cell_type": "code",
   "execution_count": 29,
   "metadata": {},
   "outputs": [],
   "source": [
    "def count_runs(x):\n",
    "    #Do the thing!  Make sure 'x' can be floats, unlike the dummy example above\n",
    "    count1 = []\n",
    "    for i in x:\n",
    "        if i < 0:\n",
    "            count1.append('-')\n",
    "        else:\n",
    "            count1.append('+')\n",
    "    counts = np.array([(item, len(list(objects))) for item, objects in itertools.groupby(count1)])\n",
    "    longest = max(counts[0])\n",
    "    count = len(counts)\n",
    "    return count, int(longest)"
   ]
  },
  {
   "cell_type": "markdown",
   "metadata": {},
   "source": [
    "** 2 B: Trying out the statistic.**\n",
    "\n",
    "Try out your statistic on a few quick test cases to make sure it's working.\n",
    "\n",
    "Some examples to sanity check your function.\n",
    "\n",
    "- An input of [3,3,1,-1,-2] should return (2,3), since there are 2 runs (3 positive number then 2 negative numbers) the longest of which is the first 3.\n",
    "- An input of [1,-1,1,-1,1,-1] should return (6,1).\n",
    "- An input of [1,1,1,1,1,1] should return (1,6).\n"
   ]
  },
  {
   "cell_type": "code",
   "execution_count": 30,
   "metadata": {},
   "outputs": [
    {
     "name": "stdout",
     "output_type": "stream",
     "text": [
      "(2, 3)\n",
      "(6, 1)\n",
      "(1, 6)\n"
     ]
    }
   ],
   "source": [
    "print(count_runs([3,3,1,-1,-2]))\n",
    "print(count_runs([1,-1,1,-1,1,-1]))\n",
    "print(count_runs([1,1,1,1,1,1] ))"
   ]
  },
  {
   "cell_type": "markdown",
   "metadata": {},
   "source": [
    "**2 C : Hypothesis Testing Setup**\n",
    "\n",
    "Our goal is to take the output of a regression model - usually in our `.resid` object - and decide whether or not the residuals are clumping or not.  State the null and alternative hypothesis for a test that presumes that the residuals are unpatterned, and rejects this only if there is significant statistical evidence to the contrary."
   ]
  },
  {
   "cell_type": "markdown",
   "metadata": {},
   "source": [
    "$H_0$ : Residuals have no correlations and therefore are not clumped at all.\n",
    "\n",
    "$H_a$ : Residuals have have some correlation and are clumped."
   ]
  },
  {
   "cell_type": "markdown",
   "metadata": {},
   "source": [
    "**2 D : Hypothesis Testing Simulations**\n",
    "\n",
    "We can use the `count_runs` function to determine a reasonable set of values for longest run and number of runs.  In other words: we need a rejection region for our test.  Simulate 1000 batches of 214 $N(0,1)$ random variables.  For each of the 1000 batch, compute the `count_runs` statistics of longest run and number of runs.\n",
    "\n",
    "Visualize the distributions of both statistics into side-by-side histograms.\n",
    "\n",
    "Then describe a **rejection region** for the the two-tailed $\\alpha=0.03$ hypothesis test from part 2C."
   ]
  },
  {
   "cell_type": "code",
   "execution_count": 31,
   "metadata": {},
   "outputs": [
    {
     "data": {
      "text/plain": [
       "(array([0.69      , 0.11818182, 0.04818182, 0.02454545, 0.01545455,\n",
       "        0.00818182, 0.00272727, 0.00090909, 0.        , 0.00090909]),\n",
       " array([ 1. ,  2.1,  3.2,  4.3,  5.4,  6.5,  7.6,  8.7,  9.8, 10.9, 12. ]),\n",
       " <a list of 10 Patch objects>)"
      ]
     },
     "execution_count": 31,
     "metadata": {},
     "output_type": "execute_result"
    },
    {
     "data": {
      "image/png": "[encoded data removed]",
      "text/plain": [
       "<Figure size 720x216 with 2 Axes>"
      ]
     },
     "metadata": {
      "needs_background": "light"
     },
     "output_type": "display_data"
    }
   ],
   "source": [
    "sims = [count_runs(np.random.choice([-1,1], size=214)) for i in range(0,1000)]\n",
    "\n",
    "df2 = pd.DataFrame(sims, columns =['Count','Longest'])\n",
    "\n",
    "fig, axes = plt.subplots(nrows=1, ncols=2, figsize=(10, 3))\n",
    "\n",
    "axes[0].hist(df2['Count'], color = 'teal', edgecolor = 'white', density = True)\n",
    "axes[1].hist(df2['Longest'], color = 'red', edgecolor = 'white', density = True)\n",
    "\n",
    "\n"
   ]
  },
  {
   "cell_type": "markdown",
   "metadata": {},
   "source": [
    "$ \\mu = \\frac{2*N_+*N_-}{N}+1$\n",
    "\n",
    "$ Z =  \\frac{Z_a - \\mu}{\\sigma} $\n",
    "\n",
    "Hypothesis region : $ -Z_\\frac{a}{2} < \\mu < Z_\\frac{a}{2} $"
   ]
  },
  {
   "cell_type": "markdown",
   "metadata": {},
   "source": [
    "**2 E : Apply your test**\n",
    "\n",
    "Consider performing simple linear regression $y=\\beta_0+\\beta_1x$ for the `not_so_linear.csv` data from problem 1.  If we were to apply a runs rest to the residuals (`.resid`) from this model, what values do we get from `count_runs`?  Are they within the rejection region?  Should they be?\n",
    "\n",
    "**Note:**  You'll need to make sure you sort the data by increasing x before you apply this, because for regression we look for clumping of signs as the preditor increases!"
   ]
  },
  {
   "cell_type": "code",
   "execution_count": 32,
   "metadata": {},
   "outputs": [
    {
     "data": {
      "text/plain": [
       "<matplotlib.axes._subplots.AxesSubplot at 0x1f24c8814c0>"
      ]
     },
     "execution_count": 32,
     "metadata": {},
     "output_type": "execute_result"
    },
    {
     "data": {
      "image/png": "[encoded data removed]",
      "text/plain": [
       "<Figure size 432x288 with 1 Axes>"
      ]
     },
     "metadata": {
      "needs_background": "light"
     },
     "output_type": "display_data"
    }
   ],
   "source": [
    "Xsort = np.sort(df2['Count'])\n",
    "Xbar = np.mean(df2['Count'])\n",
    "#sns.scatterplot(x=Xsort, y=np.linspace(min(df2['Count']),max(df2['Count']), len(df2['Count'])))\n",
    "\n",
    "\n",
    "Zone1 = stats.norm.ppf(1-.03/2)\n",
    "Zone2 = -Zone1\n",
    "\n",
    "plt.axhline(y=Zone1, label = 'Data Mean')\n",
    "plt.axhline(y=Zone2, label = 'Data Mean')\n",
    "\n",
    "\n",
    "sns.residplot(x=Xsort ,y=np.linspace(min(df2['Count']),max(df2['Count']), len(df2['Count'])),data = df2)\n"
   ]
  },
  {
   "cell_type": "markdown",
   "metadata": {},
   "source": [
    "The mean of the data falls within the rejection region as expected as due to random chance and large amounts of data I can expect that the sample mean should get closer and closer to expected mean as sample size increases."
   ]
  },
  {
   "cell_type": "markdown",
   "metadata": {},
   "source": [
    "<br>\n",
    "\n",
    "---\n",
    "[Back to top](#top)\n",
    "<a id='p3'></a>\n",
    "\n",
    "## [40 points] Problem 3: Multiple Linear Regression\n",
    "\n",
    "Load the data set in `houses`, with an opening snipper below.  The data includes sale prices of 24 houses from a midwetern town in the 1970's.   You are told that you need to quantify how price can be explained and predicted by the feature of the house.\n",
    "\n",
    "The variables available in the data set are labeled as follows:\n",
    "\n",
    "* sales:    the sales price of the house (in 1000s of dollars)\n",
    "* tax: \t    the local taxes\n",
    "* bath: \tthe number of bathrooms\n",
    "* lot: \t    the lot size (1000s of ft)\n",
    "* size: \tthe living space (1000s of ft)\n",
    "* garage: \tnumber of parking spots in the garage\n",
    "* rooms: \tnumber of rooms\n",
    "* bedrooms: number of bedrooms\n",
    "* age: \t    age in years\n",
    "* fire: \tnumber of fireplaces\n"
   ]
  },
  {
   "cell_type": "code",
   "execution_count": 33,
   "metadata": {},
   "outputs": [
    {
     "data": {
      "text/html": [
       "<div>\n",
       "<style scoped>\n",
       "    .dataframe tbody tr th:only-of-type {\n",
       "        vertical-align: middle;\n",
       "    }\n",
       "\n",
       "    .dataframe tbody tr th {\n",
       "        vertical-align: top;\n",
       "    }\n",
       "\n",
       "    .dataframe thead th {\n",
       "        text-align: right;\n",
       "    }\n",
       "</style>\n",
       "<table border=\"1\" class=\"dataframe\">\n",
       "  <thead>\n",
       "    <tr style=\"text-align: right;\">\n",
       "      <th></th>\n",
       "      <th>tax</th>\n",
       "      <th>bath</th>\n",
       "      <th>lot</th>\n",
       "      <th>size</th>\n",
       "      <th>garage</th>\n",
       "      <th>rooms</th>\n",
       "      <th>bedrooms</th>\n",
       "      <th>age</th>\n",
       "      <th>fire</th>\n",
       "      <th>sales</th>\n",
       "    </tr>\n",
       "  </thead>\n",
       "  <tbody>\n",
       "    <tr>\n",
       "      <th>0</th>\n",
       "      <td>4.918</td>\n",
       "      <td>1.0</td>\n",
       "      <td>3.472</td>\n",
       "      <td>0.998</td>\n",
       "      <td>1.0</td>\n",
       "      <td>7</td>\n",
       "      <td>4</td>\n",
       "      <td>42</td>\n",
       "      <td>0</td>\n",
       "      <td>25.9</td>\n",
       "    </tr>\n",
       "    <tr>\n",
       "      <th>1</th>\n",
       "      <td>5.021</td>\n",
       "      <td>1.0</td>\n",
       "      <td>3.531</td>\n",
       "      <td>1.500</td>\n",
       "      <td>2.0</td>\n",
       "      <td>7</td>\n",
       "      <td>4</td>\n",
       "      <td>62</td>\n",
       "      <td>0</td>\n",
       "      <td>29.5</td>\n",
       "    </tr>\n",
       "    <tr>\n",
       "      <th>2</th>\n",
       "      <td>4.543</td>\n",
       "      <td>1.0</td>\n",
       "      <td>2.275</td>\n",
       "      <td>1.175</td>\n",
       "      <td>1.0</td>\n",
       "      <td>6</td>\n",
       "      <td>3</td>\n",
       "      <td>40</td>\n",
       "      <td>0</td>\n",
       "      <td>27.9</td>\n",
       "    </tr>\n",
       "    <tr>\n",
       "      <th>3</th>\n",
       "      <td>4.557</td>\n",
       "      <td>1.0</td>\n",
       "      <td>4.050</td>\n",
       "      <td>1.232</td>\n",
       "      <td>1.0</td>\n",
       "      <td>6</td>\n",
       "      <td>3</td>\n",
       "      <td>54</td>\n",
       "      <td>0</td>\n",
       "      <td>25.9</td>\n",
       "    </tr>\n",
       "    <tr>\n",
       "      <th>4</th>\n",
       "      <td>5.060</td>\n",
       "      <td>1.0</td>\n",
       "      <td>4.455</td>\n",
       "      <td>1.121</td>\n",
       "      <td>1.0</td>\n",
       "      <td>6</td>\n",
       "      <td>3</td>\n",
       "      <td>42</td>\n",
       "      <td>0</td>\n",
       "      <td>29.9</td>\n",
       "    </tr>\n",
       "  </tbody>\n",
       "</table>\n",
       "</div>"
      ],
      "text/plain": [
       "     tax  bath    lot   size  garage  rooms  bedrooms  age  fire  sales\n",
       "0  4.918   1.0  3.472  0.998     1.0      7         4   42     0   25.9\n",
       "1  5.021   1.0  3.531  1.500     2.0      7         4   62     0   29.5\n",
       "2  4.543   1.0  2.275  1.175     1.0      6         3   40     0   27.9\n",
       "3  4.557   1.0  4.050  1.232     1.0      6         3   54     0   25.9\n",
       "4  5.060   1.0  4.455  1.121     1.0      6         3   42     0   29.9"
      ]
     },
     "execution_count": 33,
     "metadata": {},
     "output_type": "execute_result"
    }
   ],
   "source": [
    "dfhouse=pd.read_csv('../data/houses.txt', delimiter = \"\\t\")\n",
    "dfhouse.columns=['tax','bath','lot','size','garage','rooms','bedrooms','age','fire','sales']\n",
    "dfhouse.head()\n"
   ]
  },
  {
   "cell_type": "markdown",
   "metadata": {},
   "source": [
    "** Part 3 A: Explore**\n",
    "\n",
    "Make pairwise scatter plots of the continuous predictors/covariates, both against each other and against the outcome (expenditures).   Does the relationship between the independent variables and the dependent variables appear to be linear?  Do there appear to be independent variables that are collinear?"
   ]
  },
  {
   "cell_type": "code",
   "execution_count": 34,
   "metadata": {},
   "outputs": [
    {
     "data": {
      "text/plain": [
       "<seaborn.axisgrid.PairGrid at 0x1f24c93fdc0>"
      ]
     },
     "execution_count": 34,
     "metadata": {},
     "output_type": "execute_result"
    },
    {
     "data": {
      "image/png": "[encoded data removed]",
      "text/plain": [
       "<Figure size 1800x1800 with 110 Axes>"
      ]
     },
     "metadata": {
      "needs_background": "light"
     },
     "output_type": "display_data"
    }
   ],
   "source": [
    "sns.pairplot(dfhouse)"
   ]
  },
  {
   "cell_type": "markdown",
   "metadata": {},
   "source": [
    "The strongest relationships are mostly connected throught sales.  \n",
    "\n",
    "The strongest coralations with sales are clearly tax, bath, lot, size, and rooms.  \n",
    "\n",
    "Fire, garage, and bedrooms also appear to be correlated but not to as strong of a degree that the others are. \n",
    "\n",
    "Lastly the only variable that is negativly correlated seems to be age."
   ]
  },
  {
   "cell_type": "markdown",
   "metadata": {},
   "source": [
    "** Part 3 B: Make a Model**\n",
    "\n",
    "By adding columns to a minimal model or by subtracting columns from the full model, use one of the criteria in the class to create a reasonable candidate model.  These may include:\n",
    "\n",
    "- stepwise optimization of adjusted $R^2$\n",
    "- stepwise inclusion/removal of most or least-significant T-tests on coefficients\n",
    "- removing columns based on VIFs\n",
    "\n",
    "Use a markdown cell to explain exactly what method you're using to construct your model."
   ]
  },
  {
   "cell_type": "code",
   "execution_count": 35,
   "metadata": {},
   "outputs": [
    {
     "name": "stdout",
     "output_type": "stream",
     "text": [
      "9.8 bedrooms\n",
      "3.9 size\n",
      "3.3 bath\n",
      "8.8 tax\n",
      "['bedrooms', 'size', 'bath', 'tax']\n"
     ]
    },
    {
     "data": {
      "text/html": [
       "<table class=\"simpletable\">\n",
       "<caption>OLS Regression Results</caption>\n",
       "<tr>\n",
       "  <th>Dep. Variable:</th>          <td>sales</td>      <th>  R-squared:         </th> <td>   0.810</td>\n",
       "</tr>\n",
       "<tr>\n",
       "  <th>Model:</th>                   <td>OLS</td>       <th>  Adj. R-squared:    </th> <td>   0.770</td>\n",
       "</tr>\n",
       "<tr>\n",
       "  <th>Method:</th>             <td>Least Squares</td>  <th>  F-statistic:       </th> <td>   20.23</td>\n",
       "</tr>\n",
       "<tr>\n",
       "  <th>Date:</th>             <td>Tue, 14 Dec 2021</td> <th>  Prob (F-statistic):</th> <td>1.23e-06</td>\n",
       "</tr>\n",
       "<tr>\n",
       "  <th>Time:</th>                 <td>20:56:47</td>     <th>  Log-Likelihood:    </th> <td> -56.676</td>\n",
       "</tr>\n",
       "<tr>\n",
       "  <th>No. Observations:</th>      <td>    24</td>      <th>  AIC:               </th> <td>   123.4</td>\n",
       "</tr>\n",
       "<tr>\n",
       "  <th>Df Residuals:</th>          <td>    19</td>      <th>  BIC:               </th> <td>   129.2</td>\n",
       "</tr>\n",
       "<tr>\n",
       "  <th>Df Model:</th>              <td>     4</td>      <th>                     </th>     <td> </td>   \n",
       "</tr>\n",
       "<tr>\n",
       "  <th>Covariance Type:</th>      <td>nonrobust</td>    <th>                     </th>     <td> </td>   \n",
       "</tr>\n",
       "</table>\n",
       "<table class=\"simpletable\">\n",
       "<tr>\n",
       "      <td></td>        <th>coef</th>     <th>std err</th>      <th>t</th>      <th>P>|t|</th>  <th>[0.025</th>    <th>0.975]</th>  \n",
       "</tr>\n",
       "<tr>\n",
       "  <th>const</th>    <td>   12.1989</td> <td>    3.817</td> <td>    3.196</td> <td> 0.005</td> <td>    4.209</td> <td>   20.189</td>\n",
       "</tr>\n",
       "<tr>\n",
       "  <th>bedrooms</th> <td>   -1.4170</td> <td>    1.309</td> <td>   -1.083</td> <td> 0.292</td> <td>   -4.156</td> <td>    1.322</td>\n",
       "</tr>\n",
       "<tr>\n",
       "  <th>size</th>     <td>    2.1425</td> <td>    4.043</td> <td>    0.530</td> <td> 0.602</td> <td>   -6.320</td> <td>   10.605</td>\n",
       "</tr>\n",
       "<tr>\n",
       "  <th>bath</th>     <td>    6.1106</td> <td>    3.770</td> <td>    1.621</td> <td> 0.122</td> <td>   -1.780</td> <td>   14.001</td>\n",
       "</tr>\n",
       "<tr>\n",
       "  <th>tax</th>      <td>    2.6268</td> <td>    0.582</td> <td>    4.516</td> <td> 0.000</td> <td>    1.409</td> <td>    3.844</td>\n",
       "</tr>\n",
       "</table>\n",
       "<table class=\"simpletable\">\n",
       "<tr>\n",
       "  <th>Omnibus:</th>       <td> 1.907</td> <th>  Durbin-Watson:     </th> <td>   2.242</td>\n",
       "</tr>\n",
       "<tr>\n",
       "  <th>Prob(Omnibus):</th> <td> 0.385</td> <th>  Jarque-Bera (JB):  </th> <td>   1.471</td>\n",
       "</tr>\n",
       "<tr>\n",
       "  <th>Skew:</th>          <td> 0.426</td> <th>  Prob(JB):          </th> <td>   0.479</td>\n",
       "</tr>\n",
       "<tr>\n",
       "  <th>Kurtosis:</th>      <td> 2.136</td> <th>  Cond. No.          </th> <td>    61.1</td>\n",
       "</tr>\n",
       "</table><br/><br/>Warnings:<br/>[1] Standard Errors assume that the covariance matrix of the errors is correctly specified."
      ],
      "text/plain": [
       "<class 'statsmodels.iolib.summary.Summary'>\n",
       "\"\"\"\n",
       "                            OLS Regression Results                            \n",
       "==============================================================================\n",
       "Dep. Variable:                  sales   R-squared:                       0.810\n",
       "Model:                            OLS   Adj. R-squared:                  0.770\n",
       "Method:                 Least Squares   F-statistic:                     20.23\n",
       "Date:                Tue, 14 Dec 2021   Prob (F-statistic):           1.23e-06\n",
       "Time:                        20:56:47   Log-Likelihood:                -56.676\n",
       "No. Observations:                  24   AIC:                             123.4\n",
       "Df Residuals:                      19   BIC:                             129.2\n",
       "Df Model:                           4                                         \n",
       "Covariance Type:            nonrobust                                         \n",
       "==============================================================================\n",
       "                 coef    std err          t      P>|t|      [0.025      0.975]\n",
       "------------------------------------------------------------------------------\n",
       "const         12.1989      3.817      3.196      0.005       4.209      20.189\n",
       "bedrooms      -1.4170      1.309     -1.083      0.292      -4.156       1.322\n",
       "size           2.1425      4.043      0.530      0.602      -6.320      10.605\n",
       "bath           6.1106      3.770      1.621      0.122      -1.780      14.001\n",
       "tax            2.6268      0.582      4.516      0.000       1.409       3.844\n",
       "==============================================================================\n",
       "Omnibus:                        1.907   Durbin-Watson:                   2.242\n",
       "Prob(Omnibus):                  0.385   Jarque-Bera (JB):                1.471\n",
       "Skew:                           0.426   Prob(JB):                        0.479\n",
       "Kurtosis:                       2.136   Cond. No.                         61.1\n",
       "==============================================================================\n",
       "\n",
       "Warnings:\n",
       "[1] Standard Errors assume that the covariance matrix of the errors is correctly specified.\n",
       "\"\"\""
      ]
     },
     "execution_count": 35,
     "metadata": {},
     "output_type": "execute_result"
    }
   ],
   "source": [
    "features = \"+\".join(set(dfhouse.columns) - set('sales'))\n",
    "y, X = dmatrices('sales ~' + features, dfhouse, return_type='dataframe')\n",
    "\n",
    "vif = pd.DataFrame()\n",
    "vif[\"VIF Factor\"] = [variance_inflation_factor(X.values, j) for j in range(X.shape[1])]\n",
    "vif[\"features\"] = X.columns\n",
    "\n",
    "Col = []\n",
    "    \n",
    "vif.round(1)\n",
    "for i in range(0,11):\n",
    "    if(vif['VIF Factor'][i] >= 2.5 and vif['VIF Factor'][i] < 10 and vif['features'][i] != 'sales'):\n",
    "        print(vif['VIF Factor'][i].round(1),vif['features'][i])\n",
    "        Col.append(vif['features'][i])\n",
    "        \n",
    "print(Col)\n",
    "y = dfhouse['sales']\n",
    "X = dfhouse[Col] \n",
    "\n",
    "X = sm.add_constant(X)\n",
    "\n",
    "Model = sm.OLS(y,X).fit()\n",
    "\n",
    "Model.summary()"
   ]
  },
  {
   "cell_type": "markdown",
   "metadata": {},
   "source": [
    "Sales, bedroom, tax, size and bath all have a variance inflation factor over 3 so these are the collumns are the ones im going to keep in my new model."
   ]
  },
  {
   "cell_type": "markdown",
   "metadata": {},
   "source": [
    "** Part 3 C: Validate your Model**\n",
    "\n",
    "\n",
    "Perform a thorough discussion of the underlying regression assumptions of your model in part 1B.  You should plot a predictor vs. residuals plot for each column and histogram OR qqplot of the overall residuals.  Make sure to also check for non-linearity."
   ]
  },
  {
   "cell_type": "code",
   "execution_count": 36,
   "metadata": {},
   "outputs": [
    {
     "data": {
      "image/png": "[encoded data removed]",
      "text/plain": [
       "<Figure size 432x288 with 1 Axes>"
      ]
     },
     "metadata": {
      "needs_background": "light"
     },
     "output_type": "display_data"
    }
   ],
   "source": [
    "res = Model.resid\n",
    "fig = sm.qqplot(res)"
   ]
  },
  {
   "cell_type": "markdown",
   "metadata": {},
   "source": [
    "The relationship between the Expected and the Sample are pretty well alined,  The $R^2$ is only at around .77 so we need to find a way to make this better.\n",
    "\n",
    "My guess is that its non linear, from this point of veiw it very well could be, but its worth trying, aswell as trying to see if removing/adding columns will help."
   ]
  },
  {
   "cell_type": "markdown",
   "metadata": {},
   "source": [
    "** Part 3 D: Tune your Model**\n",
    "\n",
    "\n",
    "Based on your work in parts 1B and 1C, **iterate** on your model.  Consider removing terms or adding higher-order polynomials one at a time unless you are satisfied that your model captures the data as well as possible.  Each time you add or subtract a term from your model, you should repeat the steps in parts B and C: a summary table and exploration of assumptions."
   ]
  },
  {
   "cell_type": "code",
   "execution_count": 40,
   "metadata": {
    "scrolled": true
   },
   "outputs": [
    {
     "data": {
      "text/html": [
       "<table class=\"simpletable\">\n",
       "<caption>OLS Regression Results</caption>\n",
       "<tr>\n",
       "  <th>Dep. Variable:</th>          <td>sales</td>      <th>  R-squared:         </th> <td>   0.908</td>\n",
       "</tr>\n",
       "<tr>\n",
       "  <th>Model:</th>                   <td>OLS</td>       <th>  Adj. R-squared:    </th> <td>   0.824</td>\n",
       "</tr>\n",
       "<tr>\n",
       "  <th>Method:</th>             <td>Least Squares</td>  <th>  F-statistic:       </th> <td>   10.80</td>\n",
       "</tr>\n",
       "<tr>\n",
       "  <th>Date:</th>             <td>Tue, 14 Dec 2021</td> <th>  Prob (F-statistic):</th> <td>0.000130</td>\n",
       "</tr>\n",
       "<tr>\n",
       "  <th>Time:</th>                 <td>20:57:27</td>     <th>  Log-Likelihood:    </th> <td> -47.928</td>\n",
       "</tr>\n",
       "<tr>\n",
       "  <th>No. Observations:</th>      <td>    24</td>      <th>  AIC:               </th> <td>   119.9</td>\n",
       "</tr>\n",
       "<tr>\n",
       "  <th>Df Residuals:</th>          <td>    12</td>      <th>  BIC:               </th> <td>   134.0</td>\n",
       "</tr>\n",
       "<tr>\n",
       "  <th>Df Model:</th>              <td>    11</td>      <th>                     </th>     <td> </td>   \n",
       "</tr>\n",
       "<tr>\n",
       "  <th>Covariance Type:</th>      <td>nonrobust</td>    <th>                     </th>     <td> </td>   \n",
       "</tr>\n",
       "</table>\n",
       "<table class=\"simpletable\">\n",
       "<tr>\n",
       "    <td></td>       <th>coef</th>     <th>std err</th>      <th>t</th>      <th>P>|t|</th>  <th>[0.025</th>    <th>0.975]</th>  \n",
       "</tr>\n",
       "<tr>\n",
       "  <th>const</th> <td>  171.7701</td> <td>  146.528</td> <td>    1.172</td> <td> 0.264</td> <td> -147.488</td> <td>  491.028</td>\n",
       "</tr>\n",
       "<tr>\n",
       "  <th>x1</th>    <td> -332.2458</td> <td>  196.656</td> <td>   -1.689</td> <td> 0.117</td> <td> -760.723</td> <td>   96.231</td>\n",
       "</tr>\n",
       "<tr>\n",
       "  <th>x2</th>    <td>-1200.4310</td> <td> 2609.157</td> <td>   -0.460</td> <td> 0.654</td> <td>-6885.296</td> <td> 4484.434</td>\n",
       "</tr>\n",
       "<tr>\n",
       "  <th>x3</th>    <td>  142.5138</td> <td>  121.493</td> <td>    1.173</td> <td> 0.264</td> <td> -122.197</td> <td>  407.224</td>\n",
       "</tr>\n",
       "<tr>\n",
       "  <th>x4</th>    <td>  220.4463</td> <td>  188.080</td> <td>    1.172</td> <td> 0.264</td> <td> -189.345</td> <td>  630.237</td>\n",
       "</tr>\n",
       "<tr>\n",
       "  <th>x5</th>    <td>   81.5611</td> <td>   46.256</td> <td>    1.763</td> <td> 0.103</td> <td>  -19.222</td> <td>  182.345</td>\n",
       "</tr>\n",
       "<tr>\n",
       "  <th>x6</th>    <td> 1422.6691</td> <td> 2860.068</td> <td>    0.497</td> <td> 0.628</td> <td>-4808.883</td> <td> 7654.222</td>\n",
       "</tr>\n",
       "<tr>\n",
       "  <th>x7</th>    <td>   98.6295</td> <td>   83.940</td> <td>    1.175</td> <td> 0.263</td> <td>  -84.260</td> <td>  281.519</td>\n",
       "</tr>\n",
       "<tr>\n",
       "  <th>x8</th>    <td>  167.3668</td> <td>  142.879</td> <td>    1.171</td> <td> 0.264</td> <td> -143.940</td> <td>  478.674</td>\n",
       "</tr>\n",
       "<tr>\n",
       "  <th>x9</th>    <td>   -8.6275</td> <td>    4.721</td> <td>   -1.828</td> <td> 0.093</td> <td>  -18.913</td> <td>    1.658</td>\n",
       "</tr>\n",
       "<tr>\n",
       "  <th>x10</th>   <td> -725.7984</td> <td> 1376.242</td> <td>   -0.527</td> <td> 0.608</td> <td>-3724.373</td> <td> 2272.776</td>\n",
       "</tr>\n",
       "<tr>\n",
       "  <th>x11</th>   <td>   32.8029</td> <td>   27.611</td> <td>    1.188</td> <td> 0.258</td> <td>  -27.357</td> <td>   92.962</td>\n",
       "</tr>\n",
       "<tr>\n",
       "  <th>x12</th>   <td> -102.8218</td> <td>   87.487</td> <td>   -1.175</td> <td> 0.263</td> <td> -293.439</td> <td>   87.795</td>\n",
       "</tr>\n",
       "<tr>\n",
       "  <th>x13</th>   <td>    0.3345</td> <td>    0.177</td> <td>    1.892</td> <td> 0.083</td> <td>   -0.051</td> <td>    0.720</td>\n",
       "</tr>\n",
       "<tr>\n",
       "  <th>x14</th>   <td>  134.9490</td> <td>  245.366</td> <td>    0.550</td> <td> 0.592</td> <td> -399.657</td> <td>  669.555</td>\n",
       "</tr>\n",
       "<tr>\n",
       "  <th>x15</th>   <td>  -65.9369</td> <td>   56.886</td> <td>   -1.159</td> <td> 0.269</td> <td> -189.880</td> <td>   58.006</td>\n",
       "</tr>\n",
       "<tr>\n",
       "  <th>x16</th>   <td>   13.7791</td> <td>   11.704</td> <td>    1.177</td> <td> 0.262</td> <td>  -11.723</td> <td>   39.281</td>\n",
       "</tr>\n",
       "</table>\n",
       "<table class=\"simpletable\">\n",
       "<tr>\n",
       "  <th>Omnibus:</th>       <td> 0.371</td> <th>  Durbin-Watson:     </th> <td>   2.188</td>\n",
       "</tr>\n",
       "<tr>\n",
       "  <th>Prob(Omnibus):</th> <td> 0.831</td> <th>  Jarque-Bera (JB):  </th> <td>   0.525</td>\n",
       "</tr>\n",
       "<tr>\n",
       "  <th>Skew:</th>          <td>-0.182</td> <th>  Prob(JB):          </th> <td>   0.769</td>\n",
       "</tr>\n",
       "<tr>\n",
       "  <th>Kurtosis:</th>      <td> 2.374</td> <th>  Cond. No.          </th> <td>4.98e+19</td>\n",
       "</tr>\n",
       "</table><br/><br/>Warnings:<br/>[1] Standard Errors assume that the covariance matrix of the errors is correctly specified.<br/>[2] The smallest eigenvalue is 9.65e-32. This might indicate that there are<br/>strong multicollinearity problems or that the design matrix is singular."
      ],
      "text/plain": [
       "<class 'statsmodels.iolib.summary.Summary'>\n",
       "\"\"\"\n",
       "                            OLS Regression Results                            \n",
       "==============================================================================\n",
       "Dep. Variable:                  sales   R-squared:                       0.908\n",
       "Model:                            OLS   Adj. R-squared:                  0.824\n",
       "Method:                 Least Squares   F-statistic:                     10.80\n",
       "Date:                Tue, 14 Dec 2021   Prob (F-statistic):           0.000130\n",
       "Time:                        20:57:27   Log-Likelihood:                -47.928\n",
       "No. Observations:                  24   AIC:                             119.9\n",
       "Df Residuals:                      12   BIC:                             134.0\n",
       "Df Model:                          11                                         \n",
       "Covariance Type:            nonrobust                                         \n",
       "==============================================================================\n",
       "                 coef    std err          t      P>|t|      [0.025      0.975]\n",
       "------------------------------------------------------------------------------\n",
       "const        171.7701    146.528      1.172      0.264    -147.488     491.028\n",
       "x1          -332.2458    196.656     -1.689      0.117    -760.723      96.231\n",
       "x2         -1200.4310   2609.157     -0.460      0.654   -6885.296    4484.434\n",
       "x3           142.5138    121.493      1.173      0.264    -122.197     407.224\n",
       "x4           220.4463    188.080      1.172      0.264    -189.345     630.237\n",
       "x5            81.5611     46.256      1.763      0.103     -19.222     182.345\n",
       "x6          1422.6691   2860.068      0.497      0.628   -4808.883    7654.222\n",
       "x7            98.6295     83.940      1.175      0.263     -84.260     281.519\n",
       "x8           167.3668    142.879      1.171      0.264    -143.940     478.674\n",
       "x9            -8.6275      4.721     -1.828      0.093     -18.913       1.658\n",
       "x10         -725.7984   1376.242     -0.527      0.608   -3724.373    2272.776\n",
       "x11           32.8029     27.611      1.188      0.258     -27.357      92.962\n",
       "x12         -102.8218     87.487     -1.175      0.263    -293.439      87.795\n",
       "x13            0.3345      0.177      1.892      0.083      -0.051       0.720\n",
       "x14          134.9490    245.366      0.550      0.592    -399.657     669.555\n",
       "x15          -65.9369     56.886     -1.159      0.269    -189.880      58.006\n",
       "x16           13.7791     11.704      1.177      0.262     -11.723      39.281\n",
       "==============================================================================\n",
       "Omnibus:                        0.371   Durbin-Watson:                   2.188\n",
       "Prob(Omnibus):                  0.831   Jarque-Bera (JB):                0.525\n",
       "Skew:                          -0.182   Prob(JB):                        0.769\n",
       "Kurtosis:                       2.374   Cond. No.                     4.98e+19\n",
       "==============================================================================\n",
       "\n",
       "Warnings:\n",
       "[1] Standard Errors assume that the covariance matrix of the errors is correctly specified.\n",
       "[2] The smallest eigenvalue is 9.65e-32. This might indicate that there are\n",
       "strong multicollinearity problems or that the design matrix is singular.\n",
       "\"\"\""
      ]
     },
     "execution_count": 40,
     "metadata": {},
     "output_type": "execute_result"
    }
   ],
   "source": [
    "Col = ['tax','size','bath','bedrooms'] \n",
    "# I used this to test to see if removing any of these columns would increase\n",
    "#adj R^2, None did\n",
    "\n",
    "y = dfhouse['sales']\n",
    "\n",
    "x = dfhouse[Col]\n",
    "\n",
    "X = np.column_stack((x, x**2, x**3, x**4))\n",
    "\n",
    "X = sm.add_constant(X)\n",
    "\n",
    "Model = sm.OLS(y,X).fit()\n",
    "\n",
    "res = Model.resid\n",
    "\n",
    "Model.summary()"
   ]
  },
  {
   "cell_type": "code",
   "execution_count": 39,
   "metadata": {},
   "outputs": [
    {
     "data": {
      "image/png": "[encoded data removed]",
      "text/plain": [
       "<Figure size 432x288 with 1 Axes>"
      ]
     },
     "metadata": {
      "needs_background": "light"
     },
     "output_type": "display_data"
    }
   ],
   "source": [
    "fig = sm.qqplot(res)"
   ]
  },
  {
   "cell_type": "markdown",
   "metadata": {},
   "source": []
  },
  {
   "cell_type": "markdown",
   "metadata": {},
   "source": [
    "** Part 3 E: Explain your Model**\n",
    "\n",
    "**Justify** your choices: there are a lot of ways to choose a \"best\" model: we've mentioned e.g. only including significant predictors versus F-tests versus optimizing R-squared.  Explain what terms you chose and why they were appropriate! "
   ]
  },
  {
   "cell_type": "markdown",
   "metadata": {},
   "source": [
    "After attempting to remove and add a few columns the Rsquared was already at the best I could get it.  \n",
    "\n",
    "From there I attempted to change the order and I found that $x^4$ was able to maximize $R^2$ without needed to increase the number of polynomials to an unreasonable number."
   ]
  },
  {
   "cell_type": "markdown",
   "metadata": {},
   "source": []
  },
  {
   "cell_type": "markdown",
   "metadata": {},
   "source": [
    "Rubric notes:\n",
    "\n",
    "This problem is by design very open-ended.  It is meant to reflect a real-world problem solving process.  For this problem, at the very least, you should:\n",
    "- Include and explain which method you're using to removel redundant columns in part B\n",
    "- Include a sentence for **each** of the diagnositic plots in part C, determining whether your current model is meeting the standard assumptions of multiple linear regression\n",
    "- Include some code, sentences, and/or visualizations demonstrating what alternative models you tried and/or considered.\n",
    "- Include a sentence interpreting why your final model **makes sense** in the context of the problem - and it if doesn't, you'll want to try to explain why not.\n",
    "\n",
    "Graders will look for the both the diagnostic plots and **plenty** of complete English sentences describing what you're doing and why you think it will help answer the data science question: how do we create the best model we can to quantify how price can be explained and predicted by the features of the house."
   ]
  },
  {
   "cell_type": "markdown",
   "metadata": {},
   "source": [
    "<br>\n",
    "\n",
    "---\n",
    "\n",
    "[Back to top](#top)\n",
    "<a id='bot'></a>"
   ]
  }
 ],
 "metadata": {
  "kernelspec": {
   "display_name": "Python 3",
   "language": "python",
   "name": "python3"
  },
  "language_info": {
   "codemirror_mode": {
    "name": "ipython",
    "version": 3
   },
   "file_extension": ".py",
   "mimetype": "text/x-python",
   "name": "python",
   "nbconvert_exporter": "python",
   "pygments_lexer": "ipython3",
   "version": "3.8.3"
  }
 },
 "nbformat": 4,
 "nbformat_minor": 2
}
