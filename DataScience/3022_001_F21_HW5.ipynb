{
 "cells": [
  {
   "cell_type": "markdown",
   "metadata": {},
   "source": [
    "<a id='top'></a>\n",
    "\n",
    "# CSCI3022 F21\n",
    "# Homework 5: Means, Variances, the CLT\n",
    "***\n",
    "\n",
    "**Name**: Aidan Reese\n",
    "\n",
    "***\n",
    "\n",
    "This assignment is due on Canvas (as .ipynb) and Gradescope (as a .pdf) by **MIDNIGHT on Mon 25 Oct**. Your solutions to theoretical questions should be done in Markdown directly below the associated question.  Your solutions to computational questions should include any specified Python code and results as well as written commentary on your conclusions.  Remember that you are encouraged to discuss the problems with your classmates, but **you must write all code and solutions on your own**.\n",
    "\n",
    "**NOTES**: \n",
    "\n",
    "- Any relevant data sets should be available on Canvas. To make life easier on the graders if they need to run your code, do not change the relative path names here. Instead, move the files around on your computer.\n",
    "- If you're not familiar with typesetting math directly into Markdown then by all means, do your work on paper first and then typeset it later.  Here is a [reference guide](https://math.meta.stackexchange.com/questions/5020/mathjax-basic-tutorial-and-quick-reference) linked on Canvas on writing math in Markdown. **All** of your written commentary, justifications and mathematical work should be in Markdown.  I also recommend the [wikibook](https://en.wikibooks.org/wiki/LaTeX) for LaTex.\n",
    "- Because you can technically evaluate notebook cells is a non-linear order, it's a good idea to do **Kernel $\\rightarrow$ Restart & Run All** as a check before submitting your solutions.  That way if we need to run your code you will know that it will work as expected. \n",
    "- It is **bad form** to make your reader interpret numerical output from your code.  If a question asks you to compute some value from the data you should show your code output **AND** write a summary of the results in Markdown directly below your code. \n",
    "- 45 points of this assignment are in problems.  The remaining 5 are for neatness, style, and overall exposition of both code and text.\n",
    "- This probably goes without saying, but... For any question that asks you to calculate something, you **must show all work and justify your answers to receive credit**. Sparse or nonexistent work will receive sparse or nonexistent credit. \n",
    "\n",
    "---\n",
    "**Shortcuts:**  [Problem 1](#p1) | [Problem 2](#p2) | [Problem 3](#p3) |\n",
    "---"
   ]
  },
  {
   "cell_type": "code",
   "execution_count": 235,
   "metadata": {},
   "outputs": [],
   "source": [
    "import numpy as np\n",
    "import pandas as pd\n",
    "import matplotlib.pylab as plt\n",
    "import scipy.stats as stats\n",
    "%matplotlib inline"
   ]
  },
  {
   "cell_type": "markdown",
   "metadata": {},
   "source": [
    "***\n",
    "<a/ id='p1'></a>\n",
    "[Back to top](#top)\n",
    "\n",
    "## (15 pts) Problem 1: Simulation and Theory (Games)\n",
    "***\n",
    "\n",
    "The Riddler is a column on the website https://fivethirtyeight.com that posts logic, math, and probability puzzles each week.  Some of puzzles can be attacked by simulation and discrete probability: things that we have the tools to solve!\n",
    "\n",
    "(https://fivethirtyeight.com/features/how-low-can-you-roll/)\n",
    "\n",
    "You are given a fair, unweighted 10-sided die with sides labeled 0 to 9 and a sheet of paper to record your score. (If the very notion of a fair 10-sided die bothers you, and you need to know what sort of three-dimensional solid it is, then forget it — you have a random number generator that gives you an integer value from 0 to 9 with equal probability. Your loss — the die was a collector’s item.)\n",
    "\n",
    "To start the game, you roll the die. Your current “score” is the number shown, divided by 10. For example, if you were to roll a 7, then your score would be 0.7. Then, you keep rolling the die over and over again. Each time you roll, if the digit shown by the die is less than or equal to the last digit of your score, then that roll becomes the new last digit of your score. Otherwise you just go ahead and roll again. The game ends when you roll a zero.\n",
    "\n",
    "For example, suppose you roll the following: 6, 2, 5, 1, 8, 1, 0. After your first roll, your score would be 0.6, After the second, it’s 0.62. You ignore the third roll, since 5 is greater than the current last digit, 2. After the fourth roll, your score is 0.621. You ignore the fifth roll, since 8 is greater than the current last digit, 1. After the sixth roll, your score is 0.6211. And after the seventh roll, the game is over — 0.6211 is your final score.\n",
    "\n",
    "What will be your average final score in this game?\n",
    "\n",
    "**Part A**: Suppose our current value is $0.abcd$ for some 1-9 integers $a, b, c, d.$  What is the theoretical distribution of $e$, the next *term* in the final score's decimal representation?  Name the distribution and list all of its outcomes and their probabilities.  Note that \"there are no additional terms\" should have non-zero probability."
   ]
  },
  {
   "cell_type": "markdown",
   "metadata": {},
   "source": [
    "Discrete uniform distribution problem:\n",
    "\n",
    "For a the outcomes: 0 to 9,\n",
    "probability: $\\frac{1}{10}$\n",
    "\n",
    "For b the outcomes: 0 to a,\n",
    "probability: $\\frac{1}{a+1}$ \n",
    "\n",
    "For c the outcomes: 0 to b,\n",
    "probability: $\\frac{1}{b+1}$\n",
    "\n",
    "For d the outcomes: 0 to c,\n",
    "probability: $\\frac{1}{c+1}$\n",
    "\n",
    "For e the outcomes: 0 to d,\n",
    "probability: $\\frac{1}{d+1}$"
   ]
  },
  {
   "cell_type": "markdown",
   "metadata": {},
   "source": [
    "**Part B**: What is the expected number of *rolls* until you're done?  What is the theoretical variance in the number of *rolls* until you're done?  What distribution is this?\n",
    "\n"
   ]
  },
  {
   "cell_type": "markdown",
   "metadata": {},
   "source": [
    "Neg. Binomial and then Geometric disribution\n",
    "\n",
    "$f(x) = \\begin{cases}\n",
    "         p(1-p)^{x-1} &  x=0-9\\\\\n",
    "         0                    \n",
    "       \\end{cases}$\n",
    "       \n",
    "Mean $\\sum_{x=0}^{9}x*p(1-p)^{x-1}$"
   ]
  },
  {
   "cell_type": "markdown",
   "metadata": {},
   "source": [
    "**Part C**: Simulate 10000 trials of this game, recording a score for each, then compute and print the average score over all of those trials. \n",
    "\n",
    "(Note: To check your result, you can find the exact *expected* solution in the following week's column: https://fivethirtyeight.com/features/can-you-decode-the-riddler-lottery/... but we want to simulate!)\n"
   ]
  },
  {
   "cell_type": "code",
   "execution_count": 246,
   "metadata": {},
   "outputs": [],
   "source": [
    "def DiceGame():\n",
    "    score = 0\n",
    "    counter = 0\n",
    "    roll = np.random.randint(0,10)\n",
    "    roll1 = roll\n",
    "    while roll != 0:\n",
    "        if roll <= roll1:\n",
    "            counter += 1\n",
    "            score += roll/(10**counter)\n",
    "            roll1 = roll\n",
    "        roll = np.random.randint(0,10)\n",
    "        \n",
    "    return(round(score, counter))#round to get rid of floating point error\n",
    "ScoreList = []\n",
    "for i in range(0,10000):\n",
    "    ScoreList.append(float(DiceGame()))\n",
    "\n",
    "#DiceGame()"
   ]
  },
  {
   "cell_type": "markdown",
   "metadata": {},
   "source": [
    "**Part D**: Make a histogram of all your scores from part C, and include a vertical line placed at the mean score from part C."
   ]
  },
  {
   "cell_type": "code",
   "execution_count": 249,
   "metadata": {},
   "outputs": [
    {
     "data": {
      "text/plain": [
       "<matplotlib.lines.Line2D at 0x1ae077288e0>"
      ]
     },
     "execution_count": 249,
     "metadata": {},
     "output_type": "execute_result"
    },
    {
     "data": {
      "image/png": "[encoded data removed]",
      "text/plain": [
       "<Figure size 432x288 with 1 Axes>"
      ]
     },
     "metadata": {
      "needs_background": "light"
     },
     "output_type": "display_data"
    }
   ],
   "source": [
    "plt.hist(ScoreList, 100,edgecolor = \"black\")\n",
    "plt.axvline((sum(ScoreList)/len(ScoreList)), color='k', linestyle='dashed', linewidth=1)"
   ]
  },
  {
   "cell_type": "markdown",
   "metadata": {},
   "source": [
    "[Back to top](#top)\n",
    "<a/ id='p2'></a>\n",
    "\n",
    "## (15 pts) Problem 2: Normals and Making the Curve\n",
    "\n",
    "Due to your excellent work to date, you've been hired as a Course Assistant to CSCI3022!  The new instructor isn't really in the mood to write new problems, so they've turned to you to create the exam and ensure that it has a reasonable distribution of grades.\n",
    "\n",
    "For each of the prompts below, you should at the very least set up and justify your calculation by hand (in Markdown/Mathjax), before executing any calculations in Python. After that, feel free to use python to actually do the calculations and get decimal results. You should use absolutely use Python to retrieve critical values of a standard normal random variable (using a Z chart is so old school!).\n"
   ]
  },
  {
   "cell_type": "markdown",
   "metadata": {},
   "source": [
    "**Part A**:\n",
    "Suppose that you've created an exam with a mean of 75 points and a standard deviation of 15 points.  These scores are normally distributed  Thanks to including some extra credit, note that there's some possibility of scores above 100... which is fine, because those students are (fire emoji).\n",
    "\n",
    "\n",
    "The administration has told you that they'd like to track your \"B/C\" students, and wants data regarding any student whose exam grade fell between 78 and 84.  What is the probability that an individual students' (say, the $i$th) grade $X_i$ falls between 78 and 84?\n",
    "\n"
   ]
  },
  {
   "cell_type": "markdown",
   "metadata": {},
   "source": [
    "$Z_{84} = \\frac{84-75}{15}$ = .6\n",
    "$Z_{78} = \\frac{78-75}{15}$ = .2\n",
    "\n",
    ".7257 - .5793 = .1464\n",
    "\n",
    "14.64% of $X_i $ being between 78 and 84"
   ]
  },
  {
   "cell_type": "markdown",
   "metadata": {},
   "source": [
    "**Part B:** Suppose your class has 30 students.  What is the probability that the overall average for the exam $\\bar{X}$ falls between 78 and 84?\n",
    "\n"
   ]
  },
  {
   "cell_type": "code",
   "execution_count": 264,
   "metadata": {},
   "outputs": [
    {
     "name": "stdout",
     "output_type": "stream",
     "text": [
      "0.138\n"
     ]
    }
   ],
   "source": [
    "counter = 0\n",
    "for i in range(0,10000):\n",
    "    x = np.random.normal(75,15, size=30)\n",
    "    if x.mean() >= 78 and x.mean() <=84:\n",
    "        counter+=1\n",
    "    \n",
    "print(counter/10000)\n"
   ]
  },
  {
   "cell_type": "markdown",
   "metadata": {},
   "source": [
    "**Part C**:\n",
    "Suppose you had control over enrollment, and could choose the number of students $n$ in your class.  What value would you choose for $n$ to **maximize** the probability that the overall average for the exam $\\bar{X}$ falls between 78 and 84?\n",
    "\n",
    "Hint: you can brute force it using a similar calculation to that in **B**!"
   ]
  },
  {
   "cell_type": "code",
   "execution_count": 286,
   "metadata": {},
   "outputs": [
    {
     "name": "stderr",
     "output_type": "stream",
     "text": [
      "<ipython-input-286-d25c4a37e7ef>:8: RuntimeWarning: Mean of empty slice.\n",
      "  if (x.mean() >= 78 and x.mean() <=84):\n"
     ]
    },
    {
     "name": "stdout",
     "output_type": "stream",
     "text": [
      "8\n",
      "Brute forcing this was giving me slightly inconsistant results but its very apparent that in order to get away from the mean and have more chaos we need lower numbers, for me the best was usually coming from about n=8\n"
     ]
    }
   ],
   "source": [
    "MeanList = []\n",
    "Xbar1=0\n",
    "Xbar2=0\n",
    "for k in range(100):\n",
    "    counter = 0\n",
    "    for i in range(0,1000):\n",
    "        x = np.random.normal(75,15, size=k)\n",
    "        if (x.mean() >= 78 and x.mean() <=84):\n",
    "            counter+=1\n",
    "    Xbar1 = counter/1000\n",
    "    if Xbar1 > Xbar2:\n",
    "        K = k\n",
    "        Xbar2 = Xbar1\n",
    "        \n",
    "print(K)\n",
    "\n",
    "\n",
    "print(\"Brute forcing this was giving me slightly inconsistant results but its very apparent that in order to get away from the mean and have more chaos we need lower numbers, for me the best was usually coming from about n=8\")"
   ]
  },
  {
   "cell_type": "markdown",
   "metadata": {},
   "source": [
    "**Part D:**  You've realized that no matter what you do, the standard deviation for exam scores basically never deviates from 15 points.  But you can affect the mean by writing slightly easier/tougher problems or providing better hints along the way!  For another class of 30 students, what value would you have to change the exam average $\\mu$ to be to ensure that there is a 97% chance that the *class average* score is above 78?"
   ]
  },
  {
   "cell_type": "code",
   "execution_count": 326,
   "metadata": {},
   "outputs": [
    {
     "name": "stdout",
     "output_type": "stream",
     "text": [
      "83 0.973\n",
      "84 0.986\n",
      "85 0.994\n",
      "86 0.999\n",
      "87 1.0\n",
      "88 1.0\n",
      "89 1.0\n",
      "90 1.0\n",
      "91 1.0\n",
      "92 1.0\n",
      "93 1.0\n",
      "94 1.0\n",
      "95 1.0\n",
      "96 1.0\n",
      "97 1.0\n",
      "98 1.0\n",
      "99 1.0\n",
      "Consistantly at 84 is where 97% of students score above a 78\n"
     ]
    }
   ],
   "source": [
    "for k in range(75,100): #testing mu\n",
    "    counter = 0\n",
    "    for i in range(0,1000): #itterations for tests\n",
    "        x = np.random.normal(k,15, size=30) #reset x to new data\n",
    "        if (x.mean() >= 78):\n",
    "            counter+=1\n",
    "    if (counter/1000) >= .97:\n",
    "        print(k, counter/1000)\n",
    "print(\"Consistantly at 84 is where 97% of students score above a 78\")"
   ]
  },
  {
   "cell_type": "markdown",
   "metadata": {
    "collapsed": true
   },
   "source": [
    "[Back to top](#top)\n",
    "<a/ id='p3'></a>\n",
    "\n",
    "## (15 pts) Problem 3: Simulation of Definite Integrals\n",
    "One really cool application of random variables is using them to approximate integrals/area under a curve.  This method of approximating integrals is used frequently in computational science to approximate really difficult integrals that we never want to do by hand.  In this exercise you'll figure out how we can do this in practice and test your method on a relatively simple integral. "
   ]
  },
  {
   "cell_type": "markdown",
   "metadata": {},
   "source": [
    "**Part A.** Consider the following function.\n",
    "\n",
    "$$ f(x) = \\frac{1}{4} \\ \\sin(x) $$   \n",
    "\n",
    "Compute **by hand**, the integral of $f(x)$ for $0 \\leq x \\leq 2$. Once you have your expression worked out, you may use python to estimate the integral to the nearest 6th decimal place.  "
   ]
  },
  {
   "cell_type": "markdown",
   "metadata": {},
   "source": [
    "**Solution:**\n",
    "\n",
    "$\\frac{1}{4}\\int_{0}^{2}{sin(x)}$\n",
    "\n",
    "$\\frac{1}{4}( {-cos(x)})$\n",
    "\n",
    "$\\frac{cos(1)-cos(4)}{4}$"
   ]
  },
  {
   "cell_type": "code",
   "execution_count": 394,
   "metadata": {},
   "outputs": [
    {
     "name": "stdout",
     "output_type": "stream",
     "text": [
      "0.354037\n"
     ]
    }
   ],
   "source": [
    "sln = (np.cos(0)-np.cos(2))/4\n",
    "print(round(sln,6))"
   ]
  },
  {
   "cell_type": "markdown",
   "metadata": {},
   "source": [
    "**Part B.** Suppose we sample a random variable $X$ from $U(0,2)$ and another random variable $Y$ from $U(0,1)$ and think of them as $x$- and $y$-coordinates of a point in the box $[0,2] \\times [0,1]$.  If we compute the ratio of points that fall under the curve $f(x)$ to the total points sampled, what does this value estimate? "
   ]
  },
  {
   "cell_type": "markdown",
   "metadata": {},
   "source": [
    "**Solution:**\n",
    "\n",
    "As number of points increase and we start tallying up the number of points under the curve vs above the curve, giving us a ratio of area under f(x) of $\\frac{1}{4}\\int_{1}^{4}{sin(x)}$ but not the actual area"
   ]
  },
  {
   "cell_type": "markdown",
   "metadata": {},
   "source": [
    "**Part C.** How could we modify the process outlined in **Part B** so that our estimator estimates the value of the desired integral?  If you need inspiration, check out the in-class notebook on Stochastic Simulation (#4), specifically, the exercise where we estimated $\\pi$!"
   ]
  },
  {
   "cell_type": "markdown",
   "metadata": {},
   "source": [
    "**Solution:**\n",
    "\n",
    "We just need to multiply by the total area of the graph and that will tranlate it from being a ratio to being an estimation of the area under the curve."
   ]
  },
  {
   "cell_type": "markdown",
   "metadata": {},
   "source": [
    "**Part D.** Complete the function `integrate` below to compute an approximation to the definition integral $\\int_0^{\\text{ub}} f(x)dx$.  Your function should take as arguments:\n",
    "1. `num_samples` -- the number of points to sample,\n",
    "2. `ub` -- a number between $0$ and $\\pi$, and\n",
    "3. `isPlot` -- a Boolean flag for whether or not to display a plot of the results.\n",
    "\n",
    "Your function should return an approximation of the definite integral by sampling $X$ from $U(0,\\text{ub})$ and $Y$ from $U(0,1)$. For each random draw $(X,Y)$, define the random variable $Z$ that represents whether or not the sampled $Y$ value is less than $f(X)$ for the corresponding $X$ value.\n",
    "\n",
    "Your function should perform three tasks: \n",
    "\n",
    "1. return the estimate of the value of the integral,\n",
    "2. return the sample variance of the random variable $Z$ being simulated, using the np.var function, and\n",
    "3. if `isPlot` is True, plot the curve $f(x)$ as well as the location of the points $(X,Y)$, colored according to whether they fall above or below the curve. "
   ]
  },
  {
   "cell_type": "code",
   "execution_count": 386,
   "metadata": {},
   "outputs": [
    {
     "data": {
      "text/plain": [
       "0.3596"
      ]
     },
     "execution_count": 386,
     "metadata": {},
     "output_type": "execute_result"
    }
   ],
   "source": [
    "def undercurve(x,y):\n",
    "    ax = (np.sin(x)/4)\n",
    "    if ax < y:\n",
    "        return (True)\n",
    "    else:\n",
    "        return (False)\n",
    "\n",
    "\n",
    "def integrate(num_samples, ub, isPlot):\n",
    "    nInt = 0\n",
    "    for i in range(0, num_samples):\n",
    "        x = np.random.uniform(low=0, high=ub, size=1)\n",
    "        y = np.random.uniform(low=0, high=1, size=1)\n",
    "        if undercurve(x,y):\n",
    "            if isPlot == True : plt.plot(x,y,'o',color = \"red\")\n",
    "        else:\n",
    "            if isPlot == True : plt.plot(x,y,'o',color = \"blue\")\n",
    "            nInt +=1\n",
    "    return (ub*nInt/num_samples )"
   ]
  },
  {
   "cell_type": "markdown",
   "metadata": {},
   "source": [
    "**Part E.** Write your own small unit tests!\n",
    "\n",
    "First, what should your `integrate` function output if you plug in `ub=0`? Set that as `int_0_to_0` below.\n",
    "\n",
    "Second, what should your `integrate` function output if you plug in `ub=pi`? Set that as `int_0_to_pi` below.\n",
    "\n",
    "Then, you can execute the cell below to run two sanity checks. Write out **in math** (like, a definite integral) what each of these two tests is checking and **why** that is a reasonable sanity check.\n",
    "\n",
    "If these two assertions run without fail, then things seem to be working okay. Note that the upper endpoint test is stochastic, so if it fails, try running it a few times. If it fails a lot, then things are probably going wrong."
   ]
  },
  {
   "cell_type": "markdown",
   "metadata": {},
   "source": [
    "$\\frac{1}{4}\\int_{0}^{0}{sin(x)} = 0$\n",
    "\n",
    "$\\frac{1}{4}\\int_{0}^{\\pi}{sin(x)} = .5$"
   ]
  },
  {
   "cell_type": "code",
   "execution_count": 396,
   "metadata": {},
   "outputs": [
    {
     "name": "stdout",
     "output_type": "stream",
     "text": [
      "ub = 0 :  0.0\n",
      "ub = pi :  0.5246459731494955\n",
      "\n",
      "\n",
      "ub = 0 :  0.0\n",
      "ub = pi :  0.4618141200776996\n"
     ]
    }
   ],
   "source": [
    "int_0_to_0 = integrate(1000,0,False)\n",
    "int_0_to_pi = integrate(1000,np.pi,False)\n",
    "\n",
    "print(\"ub = 0 : \", int_0_to_0)\n",
    "print(\"ub = pi : \", int_0_to_pi)\n",
    "\n",
    "\n",
    "print()\n",
    "print() \n",
    "int_0_to_0 = integrate(1000,0,False)\n",
    "int_0_to_pi = integrate(1000,np.pi,False)\n",
    "\n",
    "print(\"ub = 0 : \", int_0_to_0)\n",
    "print(\"ub = pi : \", int_0_to_pi)"
   ]
  },
  {
   "cell_type": "markdown",
   "metadata": {},
   "source": [
    "**Part F.** Run your simulation with `isPlot=True` and `ub=2` for 1,000 samples so we can see your plot. Then, run your simulation (with `isPlot=False`) with at least 10,000 samples and estimate the value of the given integral. Be sure to leave your cells evaluated for the graders! Does your estimate agree with the exact value of the integral you computed in **Part A**? "
   ]
  },
  {
   "cell_type": "code",
   "execution_count": 397,
   "metadata": {},
   "outputs": [
    {
     "data": {
      "text/plain": [
       "0.35294"
      ]
     },
     "execution_count": 397,
     "metadata": {},
     "output_type": "execute_result"
    },
    {
     "data": {
      "image/png": "[encoded data removed]",
      "text/plain": [
       "<Figure size 432x288 with 1 Axes>"
      ]
     },
     "metadata": {
      "needs_background": "light"
     },
     "output_type": "display_data"
    }
   ],
   "source": [
    "integrate(100000,2,True)"
   ]
  }
 ],
 "metadata": {
  "kernelspec": {
   "display_name": "Python 3",
   "language": "python",
   "name": "python3"
  },
  "language_info": {
   "codemirror_mode": {
    "name": "ipython",
    "version": 3
   },
   "file_extension": ".py",
   "mimetype": "text/x-python",
   "name": "python",
   "nbconvert_exporter": "python",
   "pygments_lexer": "ipython3",
   "version": "3.8.3"
  }
 },
 "nbformat": 4,
 "nbformat_minor": 2
}
