{
 "cells": [
  {
   "cell_type": "markdown",
   "metadata": {},
   "source": [
    "<a id='top'></a>\n",
    "\n",
    "# CSCI3022 F21\n",
    "# Homework 4: Bayes and Discrete RVs\n",
    "***\n",
    "\n",
    "**Name**: Aidan Reese\n",
    "\n",
    "***\n",
    "\n",
    "This assignment is due on Canvas (as .ipynb) and Gradescope (as a .pdf) by **MIDNIGHT on Mon 27 Sep**. Your solutions to theoretical questions should be done in Markdown directly below the associated question.  Your solutions to computational questions should include any specified Python code and results as well as written commentary on your conclusions.  Remember that you are encouraged to discuss the problems with your classmates, but **you must write all code and solutions on your own**.\n",
    "\n",
    "**NOTES**: \n",
    "\n",
    "- Any relevant data sets should be available on Canvas. To make life easier on the graders if they need to run your code, do not change the relative path names here. Instead, move the files around on your computer.\n",
    "- If you're not familiar with typesetting math directly into Markdown then by all means, do your work on paper first and then typeset it later.  Here is a [reference guide](https://math.meta.stackexchange.com/questions/5020/mathjax-basic-tutorial-and-quick-reference) linked on Canvas on writing math in Markdown. **All** of your written commentary, justifications and mathematical work should be in Markdown.  I also recommend the [wikibook](https://en.wikibooks.org/wiki/LaTeX) for LaTex.\n",
    "- Because you can technically evaluate notebook cells is a non-linear order, it's a good idea to do **Kernel $\\rightarrow$ Restart & Run All** as a check before submitting your solutions.  That way if we need to run your code you will know that it will work as expected. \n",
    "- It is **bad form** to make your reader interpret numerical output from your code.  If a question asks you to compute some value from the data you should show your code output **AND** write a summary of the results in Markdown directly below your code. \n",
    "- 45 points of this assignment are in problems.  The remaining 5 are for neatness, style, and overall exposition of both code and text.\n",
    "- This probably goes without saying, but... For any question that asks you to calculate something, you **must show all work and justify your answers to receive credit**. Sparse or nonexistent work will receive sparse or nonexistent credit. \n",
    "\n",
    "---\n",
    "**Shortcuts:**  [Problem 1](#p1) | [Problem 2](#p2) | [Problem 3](#p3) |\n",
    "---"
   ]
  },
  {
   "cell_type": "code",
   "execution_count": 83,
   "metadata": {},
   "outputs": [],
   "source": [
    "import numpy as np\n",
    "import pandas as pd\n",
    "import matplotlib.pylab as plt\n",
    "import scipy.stats as stats\n",
    "from math import comb\n",
    "%matplotlib inline"
   ]
  },
  {
   "cell_type": "markdown",
   "metadata": {},
   "source": [
    "[Back to top](#top)\n",
    "<a/ id='p1'></a>\n",
    "\n",
    "## (15 pts) Problem 1: Bayes and Additional Information\n",
    "\n"
   ]
  },
  {
   "cell_type": "markdown",
   "metadata": {},
   "source": [
    "In or marbles-in-bags examples in class and in notebook 5, we asked a question about drawing marbles from bags with uneven distributions of marbles inside.  The question we often want to ask is \"how can we figure out which bag we had when all we observe is the marbles drawn?\"\n",
    "\n",
    "Our Pokédex is pretty great since we've collected lots of Pokémon. Enough that when we battle our friends, we don't even bother to think about what we choose.  Instead, we:\n",
    "\n",
    "1) Pick a **generation** of Pokémon at random, with all 4 outcomes equally likely\n",
    "\n",
    "2) Choose any one of our Pokémon of that generation to battle (each equally likely among the total options)\n",
    "\n",
    "3) If we battle again, we again choose one of our available Pokémon of the *same* generation chosen in step 1), possibly even the same Pokémon in step 2).\n",
    "\n",
    "Inside our Pokédex is the following:\n",
    "\n",
    "- From generation 1, 9 total: 3 Water types, 3 Poison types (Koffings, of course), 2 Fire types, 1 Electric Type\n",
    "- From generation 2, 14 total: 9 Water types (all Mudkips), 3 Fire types, 1 Electric Types, 1 Dragon Type\n",
    "- From generation 3, 7 total: 1 Grass type, 2 Fire types, 1 Electric Type, 3 Dragon types\n",
    "- From generation 4, 6 total: 2 Water types, 2 Fire Types, 2 Electric Types\n"
   ]
  },
  {
   "cell_type": "markdown",
   "metadata": {},
   "source": [
    "**Part A**:\n",
    "\n",
    "Suppose we battle a single friend once.  What is the exact probability that we use a Water Type, $P(W_1)$?"
   ]
  },
  {
   "cell_type": "markdown",
   "metadata": {},
   "source": [
    "\n",
    "\n",
    "$\\frac{1}{4}$ = Picking each generation\n",
    "\n",
    "Probability of picking a water in each generation $(\\frac{1}{3}, \\frac{9}{14}, 0, \\frac{1}{3})$\n",
    "\n",
    "$\\frac{1}{4} * \\sum_{n}^{4} P(G_n) = (\\frac{1}{12}+ \\frac{9}{56}+ \\frac{1}{12}) = \\frac{53}{156} = 0.33974358974359$\n",
    "\n"
   ]
  },
  {
   "cell_type": "markdown",
   "metadata": {},
   "source": [
    "**Part B**:\n",
    "\n",
    "Suppose we battle a single friend once, and we used a Water Type.  Given this, what is the exact probability that we were using a generation 2 Pokémon, or $P(2| W_1)$?"
   ]
  },
  {
   "cell_type": "markdown",
   "metadata": {},
   "source": [
    "Bayes : \n",
    "\n",
    "Generation 2 given WaterType = $\\frac{\\frac{53}{156}*\\frac{9}{14}}{\\frac{1}{4}}$ = .873"
   ]
  },
  {
   "cell_type": "markdown",
   "metadata": {},
   "source": [
    "**Part C**:\n",
    "\n",
    "Are the events $2$ for \"used a second generation Pokémon\" and $W_1$ for \"used a Water Pokémon in our first battle\" independent?  Why or why not.\n",
    "\n"
   ]
  },
  {
   "cell_type": "markdown",
   "metadata": {},
   "source": [
    "Yes they are independant, we are not more likely to choose a different generation based on what kind of pokemon it is.  We can infer which generation is more likely based on the information on what pokemon we have but it does'nt affect the choice."
   ]
  },
  {
   "cell_type": "markdown",
   "metadata": {},
   "source": [
    "\n",
    "**Part D**:\n",
    "\n",
    "Suppose we decide to battle 3 times in a row against the same opponent and we end up with a Water Type all 3 times.  What is the probability that all 3 Pokémon are Water Type?  **Given** that all 3 Pokémon were Water Type, which generation do you think you selected at random?  Justify with an exact probability of *each* generation.\n"
   ]
  },
  {
   "cell_type": "markdown",
   "metadata": {},
   "source": [
    "Because we need 3 in a row then we can calculate the odds independantly with just \n",
    "\n",
    "$P(G_n)^3$"
   ]
  },
  {
   "cell_type": "code",
   "execution_count": 5,
   "metadata": {},
   "outputs": [
    {
     "name": "stdout",
     "output_type": "stream",
     "text": [
      "Generation 1 :  0.03703703703703703\n",
      "Generation 2 :  0.26567055393586014\n",
      "Generation 3 :  0\n",
      "Generation 4 :  0.03703703703703703\n",
      "Clearly Generation 2 has the best likely hood of being chosen, this makes sense as it has the most amount of pokemon to water pokemon ratio\n"
     ]
    }
   ],
   "source": [
    "print(\"Generation 1 : \", (1/3)**3)\n",
    "print(\"Generation 2 : \", (9/14)**3)\n",
    "print(\"Generation 3 : \", (0)**3)\n",
    "print(\"Generation 4 : \", (1/3)**3)\n",
    "\n",
    "print(\"Clearly Generation 2 has the best likely hood of being chosen, this makes sense as it has the most amount of pokemon to water pokemon ratio\")"
   ]
  },
  {
   "cell_type": "markdown",
   "metadata": {},
   "source": [
    "**Part E**:  \n",
    "\n",
    "First, work out **by hand** a formula for the probability in general that you currently are using generation 2 Pokémon, given that you used a Water Type for $n$ battles in a row.\n",
    "\n",
    "Then, define a function `prob_gen2` to calculate $P(2 \\mid (W_1\\cap W_2 \\cap \\dots \\cap W_n))$.  This function should only take one positive integer argument, $n$.\n",
    "\n",
    "Verify that your function is performing as expected by checking your answer to **Part D**.  Then create a line plot where the $x$ axis is $n$ (from 0 to 20) and the y-axis is $P(2|\\text{\"used a water type n times in a row\"})$"
   ]
  },
  {
   "cell_type": "markdown",
   "metadata": {},
   "source": [
    "$P(2 \\mid (W_1\\cap W_2 \\cap \\dots \\cap W_n))$ = $\\frac{\\frac{53}{156}*{(\\frac{9}{14})^n}}{(\\frac{1}{4})}$"
   ]
  },
  {
   "cell_type": "code",
   "execution_count": 15,
   "metadata": {},
   "outputs": [
    {
     "data": {
      "image/png": "[encoded data removed]",
      "text/plain": [
       "<Figure size 432x288 with 1 Axes>"
      ]
     },
     "metadata": {
      "needs_background": "light"
     },
     "output_type": "display_data"
    }
   ],
   "source": [
    "def prob_gen2(n):\n",
    "    A_B = 53/156\n",
    "    B = (9/14)**n\n",
    "    A = (1/4)\n",
    "    return((A_B*B)/A)\n",
    "\n",
    "\n",
    "prob = [None] *20\n",
    "for i in range (1,21):\n",
    "    prob[i-1] = prob_gen2(i)\n",
    "\n",
    "    \n",
    "plt.plot(prob,range(1,21))\n",
    "plt.title('prob_gen2')\n",
    "plt.xlabel('P(2|W)')\n",
    "plt.ylabel('n')\n",
    "plt.show()"
   ]
  },
  {
   "cell_type": "markdown",
   "metadata": {},
   "source": [
    "[Back to top](#top)\n",
    "<a/ id='p2'></a>\n",
    "\n",
    "## (15 pts) Problem 2 (Theory): Making a pdf\n",
    "***\n",
    "\n",
    "\n",
    "Suppose we devise the following die-rolling game.\n",
    "\n",
    "1) Roll a fair 6-sided die, and record the face `x` as your score.\n",
    "\n",
    "2) Then roll `x` more fair 6-sided dice, and add their faces to your original score `x`.\n",
    "\n",
    "Denote your final score by the random variable $Y$, and the pdf of $Y$ by $f(y)$."
   ]
  },
  {
   "cell_type": "markdown",
   "metadata": {},
   "source": [
    "**Part A**: Compute by hand the *exact* probability that $Y=5$, or $f(5)$."
   ]
  },
  {
   "cell_type": "markdown",
   "metadata": {},
   "source": [
    "Only cases possible for Y=5, x must be 1,2 :  (1,4),(2,1,2)(2,2,1).\n",
    "\n",
    "X = 1 : $(\\frac{1}{6})^2$\n",
    "\n",
    "X = 2 : $(\\frac{1}{6}) * ((\\frac{1}{6}*\\frac{1}{6})+(\\frac{1}{6}*\\frac{1}{6}))$\n",
    "\n",
    "f(5) = $\\frac{1}{27}$\n"
   ]
  },
  {
   "cell_type": "markdown",
   "metadata": {},
   "source": [
    "**Part B**: Use a simulation to generate the approximate pdf $f(y)$ over all possible outcomes.  Display that pdf as a histogram. Print the approximated value of $f(5)$ to check your work in **A**"
   ]
  },
  {
   "cell_type": "code",
   "execution_count": 60,
   "metadata": {},
   "outputs": [
    {
     "name": "stdout",
     "output_type": "stream",
     "text": [
      "f(5) = 0.03783007544581619\n",
      "1/27 =  0.037037037037037035\n"
     ]
    }
   ],
   "source": [
    "results = [0] *42 #stores res\n",
    "for x in range(1, 7):\n",
    "    for j in range(6**x):\n",
    "        k = 0\n",
    "        t = j #tracks how many rolls left\n",
    "        while t != 0: #rolls after determining x\n",
    "            k += (t % 6) + 1\n",
    "            t = t // 6\n",
    "        results[x + k - 1] += 1 / 6**(x + 1)\n",
    "        \n",
    "print(\"f(5) =\", results[4])##x == i+1\n",
    "print(\"1/27 = \",1/27)"
   ]
  },
  {
   "cell_type": "markdown",
   "metadata": {},
   "source": [
    "**Part C**: Use your simulations in part B to generate the approximate cdf $F(y)$ over all possible outcomes.  Display that cdf as a line plot (e.g. via `plt.plot`)."
   ]
  },
  {
   "cell_type": "code",
   "execution_count": 56,
   "metadata": {},
   "outputs": [
    {
     "data": {
      "text/plain": [
       "<Figure size 432x288 with 0 Axes>"
      ]
     },
     "metadata": {},
     "output_type": "display_data"
    },
    {
     "data": {
      "image/png": "[encoded data removed]",
      "text/plain": [
       "<Figure size 432x288 with 2 Axes>"
      ]
     },
     "metadata": {
      "needs_background": "light"
     },
     "output_type": "display_data"
    }
   ],
   "source": [
    "plt.figure()\n",
    "fig, axs = plt.subplots(1, 2)\n",
    "axs[0].bar([i + 1 for i in range(42)], results)\n",
    "axs[0].title.set_text(\"PDF\")\n",
    "\n",
    "for i in range(1, len(results)):\n",
    "    results[i] = results[i - 1] + results[i]\n",
    "\n",
    "axs[1].plot([i + 1 for i in range(42)], results)\n",
    "axs[1].title.set_text(\"CDF\")\n",
    "plt.show()"
   ]
  },
  {
   "cell_type": "markdown",
   "metadata": {},
   "source": [
    "[Back to top](#top)\n",
    "<a/ id='p3'></a>\n",
    "\n",
    "## (15 pts) How's the weather?\n",
    "***\n",
    "Suppose that we're interested in exploring how patterns in weather express themselves.  The file `boulderjuly90s.txt` imported below has the *counts* of days above 90 degrees from July 1949-2021.  See [here](https://psl.noaa.gov/boulder/) for source."
   ]
  },
  {
   "cell_type": "code",
   "execution_count": 62,
   "metadata": {},
   "outputs": [
    {
     "data": {
      "text/html": [
       "<div>\n",
       "<style scoped>\n",
       "    .dataframe tbody tr th:only-of-type {\n",
       "        vertical-align: middle;\n",
       "    }\n",
       "\n",
       "    .dataframe tbody tr th {\n",
       "        vertical-align: top;\n",
       "    }\n",
       "\n",
       "    .dataframe thead th {\n",
       "        text-align: right;\n",
       "    }\n",
       "</style>\n",
       "<table border=\"1\" class=\"dataframe\">\n",
       "  <thead>\n",
       "    <tr style=\"text-align: right;\">\n",
       "      <th></th>\n",
       "      <th>Year</th>\n",
       "      <th>JUL</th>\n",
       "    </tr>\n",
       "  </thead>\n",
       "  <tbody>\n",
       "    <tr>\n",
       "      <th>0</th>\n",
       "      <td>1949</td>\n",
       "      <td>15</td>\n",
       "    </tr>\n",
       "    <tr>\n",
       "      <th>1</th>\n",
       "      <td>1950</td>\n",
       "      <td>7</td>\n",
       "    </tr>\n",
       "    <tr>\n",
       "      <th>2</th>\n",
       "      <td>1951</td>\n",
       "      <td>21</td>\n",
       "    </tr>\n",
       "    <tr>\n",
       "      <th>3</th>\n",
       "      <td>1952</td>\n",
       "      <td>19</td>\n",
       "    </tr>\n",
       "    <tr>\n",
       "      <th>4</th>\n",
       "      <td>1953</td>\n",
       "      <td>14</td>\n",
       "    </tr>\n",
       "  </tbody>\n",
       "</table>\n",
       "</div>"
      ],
      "text/plain": [
       "   Year  JUL\n",
       "0  1949   15\n",
       "1  1950    7\n",
       "2  1951   21\n",
       "3  1952   19\n",
       "4  1953   14"
      ]
     },
     "execution_count": 62,
     "metadata": {},
     "output_type": "execute_result"
    }
   ],
   "source": [
    "days=pd.read_csv('../data/boulderjuly90s.csv')\n",
    "days.head()"
   ]
  },
  {
   "cell_type": "markdown",
   "metadata": {},
   "source": [
    "**Part A**:\n",
    "\n",
    "Perform the usual initial explorations of data.  Ensure that there are no missing or fill values, check the size/shape of the data frame, and generate a line plot with the $x$ axis as year and the $y$ axis as days above 90 in that year's July.\n",
    "\n",
    "Do there appear to be any patterns in the number of days over time?"
   ]
  },
  {
   "cell_type": "code",
   "execution_count": 76,
   "metadata": {},
   "outputs": [
    {
     "name": "stdout",
     "output_type": "stream",
     "text": [
      "0\n",
      "0\n"
     ]
    },
    {
     "data": {
      "text/plain": [
       "<matplotlib.axes._subplots.AxesSubplot at 0x1c869219ee0>"
      ]
     },
     "execution_count": 76,
     "metadata": {},
     "output_type": "execute_result"
    },
    {
     "data": {
      "image/png": "[encoded data removed]",
      "text/plain": [
       "<Figure size 432x288 with 1 Axes>"
      ]
     },
     "metadata": {
      "needs_background": "light"
     },
     "output_type": "display_data"
    }
   ],
   "source": [
    "print(sum(days['Year'].isnull()))\n",
    "print(sum(days['JUL'].isnull()))\n",
    "\n",
    "days.plot.line(x=\"Year\", y='JUL')\n"
   ]
  },
  {
   "cell_type": "markdown",
   "metadata": {},
   "source": [
    "There appears to be a very small upwards trend in the number of days above 90, especially after 1990"
   ]
  },
  {
   "cell_type": "markdown",
   "metadata": {},
   "source": [
    "**Part B**:\n",
    "\n",
    "Compute the average number of days in a July that are over 90, then divide by 31 to get the overall *probability* that any given day in July is over 90.  Suppose this is the \"true\" value $p$ of an underlying *Bernoulli* random variable.\n",
    "\n",
    "If the days of any given July are actually **independent**, then each July should be 31 independent such Bernoulli random variables.  Using the relevant `scipy.stats` functions, answer the following:\n",
    "\n",
    "\"If each day is independent of one another and probability $p$ of being above 90 degrees, what is the probability that 20 or more days in July are above 90 degrees?\"\n",
    "\n",
    "Compare your theoretical result to the number of July's that actually had 20 or more days above 90 from `days`."
   ]
  },
  {
   "cell_type": "markdown",
   "metadata": {},
   "source": [
    "$_nC_x⋅p^x⋅(1−p)^{n−x}$"
   ]
  },
  {
   "cell_type": "code",
   "execution_count": 100,
   "metadata": {},
   "outputs": [
    {
     "name": "stdout",
     "output_type": "stream",
     "text": [
      "P(90) =  0.43879805567830316\n",
      "Bernoulli Probability :  0.010312077343136074\n",
      "Actual Probabibilty :  0.136986301369863\n",
      "73\n"
     ]
    }
   ],
   "source": [
    "JUL = days['JUL']\n",
    "P = np.mean(JUL)/31\n",
    "print(\"P(90) = \",P)\n",
    "C = comb(31,20)\n",
    "\n",
    "JUL2 = days[days['JUL']>20]\n",
    "print(\"Bernoulli Probability : \", C*(P**20)*(1-P)**(31-20))\n",
    "print(\"Actual Probabibilty : \", len(JUL2)/len(JUL))"
   ]
  },
  {
   "cell_type": "markdown",
   "metadata": {},
   "source": [
    "**Part C**:\n",
    "\n",
    "Create a two part plot for the counts of the days-in-July-over-90.  The first is the histograms of the true values in `days`, the second is the theoretical value from the pmf of the underlying process if each day within the months was independent and identically distributed.  Overlay the pmf as a line on top of the histogram.  Do they visually appear to be coming from the same distribution?"
   ]
  },
  {
   "cell_type": "code",
   "execution_count": 106,
   "metadata": {},
   "outputs": [
    {
     "data": {
      "text/plain": [
       "<matplotlib.axes._subplots.AxesSubplot at 0x1c86ae5eac0>"
      ]
     },
     "execution_count": 106,
     "metadata": {},
     "output_type": "execute_result"
    },
    {
     "data": {
      "image/png": "[encoded data removed]",
      "text/plain": [
       "<Figure size 432x288 with 1 Axes>"
      ]
     },
     "metadata": {
      "needs_background": "light"
     },
     "output_type": "display_data"
    },
    {
     "data": {
      "image/png": "[encoded data removed]",
      "text/plain": [
       "<Figure size 432x288 with 1 Axes>"
      ]
     },
     "metadata": {
      "needs_background": "light"
     },
     "output_type": "display_data"
    }
   ],
   "source": [
    "days.plot.hist(x=\"Year\", y='JUL', bins = 73)\n",
    "days.plot.line(x=\"Year\", y='JUL', color = 'Red')"
   ]
  },
  {
   "cell_type": "markdown",
   "metadata": {},
   "source": [
    "**Part D**:\n",
    "\n",
    "Draw a conclusion.  What possible causes could you find for your results in **C** for the similarities and/or differences between the two distributions?"
   ]
  },
  {
   "cell_type": "markdown",
   "metadata": {},
   "source": []
  }
 ],
 "metadata": {
  "kernelspec": {
   "display_name": "Python 3",
   "language": "python",
   "name": "python3"
  },
  "language_info": {
   "codemirror_mode": {
    "name": "ipython",
    "version": 3
   },
   "file_extension": ".py",
   "mimetype": "text/x-python",
   "name": "python",
   "nbconvert_exporter": "python",
   "pygments_lexer": "ipython3",
   "version": "3.8.3"
  }
 },
 "nbformat": 4,
 "nbformat_minor": 2
}
