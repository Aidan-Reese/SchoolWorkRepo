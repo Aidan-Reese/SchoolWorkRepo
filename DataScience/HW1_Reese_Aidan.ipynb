{
 "cells": [
  {
   "cell_type": "markdown",
   "metadata": {},
   "source": [
    "<a id='top'></a>\n",
    "\n",
    "# CSCI3022 F21\n",
    "# Homework 1: Measures of Centrality and Dispersion\n",
    "***\n",
    "\n",
    "**Name**: Aidan Reese\n",
    "\n",
    "***\n",
    "\n",
    "This assignment is due on Canvas by **MIDNIGHT on Tuesday, September 7**. (NB: most HW will be due on Mondays, but due to Labor Day this is one day later).  Your solutions to theoretical questions should be done in Markdown directly below the associated question.  Your solutions to computational questions should include any specified Python code and results as well as written commentary on your conclusions.  Remember that you are encouraged to discuss the problems with your classmates, but **you must write all code and solutions on your own**.\n",
    "\n",
    "**NOTES**: \n",
    "\n",
    "- Any relevant data sets should be available on Canvas. To make life easier on the graders if they need to run your code, do not change the relative path names here. Instead, move the files around on your computer.\n",
    "- If you're not familiar with typesetting math directly into Markdown then by all means, do your work on paper first and then typeset it later.  Here is a [reference guide](https://math.meta.stackexchange.com/questions/5020/mathjax-basic-tutorial-and-quick-reference) linked on Canvas on writing math in Markdown. **All** of your written commentary, justifications and mathematical work should be in Markdown.  I also recommend the [wikibook](https://en.wikibooks.org/wiki/LaTeX) for LaTex.\n",
    "- Because you can technically evaluate notebook cells is a non-linear order, it's a good idea to do **Kernel $\\rightarrow$ Restart & Run All** as a check before submitting your solutions.  That way if we need to run your code you will know that it will work as expected. \n",
    "- It is **bad form** to make your reader interpret numerical output from your code.  If a question asks you to compute some value from the data you should show your code output **AND** write a summary of the results in Markdown directly below your code. \n",
    "- 45 points of this assignment are in problems.  The remaining 5 are for neatness, style, and overall exposition of both code and text.\n",
    "- This probably goes without saying, but... For any question that asks you to calculate something, you **must show all work and justify your answers to receive credit**. Sparse or nonexistent work will receive sparse or nonexistent credit. \n",
    "\n",
    "---\n",
    "**Shortcuts:**  [Problem 1](#p1) | [Problem 2](#p2) | [Problem 3](#p3) |\n",
    "---"
   ]
  },
  {
   "cell_type": "code",
   "execution_count": 2,
   "metadata": {},
   "outputs": [],
   "source": [
    "import numpy as np\n",
    "import pandas as pd\n",
    "import matplotlib.pylab as plt\n",
    "%matplotlib inline"
   ]
  },
  {
   "cell_type": "markdown",
   "metadata": {},
   "source": [
    "[Back to top](#top)\n",
    "<a/ id='p1'></a>\n",
    "\n",
    "## (10 pts) Problem 1:Theory (The Minimal Median)\n",
    "***\n",
    "\n",
    "One way we conceptualize many data science questions is asking for the \"best choice\" of some parameter on data set.  We should be able to justify that our measures of centrality should in some way be the \"best\" ways to represent the data.\n",
    "\n",
    "\n",
    "In lecture, we may have discussed the following important property of the mean:\n",
    "\n",
    "\n",
    "The *sample mean* of data $X_1, X_2, \\dots X_n$ is the unique minimizer $c$ of the function $$f(c)=\\sum_{i=1}^n \\left(X_i-c \\right)^2. $$\n",
    "\n",
    "The proof of that claim is as follows:\n",
    "\n",
    "**Proof:**\n",
    "\n",
    "Differentiating yields\n",
    "$$f'(c)=\\frac{df}{dc}\\sum_{i=1}^n \\left(X_i-c \\right)^2 =\\sum_{i=1}^n-2(X_i-c).$$ \n",
    "\n",
    "Setting $f'(c)=0$ gives\n",
    "\n",
    "$$0=\\sum_{i=1}^n-2(X_i-c)$$\n",
    "$$=2nc-2\\sum_{i=1}^n X_i$$\n",
    "$$\\implies\\qquad  c=\\frac{\\sum_{i=1}^n X_i}{n}=\\bar{X}$$\n",
    "\n",
    "***\n",
    "\n",
    "### Your exercise:\n",
    "\n",
    "You are tasked with recreating a *similar* proof.  Prove the following:\n",
    "\n",
    "The *median* of data $X_1, X_2, \\dots X_n$ is the possibly non-unique minimizer $c$ of the function $$f(c)=\\sum_{i=1}^n |X_i-c| $$\n",
    "\n",
    "A few things to think about and **include in your solution**:\n",
    "\n",
    " - how do we differentiate the absolute value function?\n",
    " - what conditions might make the median non-unique in this case?  If it's nonunique, what possible values of $c$ still minimize the function $f$?  This about both how this process looks with different numbers of total points $n$ and if data values are possible identical/repeated."
   ]
  },
  {
   "cell_type": "markdown",
   "metadata": {},
   "source": [
    " $$f(c)=\\sum_{i=1}^{n} |x_i-c|$$\n",
    " $$ = x_i\\leq ... \\leq x_n$$\n",
    " $$\\sum_{i=1}^{j-1}(c-x_i)+\\sum_{i=j}^{n}(x_i-c)$$\n",
    " \n",
    " $$(j-1)c - (n-j+1)c + (\\sum_{i=j}^{n}x_i-\\sum_{i=1}^{j-1}x_1)$$\n",
    " $$1\\leq i \\leq n $$\n",
    " \n",
    " $$2(i-1)-n < 0$$      $$i-1 < \\frac{n}{2}$$\n",
    " \n",
    " F(c) is minimized at the Median, which is at $$\\frac{n}{2}$$\n"
   ]
  },
  {
   "cell_type": "markdown",
   "metadata": {},
   "source": [
    "[Back to top](#top)\n",
    "<a/ id='p2'></a>\n",
    "\n",
    "## (15 pts) Problem 2: Theory and Computation (Scaling)\n",
    "***\n",
    "Consider the following 3 data sets:\n",
    "\n",
    "`A=[0,1,2,3,4,5,6,7,8,9,10,11,12,13,14,15]`\n",
    "\n",
    "`B=[112,0,0,12,7,18,0,25,0,13,0,35]`\n",
    "\n",
    "`C` is the random data set generated by using `np.random.gamma(5,1.5,size=37)`\n",
    "\n",
    "For each data set, perform the following operations:\n",
    "\n",
    "**Part A:** Compute and print the mean and standard deviation of the data set."
   ]
  },
  {
   "cell_type": "code",
   "execution_count": 77,
   "metadata": {},
   "outputs": [
    {
     "name": "stdout",
     "output_type": "stream",
     "text": [
      "A Mean , Standard Deviation :  7.5 , 4.6097722286464435\n",
      "B Mean , Standard Deviation :  18.5 , 30.2393231846658\n",
      "C Mean , Standard Deviation :  8.097967182663382 , 3.6524313543790807\n"
     ]
    }
   ],
   "source": [
    "A = [0,1,2,3,4,5,6,7,8,9,10,11,12,13,14,15]\n",
    "AMean = np.mean(A)\n",
    "AStdv = np.std(A)\n",
    "print(\"A Mean , Standard Deviation : \", AMean,\",\", AStdv)\n",
    "\n",
    "B = [112,0,0,12,7,18,0,25,0,13,0,35]\n",
    "BMean = np.mean(B)\n",
    "BStdv = np.std(B)\n",
    "print(\"B Mean , Standard Deviation : \", BMean,\",\", BStdv)\n",
    "\n",
    "C = np.random.gamma(5,1.5,size=37)\n",
    "CMean = np.mean(C)\n",
    "CStdv = np.std(C)\n",
    "print(\"C Mean , Standard Deviation : \", CMean,\",\", CStdv)"
   ]
  },
  {
   "cell_type": "markdown",
   "metadata": {},
   "source": [
    "**Part B:** Plot frequency histograms of each data set, with the 3 plots stacked vertically (one on top of the other)."
   ]
  },
  {
   "cell_type": "code",
   "execution_count": 73,
   "metadata": {},
   "outputs": [
    {
     "data": {
      "text/plain": [
       "Text(0.5, 1.0, 'C')"
      ]
     },
     "execution_count": 73,
     "metadata": {},
     "output_type": "execute_result"
    },
    {
     "data": {
      "image/png": "[encoded data removed]",
      "text/plain": [
       "<Figure size 576x576 with 3 Axes>"
      ]
     },
     "metadata": {
      "needs_background": "light"
     },
     "output_type": "display_data"
    }
   ],
   "source": [
    "dfA = pd.DataFrame(A)\n",
    "dfB = pd.DataFrame(B)\n",
    "dfC = pd.DataFrame(C)\n",
    "\n",
    "fig, axes = plt.subplots(nrows=3, ncols=1, figsize=(8,8))\n",
    "\n",
    "\n",
    "dfA.hist(bins = 16, edgecolor = \"white\", ax=axes[0])\n",
    "\n",
    "dfB.hist(bins = 16, edgecolor = \"white\", ax=axes[1], facecolor = \"red\")\n",
    "\n",
    "dfC.hist(bins = 16, edgecolor = \"white\", ax=axes[2], facecolor = \"green\")\n",
    "\n",
    "axes[0].set_title(\"A\", fontsize=16)\n",
    "axes[1].set_title(\"B\", fontsize=16)\n",
    "axes[2].set_title(\"C\", fontsize=16)"
   ]
  },
  {
   "cell_type": "markdown",
   "metadata": {},
   "source": [
    "**Part C:** Form 3 new data sets, $A^*$, $B^*$, and $C^*$.  Create each by subtracting the original means of A, B, and C from each observation in that data set. Compute and print the means and standard deviations of the new data sets."
   ]
  },
  {
   "cell_type": "code",
   "execution_count": 78,
   "metadata": {},
   "outputs": [
    {
     "name": "stdout",
     "output_type": "stream",
     "text": [
      "A* Median , Standard Deviation :  0.0 , 4.6097722286464435\n",
      "B* Median , Standard Deviation :  0.0 , 30.2393231846658\n",
      "C* Median , Standard Deviation :  -3.3606751015680416e-16 , 3.652431354379081\n"
     ]
    }
   ],
   "source": [
    "AStar = A - np.mean(A)\n",
    "BStar = B - np.mean(B)\n",
    "CStar = C - np.mean(C)\n",
    "\n",
    "ASMedian = np.mean(AStar)\n",
    "ASStdv = np.std(AStar)\n",
    "\n",
    "BSMedian = np.mean(BStar)\n",
    "BSStdv = np.std(BStar)\n",
    "\n",
    "CSMedian = np.mean(CStar)\n",
    "CSStdv = np.std(CStar)\n",
    "\n",
    "print(\"A* Median , Standard Deviation : \", ASMedian,\",\", ASStdv)\n",
    "\n",
    "print(\"B* Median , Standard Deviation : \", BSMedian,\",\", BSStdv)\n",
    "\n",
    "print(\"C* Median , Standard Deviation : \", CSMedian,\",\", CSStdv)"
   ]
  },
  {
   "cell_type": "markdown",
   "metadata": {},
   "source": [
    "**Part D:** Form 3 new data sets, $\\tilde{A}$, $\\tilde{B}$, and $\\tilde{C}$.  Create each by subtracting the original means of A, B, and C from each observation in that data set and then dividing by the original standard deviation.  Compute and print the means and standard deviations of the new data sets."
   ]
  },
  {
   "cell_type": "code",
   "execution_count": 88,
   "metadata": {},
   "outputs": [
    {
     "name": "stdout",
     "output_type": "stream",
     "text": [
      "A Bar Mean , Standard Deviation :  0.0 , 1.0\n",
      "B Bar Mean , Standard Deviation :  -9.25185853854297e-18 , 1.0\n",
      "C Bar Mean , Standard Deviation :  -8.401687753920104e-17 , 1.0\n"
     ]
    }
   ],
   "source": [
    "ABar = AStar / np.std(A)\n",
    "BBar = BStar / np.std(B)\n",
    "CBar = CStar / np.std(C)\n",
    "\n",
    "ABMedian = np.mean(ABar)\n",
    "ABStdv = np.std(ABar)\n",
    "\n",
    "BBMedian = np.mean(BBar)\n",
    "BBStdv = np.std(BBar)\n",
    "\n",
    "CBMedian = np.mean(CBar)\n",
    "CBStdv = np.std(CBar)\n",
    "\n",
    "print(\"A Bar Mean , Standard Deviation : \", ABMedian,\",\", ABStdv)\n",
    "\n",
    "print(\"B Bar Mean , Standard Deviation : \", BBMedian,\",\", BBStdv)\n",
    "\n",
    "print(\"C Bar Mean , Standard Deviation : \", CBMedian,\",\", CBStdv)"
   ]
  },
  {
   "cell_type": "markdown",
   "metadata": {},
   "source": [
    "**Part E:** Plot density histograms of each $\\tilde{A}$, $\\tilde{B}$, and $\\tilde{C}$, with the 3 plots stacked vertically (one on top of the other).  Ensure that each plot has the same horizontal axis.  "
   ]
  },
  {
   "cell_type": "code",
   "execution_count": 89,
   "metadata": {},
   "outputs": [
    {
     "data": {
      "text/plain": [
       "Text(0.5, 1.0, 'C')"
      ]
     },
     "execution_count": 89,
     "metadata": {},
     "output_type": "execute_result"
    },
    {
     "data": {
      "image/png": "[encoded data removed]",
      "text/plain": [
       "<Figure size 576x576 with 3 Axes>"
      ]
     },
     "metadata": {
      "needs_background": "light"
     },
     "output_type": "display_data"
    }
   ],
   "source": [
    "dfABar = pd.DataFrame(ABar)\n",
    "dfBBar = pd.DataFrame(BBar)\n",
    "dfCBar = pd.DataFrame(CBar)\n",
    "\n",
    "fig, axes = plt.subplots(nrows=3, ncols=1, figsize=(8,8))\n",
    "\n",
    "\n",
    "dfABar.hist(bins = 16, edgecolor = \"white\", ax=axes[0])\n",
    "\n",
    "dfBBar.hist(bins = 16, edgecolor = \"white\", ax=axes[1], facecolor = \"red\")\n",
    "\n",
    "dfCBar.hist(bins = 16, edgecolor = \"white\", ax=axes[2], facecolor = \"green\")\n",
    "\n",
    "axes[0].set_title(\"A\", fontsize=16)\n",
    "axes[1].set_title(\"B\", fontsize=16)\n",
    "axes[2].set_title(\"C\", fontsize=16)"
   ]
  },
  {
   "cell_type": "markdown",
   "metadata": {},
   "source": [
    "**Part F:** Why might the result in part D matter?"
   ]
  },
  {
   "cell_type": "markdown",
   "metadata": {},
   "source": [
    "This makes the results of the data standardized with eachother so that they are on the same scale.  This allows for a better visualization on how spread out the data might be aswell as bringing the data closer together."
   ]
  },
  {
   "cell_type": "markdown",
   "metadata": {},
   "source": [
    "**Part G:** Looking at each of the 3 original data sets, come up with a real-world context where those numbers might make for reasonable observations."
   ]
  },
  {
   "cell_type": "markdown",
   "metadata": {},
   "source": [
    "A.)  This could pretty much be anything that has a growth rate of 1, as simple as how many times have we passed around the sun per year.\n",
    "\n",
    "B.) Could be how long it takes to finish a race, one person being injured and taking much much longer than the general population.\n",
    "\n",
    "C.) This is completely random so it could be anywhere from numbers rolled on a dice to just a number generator on a computer."
   ]
  },
  {
   "cell_type": "markdown",
   "metadata": {},
   "source": [
    "[Back to top](#top)\n",
    "<a/ id='p3'></a>\n",
    "\n",
    "## (20 pts) Problem 3: Practice (Titanic)\n",
    "*** \n",
    "The sinking of the RMS Titanic was a terrible tragedy that saw the loss of many lives. Even within this tragedy, thanks to the combinations of the records of the White Star Line and the thorough nature of follow-up research after the accident we have some records that can help us try to piece together the course of events on board the ship. Many of the historians and other researchers who have investigated this event have speculated as to what exactly happened.\n",
    "\n",
    "We have the data on survival rates by class, gender, and age, so let's figure out whether there is evidence for some of these scenarios. Access the Titanic data in `titanic_data.csv` and store it in a Pandas DataFrame. The data contains information pertaining to class status (**Pclass**), survival (**Survived**), and gender (**Sex**) of passengers, among other things. Be sure to use the `titanic_data.csv` data set, *not* the `clean_titanic_data` file or `dirty_titanic_data` file from the in-class notebook exercises."
   ]
  },
  {
   "cell_type": "code",
   "execution_count": 90,
   "metadata": {},
   "outputs": [
    {
     "data": {
      "text/html": [
       "<div>\n",
       "<style scoped>\n",
       "    .dataframe tbody tr th:only-of-type {\n",
       "        vertical-align: middle;\n",
       "    }\n",
       "\n",
       "    .dataframe tbody tr th {\n",
       "        vertical-align: top;\n",
       "    }\n",
       "\n",
       "    .dataframe thead th {\n",
       "        text-align: right;\n",
       "    }\n",
       "</style>\n",
       "<table border=\"1\" class=\"dataframe\">\n",
       "  <thead>\n",
       "    <tr style=\"text-align: right;\">\n",
       "      <th></th>\n",
       "      <th>PassengerId</th>\n",
       "      <th>Survived</th>\n",
       "      <th>Pclass</th>\n",
       "      <th>Name</th>\n",
       "      <th>Sex</th>\n",
       "      <th>Age</th>\n",
       "      <th>SibSp</th>\n",
       "      <th>Parch</th>\n",
       "      <th>Ticket</th>\n",
       "      <th>Fare</th>\n",
       "      <th>Embarked</th>\n",
       "    </tr>\n",
       "  </thead>\n",
       "  <tbody>\n",
       "    <tr>\n",
       "      <th>0</th>\n",
       "      <td>1</td>\n",
       "      <td>0</td>\n",
       "      <td>3</td>\n",
       "      <td>Braund, Mr. Owen Harris</td>\n",
       "      <td>male</td>\n",
       "      <td>22.0</td>\n",
       "      <td>1</td>\n",
       "      <td>0</td>\n",
       "      <td>A/5 21171</td>\n",
       "      <td>7.2500</td>\n",
       "      <td>S</td>\n",
       "    </tr>\n",
       "    <tr>\n",
       "      <th>1</th>\n",
       "      <td>2</td>\n",
       "      <td>1</td>\n",
       "      <td>1</td>\n",
       "      <td>Cumings, Mrs. John Bradley (Florence Briggs Th...</td>\n",
       "      <td>female</td>\n",
       "      <td>38.0</td>\n",
       "      <td>1</td>\n",
       "      <td>0</td>\n",
       "      <td>PC 17599</td>\n",
       "      <td>71.2833</td>\n",
       "      <td>C</td>\n",
       "    </tr>\n",
       "    <tr>\n",
       "      <th>2</th>\n",
       "      <td>3</td>\n",
       "      <td>1</td>\n",
       "      <td>3</td>\n",
       "      <td>Heikkinen, Miss. Laina</td>\n",
       "      <td>female</td>\n",
       "      <td>26.0</td>\n",
       "      <td>0</td>\n",
       "      <td>0</td>\n",
       "      <td>STON/O2. 3101282</td>\n",
       "      <td>7.9250</td>\n",
       "      <td>S</td>\n",
       "    </tr>\n",
       "    <tr>\n",
       "      <th>3</th>\n",
       "      <td>4</td>\n",
       "      <td>1</td>\n",
       "      <td>1</td>\n",
       "      <td>Futrelle, Mrs. Jacques Heath (Lily May Peel)</td>\n",
       "      <td>female</td>\n",
       "      <td>35.0</td>\n",
       "      <td>1</td>\n",
       "      <td>0</td>\n",
       "      <td>113803</td>\n",
       "      <td>53.1000</td>\n",
       "      <td>S</td>\n",
       "    </tr>\n",
       "    <tr>\n",
       "      <th>4</th>\n",
       "      <td>5</td>\n",
       "      <td>0</td>\n",
       "      <td>3</td>\n",
       "      <td>Allen, Mr. William Henry</td>\n",
       "      <td>male</td>\n",
       "      <td>35.0</td>\n",
       "      <td>0</td>\n",
       "      <td>0</td>\n",
       "      <td>373450</td>\n",
       "      <td>8.0500</td>\n",
       "      <td>S</td>\n",
       "    </tr>\n",
       "  </tbody>\n",
       "</table>\n",
       "</div>"
      ],
      "text/plain": [
       "   PassengerId  Survived  Pclass  \\\n",
       "0            1         0       3   \n",
       "1            2         1       1   \n",
       "2            3         1       3   \n",
       "3            4         1       1   \n",
       "4            5         0       3   \n",
       "\n",
       "                                                Name     Sex   Age  SibSp  \\\n",
       "0                            Braund, Mr. Owen Harris    male  22.0      1   \n",
       "1  Cumings, Mrs. John Bradley (Florence Briggs Th...  female  38.0      1   \n",
       "2                             Heikkinen, Miss. Laina  female  26.0      0   \n",
       "3       Futrelle, Mrs. Jacques Heath (Lily May Peel)  female  35.0      1   \n",
       "4                           Allen, Mr. William Henry    male  35.0      0   \n",
       "\n",
       "   Parch            Ticket     Fare Embarked  \n",
       "0      0         A/5 21171   7.2500        S  \n",
       "1      0          PC 17599  71.2833        C  \n",
       "2      0  STON/O2. 3101282   7.9250        S  \n",
       "3      0            113803  53.1000        S  \n",
       "4      0            373450   8.0500        S  "
      ]
     },
     "execution_count": 90,
     "metadata": {},
     "output_type": "execute_result"
    }
   ],
   "source": [
    "filepath = '../Data/clean_titanic_data.csv'\n",
    "df = pd.read_csv(filepath)\n",
    "df.head()"
   ]
  },
  {
   "cell_type": "markdown",
   "metadata": {},
   "source": [
    "**Part A**:\n",
    "Based on the overall population of passengers, report the proportion that survived.\n",
    "\n",
    "$$P(Survived=1)$$"
   ]
  },
  {
   "cell_type": "code",
   "execution_count": 91,
   "metadata": {},
   "outputs": [
    {
     "name": "stdout",
     "output_type": "stream",
     "text": [
      "Chance of Survival :  40.61624649859944 %\n"
     ]
    }
   ],
   "source": [
    "Survived = list(set(df[\"Survived\"]))\n",
    "totPas = len(df)\n",
    "PoS = (Survived/totPas)*100\n",
    "print(\"Chance of Survival : \", PoS, \"%\")"
   ]
  },
  {
   "cell_type": "markdown",
   "metadata": {},
   "source": [
    "**Part B**: \n",
    "Some claim that the final hours aboard the RMS Titanic were marked by \"class warfare\" in which the people with first-class tickets took all the good spots on the lifeboats; others claim that the final hours were characterized by male chivalry, in which the men valiantly gave up their positions in the boats and succumbed bravely to the depths of the Atlantic. \n",
    "\n",
    "Consider the two claims: class warfare, and male chivalry. Suppose that class warfare occurred in the final hours aboard the Titanic.  What patterns might you expect to see in the data?  Suppose that male chivalry was widespread during the final hours instead. What patterns might you then expect to see in the data?  Explain both of these hypothesized patterns in words. Are these two hypotheses mutually exclusive or not?"
   ]
  },
  {
   "cell_type": "markdown",
   "metadata": {},
   "source": [
    "If Class Warfare occurred we would see a higher average fair price among those who survived.\n",
    "If Male Chivalry occured we would see a higher precentage of survived be women.\n",
    "\n",
    "These could have occured together where the large majority of people that survived would be the wealthy women and children.\n"
   ]
  },
  {
   "cell_type": "markdown",
   "metadata": {},
   "source": [
    "**Part C**: Use Pandas methods to create a clean data set by removing any rows from the DataFrame that are missing values corresponding to **Survived**, **Pclass**, **Age**, or **Sex**. Store the clean data in a DataFrame called dfTitanic. Be sure to show any exploratory work determining if/where there are rows with missing values. _HINT: There should be 714 rows in your cleaned data set._"
   ]
  },
  {
   "cell_type": "code",
   "execution_count": 95,
   "metadata": {},
   "outputs": [
    {
     "name": "stdout",
     "output_type": "stream",
     "text": [
      "714\n"
     ]
    }
   ],
   "source": [
    "\n",
    "dfT = df.dropna(subset = ['Survived','Pclass','Age','Sex'])\n",
    "totPas = len(dfTitanic)\n",
    "print (totPas)"
   ]
  },
  {
   "cell_type": "markdown",
   "metadata": {},
   "source": [
    "**Part D**: Compute the probability of survival of both men and women.  Then, compute the probability of survival of passengers in each of the 3 passenger classes.  Finally, compute the probabilities of survival and men and women *within* each passenger class (all 6 subsets).  Then, answer the following questions:\n",
    "* **(i)** When reviewing class survival probability, how do the results compare to the base survival probability results from **Part A**?\n",
    "* **(ii)** When reviewing gender survival probability, how do the results compare to the base survival probability results from **Part A**?\n",
    "* **(iii)** Within each passenger class, were men or women more/less/equally likely to survive?\n",
    "* **(iv)**  Did men in first class or women in third class have a higher survival probability?\n"
   ]
  },
  {
   "cell_type": "code",
   "execution_count": 96,
   "metadata": {},
   "outputs": [
    {
     "name": "stdout",
     "output_type": "stream",
     "text": [
      "Probability for male survival:  0.13025210084033614\n",
      "Probability for female survival:  0.2759103641456583\n",
      "Probability for first class passengers survival:  0.17086834733893558\n",
      "Probability for second class passengers survival:  0.11624649859943978\n",
      "Probability for third class passengers survival:  0.11904761904761904\n",
      "Probability for first class male passengers survival:  0.02225596120801262\n",
      "Probability for second class male passengers survival:  0.015141350657910224\n",
      "Probability for third class male passengers survival:  0.015506202480992397\n",
      "Probability for first class female passengers survival:  0.04714434793525254\n",
      "Probability for second class female passengers survival:  0.03207361375922919\n",
      "Probability for third class female passengers survival:  0.032846471922102174\n"
     ]
    }
   ],
   "source": [
    "male = df.loc[(df[\"Survived\"] == 1) & (df[\"Sex\"] == \"male\")]\n",
    "maleSurvived = np.sum(male[\"Survived\"] == 1) / len(df[\"Survived\"])\n",
    "\n",
    "female = df.loc[(df[\"Survived\"] == 1) & (df[\"Sex\"] == \"female\")]\n",
    "femaleSurvived = np.sum(female[\"Survived\"] == 1) / len(df[\"Survived\"])\n",
    "\n",
    "first = df.loc[(df[\"Pclass\"] == 1) & (df[\"Survived\"] == 1)]\n",
    "firstSurvived = np.sum(first[\"Survived\"] == 1) / len(df[\"Survived\"])\n",
    "\n",
    "second = df.loc[(df[\"Pclass\"] == 2) & (df[\"Survived\"] == 1)]\n",
    "secondSurvived = np.sum(second[\"Survived\"] == 1) / len(df[\"Survived\"])\n",
    "\n",
    "third = df.loc[(df[\"Pclass\"] == 3) & (df[\"Survived\"] == 1)]\n",
    "thirdSurvived = np.sum(third[\"Survived\"] == 1) / len(df[\"Survived\"])\n",
    "\n",
    "maleFirstSurvived = maleSurvived * firstSurvived\n",
    "maleSecondSurvived = maleSurvived * secondSurvived\n",
    "maleThirdSurvived = maleSurvived * thirdSurvived\n",
    "\n",
    "femaleFirstSurvived = femaleSurvived * firstSurvived\n",
    "femaleSecondSurvived = femaleSurvived * secondSurvived\n",
    "femaleThirdSurvived = femaleSurvived * thirdSurvived\n",
    "\n",
    "\n",
    "print (\"Probability for male survival: \" , maleSurvived)\n",
    "\n",
    "print (\"Probability for female survival: \" , femaleSurvived)\n",
    "\n",
    "print (\"Probability for first class passengers survival: \" , firstSurvived)\n",
    "\n",
    "print (\"Probability for second class passengers survival: \" , secondSurvived)\n",
    "\n",
    "print (\"Probability for third class passengers survival: \" , thirdSurvived)\n",
    "\n",
    "print (\"Probability for first class male passengers survival: \" , maleFirstSurvived)\n",
    "\n",
    "print (\"Probability for second class male passengers survival: \" , maleSecondSurvived)\n",
    "\n",
    "print (\"Probability for third class male passengers survival: \" , maleThirdSurvived)\n",
    " \n",
    "print (\"Probability for first class female passengers survival: \" , femaleFirstSurvived)\n",
    "\n",
    "print (\"Probability for second class female passengers survival: \" , femaleSecondSurvived)\n",
    "\n",
    "print (\"Probability for third class female passengers survival: \" , femaleThirdSurvived)\n"
   ]
  },
  {
   "cell_type": "markdown",
   "metadata": {},
   "source": [
    "i) Likely hood of being anygiven class survivor is lower, because this statistic is based on how likely you are to be in said class aswell as survive.\n",
    "\n",
    "ii) Men and women hav a lower chance to survive for the same reason.\n",
    "\n",
    "iii) in all 3 classes women were more likely to survive.\n",
    "\n",
    "iv) 3rd class women have the more likely chance to survive."
   ]
  },
  {
   "cell_type": "markdown",
   "metadata": {},
   "source": [
    "**Part E**: One might wonder how a passenger's age is related to the likelihood that they would survive the Titanic disaster. In addition to the \"male chivalry\" argument outlined above, you can perhaps imagine an addendum - \"women and children first!\" - as the cry to ring out across the decks. Or you might imagine the opposite - rather than \"class warfare\", it is simply healthy adults fighting to take lifeboat spots for themselves.\n",
    "\n",
    "To answer this question graphically, plot two density histograms on the *same set* of axes, showing the distribution of the ages of passengers who survived, and the distribution of the ages of passengers who did not.  This means that the two axes should overlap. \n",
    "* Use the bin edges $[0,4,8,\\ldots,72,76,80]$ for both histograms.\n",
    "* To better distinguish between our populations, we will represent survivors with `darkgreen` and the passed with `red`.\n",
    "* As you plot both histograms on a single set of axes you should use Matplotlib/Pandas plotting functionality to make the faces of the histogram boxes somewhat transparent, so both histograms are visible and their overlap becomes a blend of the two colors.\n",
    "* Include a legend and label your axes.\n",
    "* Comment on the results. Does your figure suggest that some age ranges are more or less likely to have survived the disaster than other ages? Fully explain your reasoning and use your figure to justify your conclusions.\n",
    "* If you noticed some relationship between age and likelihood of survival, what is one possible explanation?"
   ]
  },
  {
   "cell_type": "code",
   "execution_count": 99,
   "metadata": {},
   "outputs": [
    {
     "data": {
      "text/plain": [
       "<matplotlib.legend.Legend at 0x1b3197732e0>"
      ]
     },
     "execution_count": 99,
     "metadata": {},
     "output_type": "execute_result"
    },
    {
     "data": {
      "image/png": "[encoded data removed]",
      "text/plain": [
       "<Figure size 576x432 with 1 Axes>"
      ]
     },
     "metadata": {
      "needs_background": "light"
     },
     "output_type": "display_data"
    }
   ],
   "source": [
    "my_bins = range(0,80,3)\n",
    "fig, ax = plt.subplots (figsize = (8,6))\n",
    "dfTitanic.loc[dfTitanic[\"Survived\"]== 1].hist(column=\"Age\", ax=ax, bins = my_bins, alpha = .5, label = \"Survived\", facecolor=\"darkgreen\", edgecolor=\"white\")\n",
    "dfTitanic.loc[dfTitanic[\"Survived\"]== 0].hist(column=\"Age\", ax=ax, bins = my_bins, alpha = .5, label = \"Did Not Survive\", facecolor=\"red\", edgecolor=\"white\")\n",
    "\n",
    "ax.set_title(\"Ages Who Survived or Not\", fontsize=20)\n",
    "ax.set_xlabel(\"Age\", fontsize = 20)\n",
    "ax.set_ylabel(\"Passengers\", fontsize = 20)\n",
    "plt.legend(loc = \"upper right\")\n",
    "\n"
   ]
  },
  {
   "cell_type": "markdown",
   "metadata": {},
   "source": [
    "The obvious answer to jump to is that you're more likely to survive at \n",
    "the ages from 0-5, and in general at a younger age.  The exeption being \n",
    "at the age of 9-12, where the death rate is one of the highest.  \n",
    "\n",
    "Other than that, you are much more likely to die at the age of \n",
    "about 18-48, so a very large age range."
   ]
  },
  {
   "cell_type": "markdown",
   "metadata": {},
   "source": [
    "**Part F:** In Part E, we plotted two *density* histograms, showing the distributions of ages of passengers that survived or did not survive the Titanic disaster. Why would it be misleading for us to have plotted these as *frequency* histograms instead?"
   ]
  },
  {
   "cell_type": "markdown",
   "metadata": {},
   "source": [
    "Because the data set is so large, it would make the data misleading as every bar would have a high of 1."
   ]
  },
  {
   "cell_type": "markdown",
   "metadata": {},
   "source": [
    "**Part G**: Do the data suggest class warfare, male chivalry, age bias, or some combination of these characteristics in the final hours aboard the Titanic?  Justify your conclusions based on the computations done above, or do any other analysis that you like, but be sure to clearly justify your conclusions."
   ]
  },
  {
   "cell_type": "markdown",
   "metadata": {},
   "source": [
    "In General, women are going to have the best luck surviving compared to the rest of the population.  When it comes to age, very young children have a much better chance than that of people that are 9+.  Lastly being in a higher class made it more likely to survive aswell, but over all the women have the largest advantage over everyone else to survive."
   ]
  },
  {
   "cell_type": "markdown",
   "metadata": {},
   "source": [
    "**Part H**: In lecture we described some types of sampling from a *sample frame*.  Perform the following operations:\n",
    "\n",
    "1) Since the overall ship had around 65% men, create a *sample* of distinct passengers from the overall ship that consists of exactly 13 randomly chosen men and 7 randomly chosen women.  Report the proportion of those passengers that survived.\n",
    "\n",
    "2) Repeat the sampling process from part 1) 1000 times.  Report the **mean** survival proportion of those 1000 samples.  Is this close to the survival rate in part A?  Why or why not?\n",
    "\n",
    "3) Make a histogram of the 1000 sample means from parth H2.  Include an indicator of the mean your computed in H2 on the histogram.\n",
    "\n",
    "4) What is the name for this sort of sample?\n"
   ]
  },
  {
   "cell_type": "code",
   "execution_count": null,
   "metadata": {},
   "outputs": [],
   "source": []
  },
  {
   "cell_type": "markdown",
   "metadata": {},
   "source": [
    "**Typeset your response here**\n"
   ]
  }
 ],
 "metadata": {
  "kernelspec": {
   "display_name": "Python 3",
   "language": "python",
   "name": "python3"
  },
  "language_info": {
   "codemirror_mode": {
    "name": "ipython",
    "version": 3
   },
   "file_extension": ".py",
   "mimetype": "text/x-python",
   "name": "python",
   "nbconvert_exporter": "python",
   "pygments_lexer": "ipython3",
   "version": "3.8.3"
  }
 },
 "nbformat": 4,
 "nbformat_minor": 2
}
