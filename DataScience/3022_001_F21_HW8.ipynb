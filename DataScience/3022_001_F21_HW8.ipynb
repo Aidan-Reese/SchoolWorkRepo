{
 "cells": [
  {
   "cell_type": "markdown",
   "metadata": {},
   "source": [
    "<a id='top'></a>\n",
    "\n",
    "# CSCI3022 F21\n",
    "# Homework 8: Confidence, Testing, Small Samples\n",
    "***\n",
    "\n",
    "**Name**: Aidan Reese\n",
    "\n",
    "***\n",
    "\n",
    "This assignment is due on Canvas (as .ipynb) and Gradescope (as a .pdf) by **MIDNIGHT on Wed 17 Nov**. Your solutions to theoretical questions should be done in Markdown directly below the associated question.  Your solutions to computational questions should include any specified Python code and results as well as written commentary on your conclusions.  Remember that you are encouraged to discuss the problems with your classmates, but **you must write all code and solutions on your own**.\n",
    "\n",
    "**NOTES**: \n",
    "\n",
    "- Any relevant data sets should be available on Canvas. To make life easier on the graders if they need to run your code, do not change the relative path names here. Instead, move the files around on your computer.\n",
    "- If you're not familiar with typesetting math directly into Markdown then by all means, do your work on paper first and then typeset it later.  Here is a [reference guide](https://math.meta.stackexchange.com/questions/5020/mathjax-basic-tutorial-and-quick-reference) linked on Canvas on writing math in Markdown. **All** of your written commentary, justifications and mathematical work should be in Markdown.  I also recommend the [wikibook](https://en.wikibooks.org/wiki/LaTeX) for LaTex.\n",
    "- Because you can technically evaluate notebook cells is a non-linear order, it's a good idea to do **Kernel $\\rightarrow$ Restart & Run All** as a check before submitting your solutions.  That way if we need to run your code you will know that it will work as expected. \n",
    "- It is **bad form** to make your reader interpret numerical output from your code.  If a question asks you to compute some value from the data you should show your code output **AND** write a summary of the results in Markdown directly below your code. \n",
    "- 45 points of this assignment are in problems.  The remaining 5 are for neatness, style, and overall exposition of both code and text.\n",
    "- This probably goes without saying, but... For any question that asks you to calculate something, you **must show all work and justify your answers to receive credit**. Sparse or nonexistent work will receive sparse or nonexistent credit. \n",
    "\n",
    "---\n",
    "**Shortcuts:**  [Problem 1](#p1) | [Problem 2](#p2) |\n",
    "---"
   ]
  },
  {
   "cell_type": "code",
   "execution_count": 2,
   "metadata": {},
   "outputs": [],
   "source": [
    "import numpy as np\n",
    "import pandas as pd\n",
    "import matplotlib.pylab as plt\n",
    "import scipy.stats as stats\n",
    "import itertools\n",
    "%matplotlib inline"
   ]
  },
  {
   "cell_type": "markdown",
   "metadata": {},
   "source": [
    "<br>\n",
    "\n",
    "---\n",
    "<a/ id='p1'></a>\n",
    "[Back to top](#top)\n",
    "## Problem 1 (Small Samples; 20 points)\n",
    "\n",
    "Consider the `hubble.csv` data set we used in nb15. In that example, we used the large-sample normal approximation and used it to calculate a confidence interval for the mean of a galaxy's distance from Earth in Mega parsecs (column `x` of the data).\n",
    "\n",
    "Unfortunately, the data was only 24 observations!  What could we have done instead?\n"
   ]
  },
  {
   "cell_type": "code",
   "execution_count": 13,
   "metadata": {},
   "outputs": [
    {
     "data": {
      "text/html": [
       "<div>\n",
       "<style scoped>\n",
       "    .dataframe tbody tr th:only-of-type {\n",
       "        vertical-align: middle;\n",
       "    }\n",
       "\n",
       "    .dataframe tbody tr th {\n",
       "        vertical-align: top;\n",
       "    }\n",
       "\n",
       "    .dataframe thead th {\n",
       "        text-align: right;\n",
       "    }\n",
       "</style>\n",
       "<table border=\"1\" class=\"dataframe\">\n",
       "  <thead>\n",
       "    <tr style=\"text-align: right;\">\n",
       "      <th></th>\n",
       "      <th>Galaxy</th>\n",
       "      <th>y</th>\n",
       "      <th>x</th>\n",
       "    </tr>\n",
       "  </thead>\n",
       "  <tbody>\n",
       "    <tr>\n",
       "      <th>0</th>\n",
       "      <td>NGC0300</td>\n",
       "      <td>133</td>\n",
       "      <td>2.00</td>\n",
       "    </tr>\n",
       "    <tr>\n",
       "      <th>1</th>\n",
       "      <td>NGC0925</td>\n",
       "      <td>664</td>\n",
       "      <td>9.16</td>\n",
       "    </tr>\n",
       "    <tr>\n",
       "      <th>2</th>\n",
       "      <td>NGC1326A</td>\n",
       "      <td>1794</td>\n",
       "      <td>16.14</td>\n",
       "    </tr>\n",
       "    <tr>\n",
       "      <th>3</th>\n",
       "      <td>NGC1365</td>\n",
       "      <td>1594</td>\n",
       "      <td>17.95</td>\n",
       "    </tr>\n",
       "    <tr>\n",
       "      <th>4</th>\n",
       "      <td>NGC1425</td>\n",
       "      <td>1473</td>\n",
       "      <td>21.88</td>\n",
       "    </tr>\n",
       "    <tr>\n",
       "      <th>5</th>\n",
       "      <td>NGC2403</td>\n",
       "      <td>278</td>\n",
       "      <td>3.22</td>\n",
       "    </tr>\n",
       "    <tr>\n",
       "      <th>6</th>\n",
       "      <td>NGC2541</td>\n",
       "      <td>714</td>\n",
       "      <td>11.22</td>\n",
       "    </tr>\n",
       "    <tr>\n",
       "      <th>7</th>\n",
       "      <td>NGC2090</td>\n",
       "      <td>882</td>\n",
       "      <td>11.75</td>\n",
       "    </tr>\n",
       "    <tr>\n",
       "      <th>8</th>\n",
       "      <td>NGC3031</td>\n",
       "      <td>80</td>\n",
       "      <td>3.63</td>\n",
       "    </tr>\n",
       "    <tr>\n",
       "      <th>9</th>\n",
       "      <td>NGC3198</td>\n",
       "      <td>772</td>\n",
       "      <td>13.80</td>\n",
       "    </tr>\n",
       "  </tbody>\n",
       "</table>\n",
       "</div>"
      ],
      "text/plain": [
       "     Galaxy     y      x\n",
       "0   NGC0300   133   2.00\n",
       "1   NGC0925   664   9.16\n",
       "2  NGC1326A  1794  16.14\n",
       "3   NGC1365  1594  17.95\n",
       "4   NGC1425  1473  21.88\n",
       "5   NGC2403   278   3.22\n",
       "6   NGC2541   714  11.22\n",
       "7   NGC2090   882  11.75\n",
       "8   NGC3031    80   3.63\n",
       "9   NGC3198   772  13.80"
      ]
     },
     "execution_count": 13,
     "metadata": {},
     "output_type": "execute_result"
    }
   ],
   "source": [
    "# Path to the data - select the path that works for you \n",
    "file_path = '../data/hubble.csv'\n",
    "\n",
    "# Load the data into a DataFrame \n",
    "df = pd.read_csv(file_path)\n",
    "df.head(10)"
   ]
  },
  {
   "cell_type": "markdown",
   "metadata": {},
   "source": [
    "\n",
    "**Part A**:\n",
    "\n",
    "Make a histogram of the data and overlay the theoretical density of the normal with mean $\\bar{X}$ and variance $s^2$.  How closely do the data follow the histogram?\n"
   ]
  },
  {
   "cell_type": "code",
   "execution_count": 66,
   "metadata": {},
   "outputs": [
    {
     "name": "stdout",
     "output_type": "stream",
     "text": [
      "They dont allign much at all, X does a little more than Y but not much.\n"
     ]
    },
    {
     "data": {
      "image/png": "[encoded data removed]",
      "text/plain": [
       "<Figure size 576x1440 with 2 Axes>"
      ]
     },
     "metadata": {
      "needs_background": "light"
     },
     "output_type": "display_data"
    }
   ],
   "source": [
    "fig, axes = plt.subplots(nrows=2, ncols=1, figsize=(8,20))\n",
    "\n",
    "df['x'].plot.density(ax=axes[0])\n",
    "df['x'].hist(ax=axes[0], density = True)\n",
    "df['y'].plot.density(ax=axes[1])\n",
    "df['y'].hist(ax=axes[1], color = 'red', density = True)\n",
    "\n",
    "print(\"They dont allign much at all, X does a little more than Y but not much.\")"
   ]
  },
  {
   "cell_type": "markdown",
   "metadata": {},
   "source": [
    "**Part B**:\n",
    "\n",
    "Things may not look perfectly normal in part A... but let's perform the tests that require normality anyways:\n",
    "\n",
    "For Part B only, assume each observation is independent and identically distributed as a normal random variable.\n",
    "\n",
    "- Create a 95% confidence interval for the mean of a galaxy's distance from Earth in Mega parsecs.\n",
    "- Create a 95% confidence interval for the standard deviation of a galaxy's distance from Earth in Mega parsecs."
   ]
  },
  {
   "cell_type": "code",
   "execution_count": null,
   "metadata": {},
   "outputs": [],
   "source": []
  },
  {
   "cell_type": "markdown",
   "metadata": {},
   "source": [
    "**Part C**:\n",
    "\n",
    "For part C only, assume each observation is independent and identically distributed but is **not** normally distributed.  Instead, use bootstrapping to:\n",
    "\n",
    "- Create a 95% confidence interval for the mean of a galaxy's distance from Earth in Mega parsecs.\n",
    "- Create a 95% confidence interval for the standard deviation of a galaxy's distance from Earth in Mega parsecs.\n",
    "- Create a 95% confidence interval for the interquartile range (both lower and upper quartiles) of a galaxy's distance from Earth in Mega parsecs.\n",
    "\n",
    "Use 10,000 bootstrapped samples to make the statistics above."
   ]
  },
  {
   "cell_type": "code",
   "execution_count": null,
   "metadata": {},
   "outputs": [],
   "source": []
  },
  {
   "cell_type": "markdown",
   "metadata": {},
   "source": [
    "<br>\n",
    "\n",
    "---\n",
    "<a/ id='p2'></a>\n",
    "[Back to top](#top)\n",
    "\n",
    "## Problem 2 (Hypotheses and Simulation; 25 points)\n",
    "***\n",
    "\n",
    "In hypothesis testing, we typically ask \"what is the probability of observing *this* test statistic if everything is fair/random.\"  Often, we reach this probability via test statistics on known distributions (`Z`, `T`, proportions, sample variances, etc.).  We then draw conclusions like \"that doesn't look random!  It's extremely unlikely to happen under the **null hypothesis**, so we reject that hypothesis.\"\n",
    "\n",
    "However, if we can **simulate**, we can leverage our (arbitrarily) large sample size to generate the same probabilities used for hypothesis tests *without* converting into an intermediate distribution.  In other words, you should make **no distributional assumptions** in this problem.\n",
    "\n",
    "Suppose we're about to play a newly invented \"game\" of chance.\n",
    "\n",
    "In this game, you:\n",
    "\n",
    "    1) Roll a single (fair) 6-sided die.  The value of the upward face of the die is your score.\n",
    "    \n",
    "    2) Roll a number of 6-sided dice equal to your score in 1).  Add the value of the upward faces of the die to your score.\n",
    "    \n",
    "    3) Continue to roll a number additional dice equal to exactly what was face-up on your previous roll, adding the result to your score.\n",
    "    \n",
    "    4) If at any time, you've rolled 20 or more dice with the *same* value showing, do not roll again.  Simply add the current result to your score and stop.\n",
    "\n",
    "Not being in the mood to solve an incredibly tedious discrete probability problem, you decide to *simulate* the game to get a feeling for what a reasonable score is.\n",
    "\n",
    "One simulation might be:\n",
    "\n",
    "    1) Zach rolls a '5'.  Score is 5.\n",
    "    2) Zach rolls '1, 2, 2, 5, 6'.  Add 16, so score is now 21.\n",
    "    3) Zach rolls 16 dice.  He adds the resulting faces (in this case, 51) to his score, which is now 72.\n",
    "    4) Zach rolls 51 dice and adds the resulting 163 to his score, making a score of 235.\n",
    "    5) He rolls once more - 163 dice - adding 500 for a score of 735.  This is his final score, as this last roll included 35 \"4's\" as the most common die face (and 35 is 20 or more).\n",
    "\n",
    "**Part A**: Simulate 10,000 \"plays\" of this game, saving all of the final scores as well as the first roll of each.  Report the average final score.\n",
    "\n",
    "NB: `np.unique` can be a good way to check if you have 20 or more of one face."
   ]
  },
  {
   "cell_type": "code",
   "execution_count": null,
   "metadata": {},
   "outputs": [],
   "source": []
  },
  {
   "cell_type": "markdown",
   "metadata": {},
   "source": [
    "**Part B**: Create a density histogram of the final scores.  Label axes, and include a title.  Does this appear to be normally distributed? Why would we care?\n",
    "    "
   ]
  },
  {
   "cell_type": "code",
   "execution_count": null,
   "metadata": {},
   "outputs": [],
   "source": []
  },
  {
   "cell_type": "markdown",
   "metadata": {},
   "source": []
  },
  {
   "cell_type": "markdown",
   "metadata": {},
   "source": [
    "**Part C**: Your friend (who really hates losing) approaches you and says \"I'm pretty sure this game is unfair and your dice are loaded.  I played 10 times and my average score was a 500!  There's no way that should happen on fair dice.\"\n",
    "\n",
    "**C1**: What is your estimated probability that a single game scores 500 or less?\n",
    "    \n",
    "**C2**: What would you estimate the probability to be that an average score of 10 games is 500 or less?\n",
    "     \n",
    "**C3**: Suppose we were to create a 1-tailed hypothesis test of the form \"I reject the null hypothesis that fair dice were used if a set of 10 games has an average score less than or equal to $c$.\"  What would you choose for $c$ if you wanted a probability of Type I error of .01 or less?\n",
    "\n",
    "**C4**: What do you tell your friend?"
   ]
  },
  {
   "cell_type": "code",
   "execution_count": null,
   "metadata": {},
   "outputs": [],
   "source": []
  },
  {
   "cell_type": "markdown",
   "metadata": {},
   "source": []
  },
  {
   "cell_type": "markdown",
   "metadata": {},
   "source": [
    "**Part D**: You decide that if you wanted to cheat your friend, it would make way more sense to weight the *first* die roll than try to find tens or hundreds of weighted dice.  Carefully justifying your answer with both numerical and visual results, how would you weight the die on the *first* roll to **minimize** your friends score?"
   ]
  },
  {
   "cell_type": "code",
   "execution_count": null,
   "metadata": {
    "scrolled": true
   },
   "outputs": [],
   "source": []
  }
 ],
 "metadata": {
  "kernelspec": {
   "display_name": "Python 3",
   "language": "python",
   "name": "python3"
  },
  "language_info": {
   "codemirror_mode": {
    "name": "ipython",
    "version": 3
   },
   "file_extension": ".py",
   "mimetype": "text/x-python",
   "name": "python",
   "nbconvert_exporter": "python",
   "pygments_lexer": "ipython3",
   "version": "3.8.3"
  }
 },
 "nbformat": 4,
 "nbformat_minor": 2
}
