{
 "cells": [
  {
   "cell_type": "markdown",
   "metadata": {},
   "source": [
    "<a id='top'></a>\n",
    "\n",
    "# CSCI3022 F21\n",
    "# Homework 7: Testing\n",
    "***\n",
    "\n",
    "**Name**: Aidan Reese\n",
    "\n",
    "***\n",
    "\n",
    "This assignment is due on Canvas (as .ipynb) and Gradescope (as a .pdf) by **MIDNIGHT on Wed 10 Nov**. Your solutions to theoretical questions should be done in Markdown directly below the associated question.  Your solutions to computational questions should include any specified Python code and results as well as written commentary on your conclusions.  Remember that you are encouraged to discuss the problems with your classmates, but **you must write all code and solutions on your own**.\n",
    "\n",
    "**NOTES**: \n",
    "\n",
    "- Any relevant data sets should be available on Canvas. To make life easier on the graders if they need to run your code, do not change the relative path names here. Instead, move the files around on your computer.\n",
    "- If you're not familiar with typesetting math directly into Markdown then by all means, do your work on paper first and then typeset it later.  Here is a [reference guide](https://math.meta.stackexchange.com/questions/5020/mathjax-basic-tutorial-and-quick-reference) linked on Canvas on writing math in Markdown. **All** of your written commentary, justifications and mathematical work should be in Markdown.  I also recommend the [wikibook](https://en.wikibooks.org/wiki/LaTeX) for LaTex.\n",
    "- Because you can technically evaluate notebook cells is a non-linear order, it's a good idea to do **Kernel $\\rightarrow$ Restart & Run All** as a check before submitting your solutions.  That way if we need to run your code you will know that it will work as expected. \n",
    "- It is **bad form** to make your reader interpret numerical output from your code.  If a question asks you to compute some value from the data you should show your code output **AND** write a summary of the results in Markdown directly below your code. \n",
    "- 45 points of this assignment are in problems.  The remaining 5 are for neatness, style, and overall exposition of both code and text.\n",
    "- This probably goes without saying, but... For any question that asks you to calculate something, you **must show all work and justify your answers to receive credit**. Sparse or nonexistent work will receive sparse or nonexistent credit. \n",
    "\n",
    "---\n",
    "**Shortcuts:**  [Problem 1](#p1) | [Problem 2](#p2) | [Problem 3](#p3) |\n",
    "---"
   ]
  },
  {
   "cell_type": "code",
   "execution_count": 7,
   "metadata": {},
   "outputs": [
    {
     "data": {
      "text/html": [
       "<div>\n",
       "<style scoped>\n",
       "    .dataframe tbody tr th:only-of-type {\n",
       "        vertical-align: middle;\n",
       "    }\n",
       "\n",
       "    .dataframe tbody tr th {\n",
       "        vertical-align: top;\n",
       "    }\n",
       "\n",
       "    .dataframe thead th {\n",
       "        text-align: right;\n",
       "    }\n",
       "</style>\n",
       "<table border=\"1\" class=\"dataframe\">\n",
       "  <thead>\n",
       "    <tr style=\"text-align: right;\">\n",
       "      <th></th>\n",
       "      <th>AD</th>\n",
       "      <th>Full-flowering date (DOY)</th>\n",
       "    </tr>\n",
       "  </thead>\n",
       "  <tbody>\n",
       "    <tr>\n",
       "      <th>0</th>\n",
       "      <td>801</td>\n",
       "      <td>NaN</td>\n",
       "    </tr>\n",
       "    <tr>\n",
       "      <th>1</th>\n",
       "      <td>802</td>\n",
       "      <td>NaN</td>\n",
       "    </tr>\n",
       "    <tr>\n",
       "      <th>2</th>\n",
       "      <td>803</td>\n",
       "      <td>NaN</td>\n",
       "    </tr>\n",
       "    <tr>\n",
       "      <th>3</th>\n",
       "      <td>804</td>\n",
       "      <td>NaN</td>\n",
       "    </tr>\n",
       "    <tr>\n",
       "      <th>4</th>\n",
       "      <td>805</td>\n",
       "      <td>NaN</td>\n",
       "    </tr>\n",
       "  </tbody>\n",
       "</table>\n",
       "</div>"
      ],
      "text/plain": [
       "    AD  Full-flowering date (DOY)\n",
       "0  801                        NaN\n",
       "1  802                        NaN\n",
       "2  803                        NaN\n",
       "3  804                        NaN\n",
       "4  805                        NaN"
      ]
     },
     "execution_count": 7,
     "metadata": {},
     "output_type": "execute_result"
    }
   ],
   "source": [
    "import numpy as np\n",
    "import pandas as pd\n",
    "import matplotlib.pylab as plt\n",
    "import scipy.stats as stats\n",
    "import itertools\n",
    "%matplotlib inline\n",
    "\n",
    "filepath = '../Data/kyotoflowers.csv'\n",
    "df = pd.read_csv(filepath)\n",
    "df.head()"
   ]
  },
  {
   "cell_type": "markdown",
   "metadata": {},
   "source": [
    "<br>\n",
    "\n",
    "---\n",
    "<a/ id='p1'></a>\n",
    "[Back to top](#top)\n",
    "## [20 points] Problem 1- Time and Testing \n",
    "\n",
    "The beautiful cheryr blossoms of Kyoto bloomed their earliest day on record this year, signalling an early start to spring!   (see: [Washington Post](https://www.washingtonpost.com/weather/2021/03/29/japan-kyoto-cherry-blossoms-record/))  Does this mean anything?  Is this evidence of climate change?\n"
   ]
  },
  {
   "cell_type": "markdown",
   "metadata": {},
   "source": [
    "**Part A**: Load in the data set in `kyotoflowers.csv`, a UTF-8 encoded CSV file.  The file contains two columns (with a header).\n",
    "\n",
    "- `AD`. : Year in Gregorian calendar (Year)\n",
    "- `Full-flowering date (DOY)` : Full-flowering date in Gregorian calendar (FuFD)\n",
    "\n",
    "Citations:\n",
    "Full-flowering Dates of Prunus jamasakura in Kyoto City (Plain Text Version)\n",
    "(for 9th to 14th centuries: Aono and Saito, 2010; Int. J. Biometeorol.,54, 211-219)\n",
    "(for 15th to 21st centuries: Aono and Kazui, 2008; Int. J. Climatol., 28, 905-914)\n",
    "\n",
    "Begin with a **Histogram** of the data.  Label axes and choose an appropriate number of bins.  Does this data appear to be approximately normally distributed?"
   ]
  },
  {
   "cell_type": "code",
   "execution_count": 8,
   "metadata": {},
   "outputs": [
    {
     "data": {
      "text/plain": [
       "Text(0.5, 0, 'Flowering Date')"
      ]
     },
     "execution_count": 8,
     "metadata": {},
     "output_type": "execute_result"
    },
    {
     "data": {
      "image/png": "[encoded data removed]",
      "text/plain": [
       "<Figure size 432x288 with 1 Axes>"
      ]
     },
     "metadata": {
      "needs_background": "light"
     },
     "output_type": "display_data"
    }
   ],
   "source": [
    "\n",
    "plot = df.plot( x='AD',y='Full-flowering date (DOY)' , kind='hist', bins = 20)\n",
    "plot.set_xlabel(\"Flowering Date\", fontsize=16)"
   ]
  },
  {
   "cell_type": "markdown",
   "metadata": {},
   "source": [
    "**Part B**:Create a line plot where `Year` is the horizontal axis and `FuFD`is the vertical axis.  Do there *visually* appear to be any patterns?"
   ]
  },
  {
   "cell_type": "code",
   "execution_count": 9,
   "metadata": {},
   "outputs": [
    {
     "data": {
      "text/plain": [
       "<matplotlib.axes._subplots.AxesSubplot at 0x21e6ab5d730>"
      ]
     },
     "execution_count": 9,
     "metadata": {},
     "output_type": "execute_result"
    },
    {
     "data": {
      "image/png": "[encoded data removed]",
      "text/plain": [
       "<Figure size 432x288 with 1 Axes>"
      ]
     },
     "metadata": {
      "needs_background": "light"
     },
     "output_type": "display_data"
    }
   ],
   "source": [
    "df['Full-flowering date (DOY)'].groupby(df['AD']).mean().plot()\n"
   ]
  },
  {
   "cell_type": "markdown",
   "metadata": {},
   "source": [
    "The Only patterns I can see is that there is more and more data going into later years."
   ]
  },
  {
   "cell_type": "markdown",
   "metadata": {},
   "source": [
    "**Part C**: Print out a Tukey five-number summary for the set of full-flowering dates, as well as its mean and standard deviation."
   ]
  },
  {
   "cell_type": "code",
   "execution_count": 10,
   "metadata": {},
   "outputs": [
    {
     "name": "stdout",
     "output_type": "stream",
     "text": [
      "Min   :  85.0\n",
      "Max   :  124.0\n",
      "Stdv  :  6.472257778718649\n",
      "Mean  :  104.45378151260505\n",
      "Median:  104.0\n"
     ]
    }
   ],
   "source": [
    "print(\"Min   : \" , np.min(df['Full-flowering date (DOY)']))\n",
    "print(\"Max   : \" ,np.max(df['Full-flowering date (DOY)']))\n",
    "print(\"Stdv  : \" ,np.std(df['Full-flowering date (DOY)']))\n",
    "print(\"Mean  : \" ,np.mean(df['Full-flowering date (DOY)']))\n",
    "df2 = df.dropna()\n",
    "print(\"Median: \" ,np.median(df2['Full-flowering date (DOY)']))"
   ]
  },
  {
   "cell_type": "markdown",
   "metadata": {},
   "source": [
    "**Part D**: Suppose we wish to approach the question: is the flowering date becoming *earlier*?\n",
    "\n",
    "Hypothesis tests give us a clear way to do this!  We can compare e.g. the last $n$ years of data to **all** the years that came before them and ask if they're coming from distributions with the same *means*.\n",
    "\n",
    "Suppose we take the most recent 12 years of dates, from 2010-2021.  What is the mean full-flowering date for those years?  Perform a hypothesis test at $\\alpha=0.01$ testing whether or not the mean from this interval is the same as the mean for the prior **all**-observed years.  If you reject the null hypothesis, output a confidence interval for the different in mean full-flowering dates for the two sets of years.\n",
    "\n",
    "Write a sentence interpreting your results.\n",
    "\n",
    "**Note:** there are a lot of missing observations, especially for centuries ago. Make sure you're properly not including these in in $n$ any variance/confidence/etc. calculations."
   ]
  },
  {
   "cell_type": "code",
   "execution_count": 21,
   "metadata": {},
   "outputs": [
    {
     "name": "stdout",
     "output_type": "stream",
     "text": [
      "Mean Flowering date from 2010 to 2021 :  94.16666666666667\n",
      "Mean Flowering date For All Data :  104.45378151260505\n",
      "Zscore :  8.445132094939195\n",
      "Because the Zscore is so large we Reject the Null hypothisis\n",
      "\n",
      "CI All Data : [ 104.93088770545242 , 103.97667531975767 ]\n",
      "CI 10-21 Data : [ 97.3043146716067 , 91.02901866172664 ]\n"
     ]
    }
   ],
   "source": [
    "df1021 = df.loc[df['AD'] >= 2010].dropna()\n",
    "\n",
    "dfLength = len(df)\n",
    "dataMean = np.mean(df['Full-flowering date (DOY)'])\n",
    "dataStdv = np.std(df['Full-flowering date (DOY)'])\n",
    "\n",
    "Zscore = stats.norm.ppf(.995)\n",
    "\n",
    "dfLength1 = len(df1021)\n",
    "dataMean1 = np.mean(df1021['Full-flowering date (DOY)'])\n",
    "dataStdv1 = np.std(df1021['Full-flowering date (DOY)'])\n",
    "\n",
    "\n",
    "print(\"Mean Flowering date from 2010 to 2021 : \", np.mean(df1021['Full-flowering date (DOY)']))\n",
    "print(\"Mean Flowering date For All Data : \", np.mean(df['Full-flowering date (DOY)']))\n",
    "print(\"Zscore : \", (dataMean-dataMean1)/(dataStdv1/np.sqrt(dfLength1)))\n",
    "\n",
    "print()\n",
    "print(\"Because the Zscore is so large we Reject the Null hypothisis\")\n",
    "print()\n",
    "\n",
    "print(\"CI All Data : [\", dataMean+(Zscore*(dataStdv/np.sqrt(dfLength))),\",\", dataMean-(Zscore*(dataStdv/np.sqrt(dfLength))), \"]\")\n",
    "print(\"CI 10-21 Data : [\", dataMean1+(Zscore*(dataStdv1/np.sqrt(dfLength1))),\",\", dataMean1-(Zscore*(dataStdv1/np.sqrt(dfLength1))), \"]\")"
   ]
  },
  {
   "cell_type": "markdown",
   "metadata": {},
   "source": []
  },
  {
   "cell_type": "markdown",
   "metadata": {},
   "source": [
    "Was the test in part D appropriate to answer a broad question like \"does the full flowering data reflect the presence of global warming?\"  What tests could we have run instead?"
   ]
  },
  {
   "cell_type": "markdown",
   "metadata": {},
   "source": [
    "While the test was able to give us better insight into the question it's hard to say that we can confirm global warming with one test.  While the data certainly points to global warming being the case we need more data about the how and why global warming could be effecting this.  We can only do so much with this little data."
   ]
  },
  {
   "cell_type": "markdown",
   "metadata": {},
   "source": [
    "**Part F**: We should have rejected the null hypothesis in Part D.  But sometimes, people do some shifty things with data.  And we could, too!  One way to be statistically disingenuous is known as $p$-fishing or $p$-hacking.  This process represent the idea of \"cherry-picking\" through our data to find *subsets* of the data that most support a desired conclusion.\n",
    "\n",
    "Suppose we - for whatever reason - really wish to use this data set to come to the conclusion that \"there is no difference in full flowering datas between now and the past.\"  To support this conclusion, we devise the following idea:\n",
    "\n",
    "- Consider *every single* list of 12 consecutive years starting with 1600-1611, then 1601-1612, then 1602-1613.\n",
    "- For *each* one of those 12-year intervals, generate the 99% confidence interval for the difference in the mean `FuFD`  over  those 12 years' to the mean from most recent 12 years from 2010-2021.\n",
    "\n",
    "From that list of confidence intervals, print out a list of **every** starting year for an interval that contains zero. (e.g if the confidence interval for comparing 1618-1632 to 2007-2021 contains zero, then print `1618`.)  Report:\n",
    "- The earliest date of such an interval containing zero.\n",
    "- The latest date where such an interval **does not** contain zero.\n",
    "\n",
    "Then write two sentences of how you could interpret those two results to conclude *either* that the flowering dates are getting earlier **or** that they are not getting earlier."
   ]
  },
  {
   "cell_type": "code",
   "execution_count": 59,
   "metadata": {},
   "outputs": [
    {
     "name": "stdout",
     "output_type": "stream",
     "text": [
      "1986\n",
      "1987\n",
      "1988\n",
      "1989\n",
      "1990\n",
      "1992\n",
      "1996\n",
      "1997\n",
      "1998\n",
      "2002\n",
      "2004\n",
      "2006\n",
      "2007\n",
      "2008\n",
      "2009\n"
     ]
    }
   ],
   "source": [
    "NotList = []\n",
    "yearList = []\n",
    "Zscore = stats.norm.ppf(.99)\n",
    "for Year in range(1600,2010):\n",
    "    Nsum = 0\n",
    "    Subdf = df.loc[(df['AD'] >= Year) & (df['AD'] <= Year+12)]\n",
    "    Smean = np.mean(Subdf['Full-flowering date (DOY)'])\n",
    "    Sstdv = np.std(Subdf['Full-flowering date (DOY)'])\n",
    "    Slen = len(Subdf)\n",
    "    Meandif = Smean- dataMean1\n",
    "    \n",
    "    HighBound = Meandif+(Zscore*(Sstdv/np.sqrt(Slen)))\n",
    "    LowBound = Meandif-(Zscore*(Sstdv/np.sqrt(Slen)))\n",
    "    \n",
    "    \n",
    "    if(HighBound > 0 and LowBound < 0):\n",
    "        print(Year)\n",
    "        yearList.append(Year)\n",
    "    else:\n",
    "        NotList.append(Year)"
   ]
  },
  {
   "cell_type": "markdown",
   "metadata": {},
   "source": [
    "**Solution Markdown:**\n"
   ]
  },
  {
   "cell_type": "markdown",
   "metadata": {},
   "source": [
    "We can claim that 1986 and 2010 have similar means and that the blooming date has not changed that much in the past few decades, in addition to that, the data has a gap in 2005, only 5 years ago, prooving the data can have decent variance from the 2010 data.\n",
    "\n",
    "On the other side, the amount of missing years (aka the years that have different means from 2010) are less frequent as we go along and get closer to 2010, proving that the mean today is different than it was 50 years ago."
   ]
  },
  {
   "cell_type": "markdown",
   "metadata": {},
   "source": [
    "<br>\n",
    "\n",
    "---\n",
    "<a/ id='p2'></a>\n",
    "[Back to top](#top)\n",
    "## [10 points] Problem 2: Testing and CI Theories; quick problems\n",
    "\n",
    "\n",
    "#### 2A (4 pts):\n",
    "Ready the article at the following link: https://tinyurl.com/y6sxe9n8.\n",
    "\n",
    "(If you have issues, log into the CU-libraries page, and search for the article \"The Proposal to Lower P Value Thresholds to .005,\" by John P. A. Ioannidis from JAMA 2018.)\n",
    "\n",
    "\n",
    "Then summarize it briefly (4-5 sentences), making sure you also answer the following: in what ways are scientists misusing p-values? Do you agree with the suggestion made in this article? What other suggestions are being made to\n",
    "use them properly?\n"
   ]
  },
  {
   "cell_type": "markdown",
   "metadata": {},
   "source": [
    "The most common way for people and scientists missuse the value of p is what it means.  The article talks about when p value is .02 the people often times think that this means something is 2% likely to be true and 98% likely to be false.  This is clearly a falasy and supports the articles argument that we need to continue to lower the standard for p.  They argue for a lower P value or other substitutes such as changing the p value from a threshhold to an exact value."
   ]
  },
  {
   "cell_type": "markdown",
   "metadata": {},
   "source": [
    "\n",
    "#### 2B (2pts):\n",
    "\n",
    "If you're doing quality control for the average strength of carbon fiber that will be used in airplane construction, and your alternative hypothesis is that the strength of the carbon is below tolerance, and therefore unsafe, would you rather have a low Type I error rate or a low Type II error rate?   **Justify** your answer in complete English sentences."
   ]
  },
  {
   "cell_type": "markdown",
   "metadata": {},
   "source": [
    "If we are discussing the saftey we would much rather have a false postive (Type 1), where we would think the carbon is below tolerance even if it isn't.  The other side would be if the carbon is about to fail and we wouldn't know about it.  So we would like to have less of the type 2 error."
   ]
  },
  {
   "cell_type": "markdown",
   "metadata": {},
   "source": [
    "#### 2C (4pts):\n",
    "In an 1881 study Michelson and Newcomb measured the time light took to travel 7.44373 kilometers. Inspecting their study and the descriptions of their 66 measurements, it is reasonable to assume that the data were iid.  Their measurements are below.\n",
    "\n",
    "Construct an approximate 99\\% confidence interval for the time light takes to travel 7400 meters.\n",
    "\n",
    "Then perform a hypothesis test on whether or not this value significant differs from the approximation that $c=3.0 \\cdot 10^8$ meters per second. (Note: The true vale of $c=299792458 \\frac{m}{s}$, and your confidence interval can be converted to $\\frac{s}{m}$.)"
   ]
  },
  {
   "cell_type": "code",
   "execution_count": 60,
   "metadata": {},
   "outputs": [],
   "source": [
    "data=[24.828,24.826,24.833,24.824,24.834,24.756,24.827,24.816,24.84,24.798,24.829,24.822,\\\n",
    "      24.824,24.821,24.825,24.83,24.823,24.829,24.831,24.819,24.824,24.82,24.836,24.832,\\\n",
    "      24.836,24.828,24.825,24.821,24.828,24.829,24.837,24.825,24.828,24.826,24.83,24.832,\\\n",
    "      24.836,24.826,24.83,24.822,24.836,24.823,24.827,24.827,24.828,24.827,24.831,24.827,\\\n",
    "      24.826,24.833,24.826,24.832,24.832,24.824,24.839,24.828,24.824,24.825,24.832,24.825,\\\n",
    "      24.829,24.827,24.828,24.829,24.816,24.823]"
   ]
  },
  {
   "cell_type": "code",
   "execution_count": 100,
   "metadata": {},
   "outputs": [
    {
     "name": "stdout",
     "output_type": "stream",
     "text": [
      "24.823158557768867 24.82926568465538\n",
      "4.915486336005792 0.26279058792390486\n"
     ]
    }
   ],
   "source": [
    "dMean = np.mean(data)\n",
    "dZscore= stats.norm.ppf(.99)\n",
    "dStdv = np.std(data)\n",
    "dLen = len(data)\n",
    "\n",
    "dHighBound = dMean+(dZscore*(dStdv/np.sqrt(dLen)))\n",
    "dLowBound = dMean-(dZscore*(dStdv/np.sqrt(dLen)))\n",
    "\n",
    "Light = (7.44373/(299792.458))*1000000\n",
    "\n",
    "print(dLowBound,dHighBound) #1000000 for ms to s * m to km\n",
    "\n",
    "ZHigh = (Light - dHighBound)/ (dStdv/np.sqrt(dLen))\n",
    "ZLow = (Light - dLowBound)/ (dStdv/np.sqrt(dLen))\n",
    "\n",
    "\n",
    "print(ZLow,ZHigh)\n"
   ]
  },
  {
   "cell_type": "markdown",
   "metadata": {},
   "source": [
    "<br>\n",
    "\n",
    "---\n",
    "<a/ id='p3'></a>\n",
    "[Back to top](#top)\n",
    "## [15 points] Problem 3 - The power!\n",
    "\n",
    "\n",
    "Let $Y$ be the number of heads in 100 tosses of a possibly biased coin, with probability of heads on any toss $p$. Similar to the Belgian Euro example, we hope to *test* whether the coin is biased **toward heads**.\n",
    "\n",
    "#### Part a)\n",
    "\n",
    "State the null and alternative hypotheses.\n"
   ]
  },
  {
   "cell_type": "markdown",
   "metadata": {},
   "source": [
    "Null hypotheses is the assumption that the coin is fair.\n",
    "Alternative hypotheses is that the coin is bais to heads.\n"
   ]
  },
  {
   "cell_type": "markdown",
   "metadata": {},
   "source": [
    "\n",
    "#### Part b)\n",
    "Suppose we define the rejection region to be $Y > 55$. \n",
    "\n",
    "Calculate the rate of type I error of this test. (For this, and all remaining parts, calculate probabilities **exactly**, i.e., without using a normal approximation)\n"
   ]
  },
  {
   "cell_type": "markdown",
   "metadata": {},
   "source": [
    "|(.55-p)|\n",
    "\n",
    "p = 50\n",
    "\n",
    ".05"
   ]
  },
  {
   "cell_type": "markdown",
   "metadata": {},
   "source": [
    "\n",
    "#### Part c)\n",
    "\n",
    "Simulate a single dataset (or appropriate summary of a dataset) under the null hypothesis, and apply your test from part (a). State your conclusion. Is your conclusion in error? If so, which type?\n",
    "\n",
    "Repeat this process 1000 times in total and verify that the error rate appears consistent with your calculations in part b).\n"
   ]
  },
  {
   "cell_type": "code",
   "execution_count": 127,
   "metadata": {},
   "outputs": [
    {
     "name": "stdout",
     "output_type": "stream",
     "text": [
      "0.124\n"
     ]
    }
   ],
   "source": [
    "rate = 0\n",
    "for i in range(0,1000):\n",
    "    flips = []\n",
    "    for k in range(0,100):\n",
    "        flip = np.random.rand()\n",
    "        if (flip > .5):\n",
    "            flips.append(1)#Heads is 1\n",
    "        else:\n",
    "            flips.append(0)\n",
    "    #print(sum(flips))\n",
    "    if(sum(flips)>55):\n",
    "        rate+=1\n",
    "\n",
    "print(rate/1000)"
   ]
  },
  {
   "cell_type": "markdown",
   "metadata": {},
   "source": [
    "\n",
    "#### Part d)\n",
    "Consider that the *reality* of a biased coin could take on any number of possible different values of actual bias $p$.  Construct a grid/list of possible values $p$ for the alternative hypothesis $p_{alt}=[0.51,0.52,0.53, \\dots .99, 1.00]$.\n",
    "\n",
    "For each value of $p$ in this list, calculate the power of the test from part $a$.  If possible, return exact values rather than simulated/estimated probabilities.\n",
    "\n",
    "(Recall: statistical **power** is the probability of rejecting the null hypothesis while the alternative hypothesis is true). \n",
    "\n",
    "Plot the power ($y$-axis) against $p$ ($x$-axis) over each of these scenarios. \n",
    "\n",
    "Interpret/comment on this plot. Specifically, as $p$ gets *further* from the specified $p=p_0$ under the null hypothesis, what happens to the power?"
   ]
  },
  {
   "cell_type": "code",
   "execution_count": 143,
   "metadata": {},
   "outputs": [
    {
     "data": {
      "text/plain": [
       "Text(0.5, 0, 'p')"
      ]
     },
     "execution_count": 143,
     "metadata": {},
     "output_type": "execute_result"
    },
    {
     "data": {
      "image/png": "[encoded data removed]",
      "text/plain": [
       "<Figure size 432x288 with 1 Axes>"
      ]
     },
     "metadata": {
      "needs_background": "light"
     },
     "output_type": "display_data"
    }
   ],
   "source": [
    "pList = []\n",
    "for i in range(51,101):\n",
    "    pList.append(i/100)\n",
    "    \n",
    "rateList = []\n",
    "for j in pList:\n",
    "    rate = 0\n",
    "    for h in range (0,100):\n",
    "        flips = []\n",
    "        for k in range(0,100):\n",
    "            flip = np.random.rand()\n",
    "            if (flip > .5):\n",
    "                flips.append(1)#Heads is 1\n",
    "            else:\n",
    "                flips.append(0)\n",
    "        #print(sum(flips))\n",
    "#         print(j)\n",
    "        if(sum(flips)<(j*100)):\n",
    "            rate+=1\n",
    "        \n",
    "    rateList.append(rate/100)\n",
    "plt.scatter(pList, rateList)\n",
    "plt.ylabel(\"Power\")\n",
    "plt.xlabel(\"p\")"
   ]
  },
  {
   "cell_type": "markdown",
   "metadata": {},
   "source": [
    "As p increases the Power approaches 1, and the null hypothesis becomes more deniable.  And obviously once p becomes larger than the rejection region (.55) then the Power pretty much stays right at 1 as most of the means are above .55."
   ]
  },
  {
   "cell_type": "markdown",
   "metadata": {},
   "source": [
    "#### Part e)\n",
    "\n",
    "(e) Suppose we allowed other rejection regions than $Y>55$.  Use the ideas in part (d) to answer the following: how many flips $m$ of a coin are necessary to achieve both $\\alpha=0.05$ **and** $\\beta=0.05$ for the hypothesis in part (a)?\n",
    "\n",
    "*Hint*: You can brute force this to find the first value of $n$ that satisfies the requirement.  It's quite a few flips..."
   ]
  },
  {
   "cell_type": "markdown",
   "metadata": {},
   "source": [
    "$Z_{\\alpha} = \\frac{.5-.55}{\\sqrt{n}}$\n",
    "\n",
    "$1.644 = {\\sqrt{n}}*{.05}$\n",
    "\n",
    "$n=1082$"
   ]
  },
  {
   "cell_type": "code",
   "execution_count": 144,
   "metadata": {},
   "outputs": [
    {
     "name": "stdout",
     "output_type": "stream",
     "text": [
      "1.6448536269514722\n"
     ]
    }
   ],
   "source": [
    "print(stats.norm.ppf(.95))"
   ]
  }
 ],
 "metadata": {
  "kernelspec": {
   "display_name": "Python 3",
   "language": "python",
   "name": "python3"
  },
  "language_info": {
   "codemirror_mode": {
    "name": "ipython",
    "version": 3
   },
   "file_extension": ".py",
   "mimetype": "text/x-python",
   "name": "python",
   "nbconvert_exporter": "python",
   "pygments_lexer": "ipython3",
   "version": "3.8.3"
  }
 },
 "nbformat": 4,
 "nbformat_minor": 2
}
